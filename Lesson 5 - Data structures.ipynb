{
 "cells": [
  {
   "cell_type": "markdown",
   "metadata": {},
   "source": [
    "# Lesson 5 - Data structures"
   ]
  },
  {
   "cell_type": "markdown",
   "metadata": {},
   "source": [
    "**Authors:**\n",
    "* Yilber Fabian Bautista \n",
    "* Sean Tulin"
   ]
  },
  {
   "cell_type": "markdown",
   "metadata": {},
   "source": [
    "For numerical calculations, it is important to consider how numerical data will be organized. We already learned about **lists** and **arrays**, which are examples of data structures and are useful for organizing numerical values.\n",
    "\n",
    "Here we introduce new types of data structures. First, we introduce **dictionaries**, which are built-in to Python. Second, we introduce the `pandas` library, which the most widely-used Python library for data analysis.\n",
    "\n",
    "**Objectives:**\n",
    "* Learn how to use Python **dictionaries**\n",
    "* Gain familiarity and perform basic tasks with the `pandas` library: \n",
    "    - Learn how to use **DataFrames**\n",
    "    - Learn how to create, modify, save, and read data files in csv (comma separated values) format\n",
    "    - Plot data using `pandas` library"
   ]
  },
  {
   "cell_type": "markdown",
   "metadata": {},
   "source": [
    "## Dictionaries\n",
    "\n",
    "A dictionary consists of keys and values assigned to those keys, often referred to as key-value pairs. Since dictionaries have similar characteristics to lists, it is helpful to compare these two\n",
    "\n",
    "<img src=\"https://cf-courses-data.s3.us.cloud-object-storage.appdomain.cloud/IBMDeveloperSkillsNetwork-PY0101EN-SkillsNetwork/labs/Module%202/images/DictsList.png\" width=\"650\" /> \n",
    "\n",
    "Figure taken from [IBM courses](https://cf-courses-data.s3.us.cloud-object-storage.appdomain.cloud/IBMDeveloperSkillsNetwork-PY0101EN-SkillsNetwork/labs/Module%202/images/DictsList.png)\n",
    "\n",
    "Instead of the numerical indices, dictionaries are indexed by *keys*. Keys are typically *strings*, but any non-mutable objects (like tuples) can also serve as a key. Keys play the role of indices used to access values within a dictionary.\n",
    "\n",
    "Similar to lists, dictionaries are mutable objects, which means we can modify them, change values for a given key, add new key-value pairs, etc. \n",
    "\n",
    "The python syntax to create a dictionary is as follows. Here is a simple dictionary with one key-value pair.\n",
    "```py\n",
    "my_dictionary = {'key':value}\n",
    "```\n",
    "Larger dictionaries are created by separating each key-value pair with a comma, e.g.,\n",
    "```py\n",
    "my_dictionary = {'key1':value1, 'key2':value2}\n",
    "```\n",
    "The `type` of a dictionary is `dict`. \n",
    "\n",
    "Let's create our first dictionary in python below. Note we illustrate:\n",
    "- Keys need not all be the same type. Typically, *all* keys will be strings, but other types can be keys too.\n",
    "- Values also need not be the same type, similar to lists and tuples."
   ]
  },
  {
   "cell_type": "code",
   "execution_count": 1,
   "metadata": {},
   "outputs": [
    {
     "data": {
      "text/plain": [
       "dict"
      ]
     },
     "execution_count": 1,
     "metadata": {},
     "output_type": "execute_result"
    }
   ],
   "source": [
    "import numpy as np\n",
    "\n",
    "# Create the dictionary\n",
    "\n",
    "my_dictionary = {\"key1\": 1, \"key2\": \"2\", \"key3\": np.array([3, 3, 8]),\n",
    "                 \"key4\": (4, 4, '4'), ('key5'): 5, (0, 1): 6}\n",
    "\n",
    "type(my_dictionary)"
   ]
  },
  {
   "cell_type": "markdown",
   "metadata": {},
   "source": [
    "### Accessing the keys of a dictionary:\n",
    "\n",
    "Every dictionary has a built-in method `keys()` to obtain a list of the keys of the dictionary (if you do not know them ahead of time). \n",
    "```py\n",
    "my_dictionary.keys()\n",
    "```\n",
    "\n",
    "### Accessing the value by the key:\n",
    "\n",
    "To access the value for given key, we have two options: \n",
    "- Using *square brackets* similar to accessing elements of a list: \n",
    "```py\n",
    "my_dictionary['key1']\n",
    "```\n",
    "- Using the built-in method `get()`:\n",
    "```py\n",
    "my_dictionary.get('key1')\n",
    "```\n",
    "\n",
    "Both options will return the output `1`. However, they behave differently if a key is *not* in the dictionary. For example,\n",
    "`my_dictionary['key7']` will produce an error message, while `my_dictionary.get('key7')` will yield `None` (with no error message). You can use a syntax like\n",
    "```py\n",
    "if my_dictionary.get('key'):\n",
    "    <Do something>\n",
    "```\n",
    "to perform an action only if `'key'` is found in the dictionary.\n",
    "\n",
    "\n",
    "### Adding new key-value pairs to the dictionary\n",
    "\n",
    "For **lists** and **arrays** we would had use the `list.append(value)` and `np.append(array,value)` methods respectively. For **dictionaries** instead, we will use the following syntax:\n",
    "\n",
    "```py\n",
    "my_dictionary['key7'] = 'new_value'\n",
    "```\n",
    "\n",
    "### Remove a key-value pair from a dictionary\n",
    "\n",
    "To remove a key-value pair, we use the `pop()` method. For instance, \n",
    "```py\n",
    "value = my_dictionary.pop('key7')\n",
    "```\n",
    "will set `value` equal to `'new_value'` *and* it will delete this key-value pair from our dictionary. Now if we ask for the keys of our dictionary \n",
    "```\n",
    "my_dictionary.keys()\n",
    "```\n",
    "we will get as output `dict_keys(['key1', 'key2', 'key3', 'key4', 'key5', (0, 1)])`. If we wanted to delete this key-value pair *without* retaining the value, we can simply do\n",
    "```py\n",
    "my_dictionary.pop('key7')\n",
    "```\n",
    "without assigning it to a variable. \n",
    "\n",
    "See [this link](https://www.w3schools.com/python/python_ref_dictionary.asp) for additional methods applied to dictionaries\n"
   ]
  },
  {
   "cell_type": "markdown",
   "metadata": {},
   "source": [
    "## Exercise 1\n",
    "1. Type out all the commands yourself for the previous lines of code.\n",
    "2. Given the following dictionaries, write short line codes to answer the following questions (See [this page](https://holypython.com/beginner-python-exercises/exercise-8-python-dictionaries/) for more exercises with dictionaries): \n",
    "\n",
    "```py\n",
    "dictionary_1 ={\"name\": \"Plato\", \"country\": \"Ancient Greece\", \"born\": -427, \"teacher\": \"Socrates\", \"student\": \"Aristotle\"}\n",
    "dictionary_2 = {\"son's name\": \"Lucas\", \"son's eyes\": \"green\", \"son's height\": 32, \"son's weight\": 25}\n",
    "```\n",
    "* When was Plato born?\n",
    "* Change Plato's birth year from B.C. 427 to B.C. 428.\n",
    "* Add the key \"work\" to `dictionary_1`, with the values \"Apology\", \"Phaedo\", \"Republic\", \"Symposium\" in a list.\n",
    "* Add 2 inches to the son's height in `dictionary_2`.\n",
    "* Using the `.get()` method, print the value of `\"son's eyes\"`.\n",
    "* Merge `dictionary_1` and `dictionary_2` into the dictionary `dictionary_merge`, using the syntax:\n",
    "```py\n",
    "dictionary_merge = merge(**dictionary_1,**dictionary_2)\n",
    "```\n",
    "and print the list of keys in `dictionary_merge`.\n"
   ]
  },
  {
   "cell_type": "markdown",
   "metadata": {},
   "source": [
    "## The `pandas` library\n",
    "\n",
    "The `pandas` library is used to efficiently manipulate tabular data such as data stored in spreadsheets or databases, and to do statistics analysis of such data. Pandas supports the integration of several file formats and data sources. Here we focus on `csv` files, but many others are supported as well (e.g., `excel`, `sql`, `json`).\n",
    "\n",
    "You import it as follows:\n",
    "```py\n",
    "import pandas as pd\n",
    "```\n",
    "\n",
    "For a detail view of **pandas** library, see [here](https://pandas.pydata.org/pandas-docs/stable/getting_started/index.html#getting-started), and for Library Highlights see [here](https://pandas.pydata.org/about/index.html).\n",
    "\n",
    "In **pandas**, `DataFrame` objects are the key data structures that are used to store your data. You can think of a `DataFrame` as a spreadsheet. \n",
    "\n",
    "Let us start our pandas journey by creating simple DataFrames from the data structure we learned above, namely, **dictionaries**. We create a DataFrame from a dictionary of lists. Then, the dictionary keys will be used as column headers and the values in each list will be the columns.\n"
   ]
  },
  {
   "cell_type": "code",
   "execution_count": 2,
   "metadata": {},
   "outputs": [
    {
     "data": {
      "text/html": [
       "<div>\n",
       "<style scoped>\n",
       "    .dataframe tbody tr th:only-of-type {\n",
       "        vertical-align: middle;\n",
       "    }\n",
       "\n",
       "    .dataframe tbody tr th {\n",
       "        vertical-align: top;\n",
       "    }\n",
       "\n",
       "    .dataframe thead th {\n",
       "        text-align: right;\n",
       "    }\n",
       "</style>\n",
       "<table border=\"1\" class=\"dataframe\">\n",
       "  <thead>\n",
       "    <tr style=\"text-align: right;\">\n",
       "      <th></th>\n",
       "      <th>Name</th>\n",
       "      <th>Age</th>\n",
       "      <th>Course</th>\n",
       "    </tr>\n",
       "  </thead>\n",
       "  <tbody>\n",
       "    <tr>\n",
       "      <th>0</th>\n",
       "      <td>Braund, Mr. Owen Harris</td>\n",
       "      <td>22</td>\n",
       "      <td>Data Structures</td>\n",
       "    </tr>\n",
       "    <tr>\n",
       "      <th>1</th>\n",
       "      <td>Allen, Mr. William Henry</td>\n",
       "      <td>35</td>\n",
       "      <td>Machine Learning</td>\n",
       "    </tr>\n",
       "    <tr>\n",
       "      <th>2</th>\n",
       "      <td>Bonnell, Ms. Elizabeth</td>\n",
       "      <td>25</td>\n",
       "      <td>OOPS with java</td>\n",
       "    </tr>\n",
       "  </tbody>\n",
       "</table>\n",
       "</div>"
      ],
      "text/plain": [
       "                       Name  Age            Course\n",
       "0   Braund, Mr. Owen Harris   22   Data Structures\n",
       "1  Allen, Mr. William Henry   35  Machine Learning\n",
       "2    Bonnell, Ms. Elizabeth   25    OOPS with java"
      ]
     },
     "execution_count": 2,
     "metadata": {},
     "output_type": "execute_result"
    }
   ],
   "source": [
    "import pandas as pd\n",
    "\n",
    "# Create a dictionary\n",
    "\n",
    "dictionary =  {\"Name\": [\"Braund, Mr. Owen Harris\",\"Allen, Mr. William Henry\",\"Bonnell, Ms. Elizabeth\"],\n",
    "               \"Age\": [22, 35, 25],\n",
    "               \"Course\": [\"Data Structures\", \"Machine Learning\", \"OOPS with java\"]}\n",
    "\n",
    "# Now create a DataFrame from a dictionary\n",
    "\n",
    "df = pd.DataFrame(dictionary)\n",
    "\n",
    "# Print out the DataFrame\n",
    "df"
   ]
  },
  {
   "cell_type": "markdown",
   "metadata": {},
   "source": [
    "## Exercise 2\n",
    "\n",
    "Get some experience with DataFrames by creating your own DataFrame, similar to the one defined above. (Avoid coping and pasting the code from the text.)"
   ]
  },
  {
   "cell_type": "markdown",
   "metadata": {},
   "source": [
    "## Working with DataFrames\n",
    "\n",
    "DataFrames have many built-in methods and attributes that make them easy to work with. Here we go through the basics.\n",
    "\n",
    "### **The head/tail attributes**\n",
    "\n",
    "The built-in methods `head(i)` and `tail(i)` access the first or last `i` elements of your `DataFrame`, e.g., `df.head(2)` will access the first two elements. This is useful when dealing with large datasets.\n",
    "\n",
    "### **Slicing a DataFrame**\n",
    "\n",
    "To access a desired slice of a `DataFrame`, we use a similar syntax that for `lists`. For example\n",
    "```py\n",
    "sub_df = df[1:3]\n",
    "```\n",
    "takes the slice containing the second and third elements of `df` and saves them in the new `DataFrame` named `sub_df`, with the same attributes as the original DataFrame `df`.\n",
    "\n",
    "\n",
    "### **Keys in a DataFrame**\n",
    "\n",
    "As for dictionaries, we can ask for the `keys` of a  `DataFrame` using the `keys()` method.  In our `df` example \n",
    "```py\n",
    "df.keys()\n",
    "```\n",
    "we get as output `Index(['Name', 'Age', 'Course'], dtype='object')`.\n",
    "\n",
    "One can also access the keys using the attribute `columns`. \n",
    "```py\n",
    "df.columns\n",
    "\n",
    "```\n",
    "\n",
    "### **Accessing a column in a DataFrame**\n",
    "\n",
    "Columns in the `DataFrame` are labeled by keys, using the same syntax as for dictionaries. For instance, to access the column containing all of the names in our `df` defined above we use:\n",
    "\n",
    "```py\n",
    "df['Name']\n",
    "\n",
    "```\n",
    "Note that this produces as an output a list-like `pandas.Series` object with all elements of the `'Name'` column. You can convert this to a true list using\n",
    "```py\n",
    "list(df['Name'])\n",
    "\n",
    "```\n",
    "\n",
    "### **Accessing a row in a DataFrame**\n",
    "\n",
    "To access row `j` in our `DataFrame`, we use the attribute `iloc[j]`. For example\n",
    "```py\n",
    "Allen_info = df.iloc[1]\n",
    "```\n",
    "will save the 2nd row of `df` as `Allen_info`.  If we `print(Allen_info)`, we have the following key-value pairs\n",
    "```py\n",
    "Name      Allen, Mr. William Henry\n",
    "Age                             35\n",
    "Course            Machine Learning\n",
    "Name: 1, dtype: object\n",
    "```\n",
    "`Allen_info` behaves like a dictionary, for example, `Allen_info['Age']` will return `35`.\n",
    "\n",
    "\n",
    "### **Accessing a single element in a DataFrame**\n",
    "\n",
    "According to our previous discussion, there are two options to access a single element of a `DataFrame`. For example, suppose we want `Allen`'s age:\n",
    "- Taking the `'Age'` entry of the Allen row, as above: `df.iloc[1]['Age']`\n",
    "- Taking the 2nd entry of the 'Age' column: `df['Age'][1]`\n",
    "\n",
    "with both methods producing the output `35`. \n",
    "\n",
    "\n"
   ]
  },
  {
   "cell_type": "code",
   "execution_count": null,
   "metadata": {},
   "outputs": [],
   "source": [
    "# Try this out yourself in this cell\n"
   ]
  },
  {
   "cell_type": "markdown",
   "metadata": {},
   "source": [
    "### **Adding a new row to the DataFrame**\n",
    "\n",
    "Similar to lists, each `DataFrame` has a built-in method `append()` that can add a new row. Since the `DataFrame` has several entries, we need first to create a dictionary, which will be added to the `DataFrame`. Let us see how this work with the following example."
   ]
  },
  {
   "cell_type": "code",
   "execution_count": null,
   "metadata": {},
   "outputs": [],
   "source": [
    "sara_info = {'Name':'Sara Remmen', 'Age': 20, 'Course':'Python programing','Grade': 10}\n",
    "\n",
    "# Adding the new dictionary\n",
    "df2 = df.append(sara_info, ignore_index=True)\n",
    "df2"
   ]
  },
  {
   "cell_type": "markdown",
   "metadata": {},
   "source": [
    "There are a few things to mention:\n",
    "- We have added a new key `'Grade'` to the dictionary, which creates a new column in the DataFrame. Since previous entries do not have values for this key, they are set to `NaN` for the other rows. \n",
    "- Unlike lists, using `append()` does not modify the original DataFrame `df`. If we want to save the modified DataFrame, we need to assign `df.append()` to something, e.g., `df2`. \n",
    "\n",
    "If we want to modify `df` directly, we can use the `loc[i]` attribute, where `i` is the position we want to add the new row. Here is an example. (Note in this case, the new row must have the same number of entries as the existing DataFrame rows.)"
   ]
  },
  {
   "cell_type": "code",
   "execution_count": null,
   "metadata": {},
   "outputs": [],
   "source": [
    "df.loc[3] = ['Nathan S.', 20, 'Julia programing']\n",
    "df"
   ]
  },
  {
   "cell_type": "markdown",
   "metadata": {},
   "source": [
    "### **Changing an entry in your DataFrame**\n",
    "\n",
    "You can use `loc[row,col]` to change entries in your DataFrame, labeled by row `row` and column `col`. Here is an example where we change Allen's `Grade` from `NaN` to `8`."
   ]
  },
  {
   "cell_type": "code",
   "execution_count": null,
   "metadata": {},
   "outputs": [],
   "source": [
    "df2.loc[2,'Grade'] = 8 \n",
    "df2"
   ]
  },
  {
   "cell_type": "markdown",
   "metadata": {},
   "source": [
    "### **Removing a whole row in a DataFrame**\n",
    "\n",
    "To delete a row, we use the built-in method `drop`. For instance, let us remove the entry for Sara's info from `df2`, which is labeled as row `3`. The syntax is \n",
    "```\n",
    "df3 = df2.drop(labels=3)\n",
    "```\n",
    "Note that by default `drop()` does not modify the original DataFrame, so we have assigned it to a new DataFrame `df3`. If we want to modify the original DataFrame, we set the keyword `inplace=True`, as follows:\n",
    "```py\n",
    "df2.drop(labels=3,inplace=True)\n",
    "```\n",
    "However, be careful when using this option since once rows are removed, we cannot recover them."
   ]
  },
  {
   "cell_type": "code",
   "execution_count": null,
   "metadata": {},
   "outputs": [],
   "source": [
    "# Some space to write your own code\n"
   ]
  },
  {
   "cell_type": "markdown",
   "metadata": {},
   "source": [
    "### **Adding a new column to the DataFrame**\n",
    "\n",
    "To add a complete column, we use a syntax similar to dictionaries. We have to specify all the elements of the column in a list, whose length has to match the length of the `DataFrame`. In our previous examples we would have made.\n",
    "\n",
    "```py\n",
    "df2['Major'] =  ['Physics and Astronomy', 'Computer Science', 'Physics and Astronomy', 'Maths']\n",
    "\n",
    "```\n",
    "\n"
   ]
  },
  {
   "cell_type": "code",
   "execution_count": null,
   "metadata": {},
   "outputs": [],
   "source": [
    "#some space for coding"
   ]
  },
  {
   "cell_type": "markdown",
   "metadata": {},
   "source": [
    "### Merging two (or more) DataFrames\n",
    "One of the main advantages of **pandas** is that it offers high performance merging and joining of data sets with the same number of columns. Let's see it in an specific example. (Note that the `ignore_index=True` keyword is needed to ignore previous row labels and relabel the indices of the rows in the merged `DataFrame`, whereas `sort=True` keyword will display the `DataFrame` in an ordered form depending on the order of the two entries)\n"
   ]
  },
  {
   "cell_type": "code",
   "execution_count": null,
   "metadata": {},
   "outputs": [],
   "source": [
    "merged_df = pd.concat([df,df2],ignore_index=True,sort=True)\n",
    "merged_df"
   ]
  },
  {
   "cell_type": "markdown",
   "metadata": {},
   "source": [
    "## **Loading and saving DataFrames**\n",
    "\n",
    "A `csv` file, which stands for Comma Separated Values, is a useful format for storing small-to-medium-sized data sets in plain text format. First, we consider loading a file and saving it to a DataFrame. The syntax for Mac and Linux is\n",
    "```py\n",
    "df = pd.read_csv(\"directory1/directory2/file_name.csv\")\n",
    "```\n",
    "and for Windows the syntax is\n",
    "```py\n",
    "df = pd.read_csv(\"directory1\\\\directory2\\\\file_name.csv\")\n",
    "```\n",
    "That is, the separator between directory names is `/` for Mac and Linux, and `\\\\` for Windows. \n",
    "\n",
    "Similarly, the syntax for saving a DataFrame is:\n",
    "```py\n",
    "df.to_csv('directory1/directory2/file_name.csv',index=False)\n",
    "\n",
    "```\n",
    "whereas for Windows the syntax is\n",
    "```py\n",
    "df.to_csv('directory1\\\\directory2\\\\file_name.csv',index=False)\n",
    "\n",
    "```\n",
    "If the entire path of directories is not specified, the file will be loaded or saved in the same folder of our jupyter notebook. The keyword `index=False` is useful, otherwise the row index is also saved in the `csv` file too.\n",
    "\n",
    "## Plotting data from DataFrames\n",
    "\n",
    "DataFrames have a built-in method `plot()` for quickly plotting the data they contain data. For more on plotting see the [Chart Visualization](https://pandas.pydata.org/pandas-docs/stable/user_guide/visualization.html).\n",
    "\n",
    "Here is an example for loading, plotting, and saving some data."
   ]
  },
  {
   "cell_type": "code",
   "execution_count": null,
   "metadata": {},
   "outputs": [],
   "source": [
    "# First, load the data and get a quick view of what it contains\n",
    "\n",
    "df = pd.read_csv('saving_example.csv')\n",
    "df.head(5)"
   ]
  },
  {
   "cell_type": "code",
   "execution_count": null,
   "metadata": {},
   "outputs": [],
   "source": [
    "# Next, make a plot\n",
    "\n",
    "df.plot('x','y',kind='scatter')\n",
    "\n",
    "# Create a new column\n",
    "# Define new variable w = x*y\n",
    "\n",
    "df['w'] = df['x']*df['y']\n",
    "\n",
    "df.plot('x','w',kind='scatter')\n",
    "\n",
    "# Save the new DataFrame\n",
    "# Using the same name will overwrite the original file\n",
    "\n",
    "df.to_csv('saving_example.csv',index=False)"
   ]
  },
  {
   "cell_type": "markdown",
   "metadata": {},
   "source": [
    "## Exercise 3\n",
    "### Galaxy rotation curve\n",
    "\n",
    "\n",
    "The Directory `Rotation curves`, contains  data sets for the rotation curve for several Dwarf galaxies. See [rotation curves](https://github.com/EXPLORE-for-students/python-tutorials/blob/main/Rotation%20curves/readme.pdf) for a detail description of the data files. In this exercise we will  practice our **pandas** skills on those files (They will also be used in Tutorial 6 using **classes**, and in Tutorial 7, when we discuss **interpolating function**).\n",
    "By the end of this exercise we will obtain our Dark Matter rotation curve \n",
    "$$v_{DM}(r) = \\sqrt{v_c^2(r)-v_{star}^2(r)-v_{gas}^2(r)} \\, ,$$\n",
    "as well as our DM mass distribution \n",
    "$$M_{DM}(r) = r v^2_{DM}(r)/G_N \\, .$$\n",
    " \n",
    "\n",
    "We will take distance $r$ to be in units of kiloparsecs, velocity $v$ to be in units of $km/s$, and mass $M$ in solar masses $M_\\odot$. Hence, it is useful to take Newton's gravitational constant in these units as $G_N = 4.302 \\times 10^{-6}  km^2/s^2\\times kpc/M_{sol}$. \n",
    "\n",
    "Let us divide the exercise in several steps:\n",
    "\n",
    "1. Choose your favorite galaxy in the   `Rotation curves` directory, i.e. identify the two files `RotationCurve galaxy.csv` and `RotationCurve baryons galaxy.csv`.\n",
    "2. Create the **DataFrame** `df_circular` for the chosen  galaxy, which will load the data contained in the file `RotationCurve galaxy.csv`. It should look similar to the following example for Galaxy `'IC2574'`:\n",
    "\n",
    "![](./Figures/circ_velocity.png \"Circular velocity\")\n",
    "\n",
    "3. Add a new column to  `df_circular` that contains the DM mass. For simplicity we will assume $v_{star}=v_{gas} = 0$, and therefore $v_{DM}(r)=v_c(r)$ . We will return to this simplification in Tutorial 7.\n",
    "\n",
    "4. Make a plot of $M_{DM}(r)$ as function of $r$, using **pandas** plotting tools.\n",
    "\n",
    "5. Save the data including the new column into a new **csv** file. "
   ]
  },
  {
   "cell_type": "markdown",
   "metadata": {},
   "source": [
    "# Exercise 4 (Optional)\n",
    "\n",
    "In this exercise we will plot the DM velocity having into account errors in the measurements as well as systematic errors. \n",
    "\n",
    "1. As explained in [rotation curves](https://github.com/keiwanjamaly/Python-Tutorials/blob/main/Rotation%20curves/readme.pdf), some of the measured errors (i.e. some values in `circ velocity error`) have been underestimated. In this step we will  include a systematic error at the level of 5% of the last measured velocity point (i.e. the last data point of column `cir velocity` in our `df_circular`). Add a new column in `df_circular` called `syst error` whose values contain the systematic error. Then, add the new column  `total error`, containing the total error computed as the sum in quadratures of `sys error` and   `circ velocity error`. \n",
    "\n",
    "2. Using [matplotlib.pyplot.errorbar](https://matplotlib.org/stable/api/_as_gen/matplotlib.pyplot.errorbar.html) library, do an errorbar plot of the circular velocity as a function of radial distance, where the errorbars are given by  `total error` in   `df_circular`. \n",
    "\n",
    "3. Save the data including the new error columns into a new **csv** file"
   ]
  }
 ],
 "metadata": {
  "kernelspec": {
   "display_name": "Python 3 (ipykernel)",
   "language": "python",
   "name": "python3"
  },
  "language_info": {
   "codemirror_mode": {
    "name": "ipython",
    "version": 3
   },
   "file_extension": ".py",
   "mimetype": "text/x-python",
   "name": "python",
   "nbconvert_exporter": "python",
   "pygments_lexer": "ipython3",
   "version": "3.9.12"
  }
 },
 "nbformat": 4,
 "nbformat_minor": 4
}
