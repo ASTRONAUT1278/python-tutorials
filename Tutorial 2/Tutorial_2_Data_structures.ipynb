{
 "cells": [
  {
   "cell_type": "markdown",
   "metadata": {},
   "source": [
    "# Working with data structures"
   ]
  },
  {
   "cell_type": "markdown",
   "metadata": {},
   "source": [
    "## Junior mentor:\n",
    "\n",
    "Y. Fabian Bautista\n"
   ]
  },
  {
   "cell_type": "markdown",
   "metadata": {},
   "source": [
    "## Objectives of the tutorial"
   ]
  },
  {
   "cell_type": "markdown",
   "metadata": {},
   "source": [
    "1. To create and manipulate data sets: Lists, arrays, dictionaries\n",
    "2. To use Pandas package to manipulate data sets\n",
    "3. To plot data structures using matplotlib\n",
    "3. To use conditional statements\n",
    "4. To fit data, and computing goodness of fit"
   ]
  },
  {
   "cell_type": "markdown",
   "metadata": {},
   "source": [
    "### Loading packages"
   ]
  },
  {
   "cell_type": "code",
   "execution_count": 36,
   "metadata": {},
   "outputs": [],
   "source": [
    "import pandas as pf # For data structure manipulations\n",
    "import matplotlib.pyplot as plt # For ploting"
   ]
  },
  {
   "cell_type": "markdown",
   "metadata": {},
   "source": [
    "# Arrays"
   ]
  },
  {
   "cell_type": "markdown",
   "metadata": {},
   "source": [
    "A numpy array is similar to a list. It's usually fixed in size and each element is of the same type. We can cast a list to a numpy array by first importing numpy: "
   ]
  },
  {
   "cell_type": "code",
   "execution_count": 37,
   "metadata": {},
   "outputs": [],
   "source": [
    "import numpy as np # For array and mathematical manipulations"
   ]
  },
  {
   "cell_type": "markdown",
   "metadata": {},
   "source": [
    "## 1D Arrays"
   ]
  },
  {
   "cell_type": "markdown",
   "metadata": {},
   "source": [
    " We  cast a list as follows:\n"
   ]
  },
  {
   "cell_type": "code",
   "execution_count": 29,
   "metadata": {},
   "outputs": [
    {
     "data": {
      "text/plain": [
       "array([0, 1, 2, 3, 4])"
      ]
     },
     "execution_count": 29,
     "metadata": {},
     "output_type": "execute_result"
    }
   ],
   "source": [
    "# Create a numpy array\n",
    "\n",
    "a = np.array([0, 1, 2, 3, 4])\n",
    "a"
   ]
  },
  {
   "cell_type": "markdown",
   "metadata": {},
   "source": [
    "Each element is of the same type, in this case integers: \n"
   ]
  },
  {
   "cell_type": "markdown",
   "metadata": {},
   "source": [
    " As with lists, we can access each element via a square bracket:\n"
   ]
  },
  {
   "cell_type": "code",
   "execution_count": 35,
   "metadata": {},
   "outputs": [
    {
     "name": "stdout",
     "output_type": "stream",
     "text": [
      "a[0]: 0\n",
      "a[1]: 1\n",
      "a[2]: 2\n",
      "a[3]: 3\n",
      "a[4]: 4\n"
     ]
    }
   ],
   "source": [
    "# Print each element\n",
    "\n",
    "print(\"a[0]:\", a[0])\n",
    "print(\"a[1]:\", a[1])\n",
    "print(\"a[2]:\", a[2])\n",
    "print(\"a[3]:\", a[3])\n",
    "print(\"a[4]:\", a[4])"
   ]
  },
  {
   "cell_type": "markdown",
   "metadata": {},
   "source": [
    "If we check the type of the array we get <b>numpy.ndarray</b>:\n"
   ]
  },
  {
   "cell_type": "code",
   "execution_count": 37,
   "metadata": {},
   "outputs": [
    {
     "data": {
      "text/plain": [
       "numpy.ndarray"
      ]
     },
     "execution_count": 37,
     "metadata": {},
     "output_type": "execute_result"
    }
   ],
   "source": [
    "# Check the type of the array\n",
    "\n",
    "type(a)"
   ]
  },
  {
   "cell_type": "markdown",
   "metadata": {},
   "source": [
    "As numpy arrays contain data of the same type, we can use the attribute \"dtype\" to obtain the Data-type of the array’s elements. In this case a 64-bit integer: "
   ]
  },
  {
   "cell_type": "code",
   "execution_count": 38,
   "metadata": {},
   "outputs": [
    {
     "data": {
      "text/plain": [
       "dtype('int64')"
      ]
     },
     "execution_count": 38,
     "metadata": {},
     "output_type": "execute_result"
    }
   ],
   "source": [
    "# Check the type of the values stored in numpy array\n",
    "\n",
    "a.dtype"
   ]
  },
  {
   "cell_type": "markdown",
   "metadata": {},
   "source": [
    "We can create a numpy array with real numbers:\n"
   ]
  },
  {
   "cell_type": "code",
   "execution_count": 39,
   "metadata": {},
   "outputs": [],
   "source": [
    "# Create a numpy array\n",
    "\n",
    "b = np.array([3.1, 11.02, 6.2, 213.2, 5.2])"
   ]
  },
  {
   "cell_type": "code",
   "execution_count": 40,
   "metadata": {},
   "outputs": [
    {
     "data": {
      "text/plain": [
       "numpy.ndarray"
      ]
     },
     "execution_count": 40,
     "metadata": {},
     "output_type": "execute_result"
    }
   ],
   "source": [
    "# Check the type of array\n",
    "\n",
    "type(b)"
   ]
  },
  {
   "cell_type": "code",
   "execution_count": 41,
   "metadata": {},
   "outputs": [
    {
     "data": {
      "text/plain": [
       "dtype('float64')"
      ]
     },
     "execution_count": 41,
     "metadata": {},
     "output_type": "execute_result"
    }
   ],
   "source": [
    "# Check the value type\n",
    "\n",
    "b.dtype"
   ]
  },
  {
   "cell_type": "markdown",
   "metadata": {},
   "source": [
    "### Slicing"
   ]
  },
  {
   "cell_type": "markdown",
   "metadata": {},
   "source": [
    "Like lists, we can slice the numpy array, and we can select the elements from 1 to 3 and assign it to a new numpy array <code>d</code> as follows:"
   ]
  },
  {
   "cell_type": "code",
   "execution_count": 45,
   "metadata": {},
   "outputs": [
    {
     "data": {
      "text/plain": [
       "array([1, 2, 3])"
      ]
     },
     "execution_count": 45,
     "metadata": {},
     "output_type": "execute_result"
    }
   ],
   "source": [
    "# Create numpy array\n",
    "\n",
    "c = np.array([20, 1, 2, 3, 4])\n",
    "\n",
    "# Slicing the numpy array\n",
    "\n",
    "d = c[1:4]\n",
    "d"
   ]
  },
  {
   "cell_type": "markdown",
   "metadata": {},
   "source": [
    "### Assign Value with List\n"
   ]
  },
  {
   "cell_type": "markdown",
   "metadata": {},
   "source": [
    "Similarly, we can use a list to select a specific index.\n",
    "The list ' select ' contains several values:"
   ]
  },
  {
   "cell_type": "code",
   "execution_count": 48,
   "metadata": {},
   "outputs": [],
   "source": [
    "# Create the index list\n",
    "\n",
    "select = [0, 2, 3]"
   ]
  },
  {
   "cell_type": "markdown",
   "metadata": {},
   "source": [
    "We can use the list as an argument in the brackets. The output is the elements corresponding to the particular index:"
   ]
  },
  {
   "cell_type": "code",
   "execution_count": 49,
   "metadata": {},
   "outputs": [
    {
     "data": {
      "text/plain": [
       "array([20,  2,  3])"
      ]
     },
     "execution_count": 49,
     "metadata": {},
     "output_type": "execute_result"
    }
   ],
   "source": [
    "# Use List to select elements\n",
    "\n",
    "d = c[select]\n",
    "d"
   ]
  },
  {
   "cell_type": "markdown",
   "metadata": {},
   "source": [
    "### Other Attributes"
   ]
  },
  {
   "cell_type": "markdown",
   "metadata": {},
   "source": [
    "Let's review some basic array attributes using the array <code>a</code>:"
   ]
  },
  {
   "cell_type": "code",
   "execution_count": 51,
   "metadata": {},
   "outputs": [
    {
     "data": {
      "text/plain": [
       "array([0, 1, 2, 3, 4])"
      ]
     },
     "execution_count": 51,
     "metadata": {},
     "output_type": "execute_result"
    }
   ],
   "source": [
    "# Create a numpy array\n",
    "\n",
    "e = np.array([0, 1, 2, 3, 4])\n",
    "e"
   ]
  },
  {
   "cell_type": "markdown",
   "metadata": {},
   "source": [
    "The attribute <code>size</code> is the number of elements in the array:"
   ]
  },
  {
   "cell_type": "code",
   "execution_count": 52,
   "metadata": {},
   "outputs": [
    {
     "data": {
      "text/plain": [
       "5"
      ]
     },
     "execution_count": 52,
     "metadata": {},
     "output_type": "execute_result"
    }
   ],
   "source": [
    "# Get the size of numpy array\n",
    "\n",
    "e.size"
   ]
  },
  {
   "cell_type": "markdown",
   "metadata": {},
   "source": [
    "The next two attributes will make more sense when we get to higher dimensions but let's review them. The attribute <code>ndim</code> represents the number of array dimensions or the rank of the array, in this case, one:"
   ]
  },
  {
   "cell_type": "code",
   "execution_count": 53,
   "metadata": {},
   "outputs": [
    {
     "data": {
      "text/plain": [
       "1"
      ]
     },
     "execution_count": 53,
     "metadata": {},
     "output_type": "execute_result"
    }
   ],
   "source": [
    "# Get the number of dimensions of numpy array\n",
    "\n",
    "e.ndim"
   ]
  },
  {
   "cell_type": "markdown",
   "metadata": {},
   "source": [
    "The attribute <code>shape</code> is a tuple of integers indicating the size of the array in each dimension:"
   ]
  },
  {
   "cell_type": "code",
   "execution_count": 54,
   "metadata": {},
   "outputs": [
    {
     "data": {
      "text/plain": [
       "(5,)"
      ]
     },
     "execution_count": 54,
     "metadata": {},
     "output_type": "execute_result"
    }
   ],
   "source": [
    "# Get the shape/size of numpy array\n",
    "\n",
    "a.shape"
   ]
  },
  {
   "cell_type": "markdown",
   "metadata": {},
   "source": [
    "### Mean of a 1D numpy array"
   ]
  },
  {
   "cell_type": "code",
   "execution_count": 56,
   "metadata": {},
   "outputs": [
    {
     "data": {
      "text/plain": [
       "2.0"
      ]
     },
     "execution_count": 56,
     "metadata": {},
     "output_type": "execute_result"
    }
   ],
   "source": [
    "# Get the mean of numpy array\n",
    "\n",
    "mean = e.mean()\n",
    "mean"
   ]
  },
  {
   "cell_type": "markdown",
   "metadata": {},
   "source": [
    "### Get the standard deviation of 1D numpy array\n"
   ]
  },
  {
   "cell_type": "code",
   "execution_count": 58,
   "metadata": {},
   "outputs": [
    {
     "data": {
      "text/plain": [
       "1.4142135623730951"
      ]
     },
     "execution_count": 58,
     "metadata": {},
     "output_type": "execute_result"
    }
   ],
   "source": [
    "# Get the standard deviation of numpy array\n",
    "\n",
    "standard_deviation = e.std()\n",
    "standard_deviation"
   ]
  },
  {
   "cell_type": "markdown",
   "metadata": {},
   "source": [
    "### Maximal and minimal values in a 1D array"
   ]
  },
  {
   "cell_type": "code",
   "execution_count": 59,
   "metadata": {},
   "outputs": [
    {
     "data": {
      "text/plain": [
       "4"
      ]
     },
     "execution_count": 59,
     "metadata": {},
     "output_type": "execute_result"
    }
   ],
   "source": [
    "# Get the biggest value in the numpy array\n",
    "\n",
    "max_e = e.max()\n",
    "max_e"
   ]
  },
  {
   "cell_type": "code",
   "execution_count": 60,
   "metadata": {},
   "outputs": [
    {
     "data": {
      "text/plain": [
       "0"
      ]
     },
     "execution_count": 60,
     "metadata": {},
     "output_type": "execute_result"
    }
   ],
   "source": [
    "# Get the smallest value in the numpy array\n",
    "\n",
    "min_e = e.min()\n",
    "min_e"
   ]
  },
  {
   "cell_type": "markdown",
   "metadata": {},
   "source": [
    "# (2 +... )D numpy arrays"
   ]
  },
  {
   "cell_type": "code",
   "execution_count": null,
   "metadata": {},
   "outputs": [],
   "source": []
  },
  {
   "cell_type": "markdown",
   "metadata": {},
   "source": [
    "## Numpy Array Operations"
   ]
  },
  {
   "cell_type": "code",
   "execution_count": null,
   "metadata": {},
   "outputs": [],
   "source": []
  },
  {
   "cell_type": "markdown",
   "metadata": {},
   "source": [
    "# Dictionaries"
   ]
  },
  {
   "cell_type": "code",
   "execution_count": null,
   "metadata": {},
   "outputs": [],
   "source": []
  },
  {
   "cell_type": "markdown",
   "metadata": {},
   "source": [
    "# The Pandas library"
   ]
  },
  {
   "cell_type": "code",
   "execution_count": null,
   "metadata": {},
   "outputs": [],
   "source": []
  },
  {
   "cell_type": "markdown",
   "metadata": {},
   "source": [
    "#  h5py Data sets "
   ]
  },
  {
   "cell_type": "markdown",
   "metadata": {},
   "source": [
    "### For more information see  <a href=\"https://docs.h5py.org/en/stable/quick.html\"> h5py </a>\n",
    "\n",
    "An HDF5 file is a container for two kinds of objects: <code> datasets </code>, which are array-like collections of data, and <code> groups, </code> which are folder-like containers that hold datasets and other groups. The most fundamental thing to remember when using h5py is:\n",
    "\n",
    "### Groups work like dictionaries, and datasets work like NumPy arrays\n",
    "\n",
    "\n",
    "In this part of the tutorial we will explore several features when working with h5py datasets. We will show that by working with an especific example:"
   ]
  },
  {
   "cell_type": "markdown",
   "metadata": {},
   "source": [
    "## Example of h5py Data sets \n",
    "\n",
    "The Auriga simulations  provided us with the  data file <code>  'halo_1_DMO.hdf5' </code> which contains   a set of  dark matter particles placed between 4-15 kpc in a dark matter-only halo. In the data set,  we have acces to  the particle <code> 'Coordinates' (x, y, z in kpc) </code> , the particles  <code> 'Mass' (in Solar masses) </code>, and  <code> 'Velocities' (vx, vy, vz in km/s) </code> ."
   ]
  },
  {
   "cell_type": "code",
   "execution_count": 1,
   "metadata": {},
   "outputs": [],
   "source": [
    "import h5py "
   ]
  },
  {
   "cell_type": "markdown",
   "metadata": {},
   "source": [
    "### Loading data sets"
   ]
  },
  {
   "cell_type": "code",
   "execution_count": 4,
   "metadata": {},
   "outputs": [],
   "source": [
    "file_path = 'halo_1_DMO.hdf5'"
   ]
  },
  {
   "cell_type": "code",
   "execution_count": 107,
   "metadata": {},
   "outputs": [],
   "source": [
    "halo1 = h5py.File(file_path, 'r') #'r' atribute to read only"
   ]
  },
  {
   "cell_type": "code",
   "execution_count": 108,
   "metadata": {},
   "outputs": [],
   "source": [
    "# with h5py.File(file_path,'r') as halo_1:\n",
    "    \n",
    "#     data_halo_1 = halo_1['DarkMatter']\n",
    "    \n",
    "#     print(data_halo_1.keys())\n",
    "    \n"
   ]
  },
  {
   "cell_type": "markdown",
   "metadata": {},
   "source": [
    "As in a dictionary, we can as for the set of keys contained in the file"
   ]
  },
  {
   "cell_type": "code",
   "execution_count": 109,
   "metadata": {},
   "outputs": [
    {
     "data": {
      "text/plain": [
       "<KeysViewHDF5 ['DarkMatter']>"
      ]
     },
     "execution_count": 109,
     "metadata": {},
     "output_type": "execute_result"
    }
   ],
   "source": [
    "halo1.keys()"
   ]
  },
  {
   "cell_type": "markdown",
   "metadata": {},
   "source": [
    "Let us create a new data set, which contains all the information contained in the group <code> 'DarkMatter' </code>"
   ]
  },
  {
   "cell_type": "code",
   "execution_count": 114,
   "metadata": {},
   "outputs": [
    {
     "data": {
      "text/plain": [
       "<HDF5 group \"/DarkMatter\" (3 members)>"
      ]
     },
     "execution_count": 114,
     "metadata": {},
     "output_type": "execute_result"
    }
   ],
   "source": [
    "data_set = halo1['DarkMatter']\n",
    "data_set"
   ]
  },
  {
   "cell_type": "markdown",
   "metadata": {},
   "source": [
    "As we have mentioned, groups contain both data sets, or other subgroups. To see what data sets  and subgoups are inlcuded, we use the <code> keys() </code> atribute of the group (recall groups work as normal dictionaries)"
   ]
  },
  {
   "cell_type": "code",
   "execution_count": 111,
   "metadata": {},
   "outputs": [
    {
     "data": {
      "text/plain": [
       "<KeysViewHDF5 ['Coordinates', 'Mass', 'Velocities']>"
      ]
     },
     "execution_count": 111,
     "metadata": {},
     "output_type": "execute_result"
    }
   ],
   "source": [
    "data_set.keys()"
   ]
  },
  {
   "cell_type": "markdown",
   "metadata": {},
   "source": [
    "Let us create a dataset wich contains only the coordinates of the DM particles"
   ]
  },
  {
   "cell_type": "code",
   "execution_count": 113,
   "metadata": {},
   "outputs": [
    {
     "data": {
      "text/plain": [
       "<HDF5 dataset \"Coordinates\": shape (244986, 3), type \"<f4\">"
      ]
     },
     "execution_count": 113,
     "metadata": {},
     "output_type": "execute_result"
    }
   ],
   "source": [
    "particle_codts = data_set['Coordinates']\n",
    "particle_codts"
   ]
  },
  {
   "cell_type": "markdown",
   "metadata": {},
   "source": [
    " We can for instance create  1-D arrays that contains the particles x, y or z coordinates only. Since there are <code> 244986 </code> particles, we choose to work with a subset of them, for instance the first <code> 1000 </code> particles"
   ]
  },
  {
   "cell_type": "code",
   "execution_count": 178,
   "metadata": {},
   "outputs": [],
   "source": [
    "x_c = np.array([particle_codts[i][0] for i in range(1000)])\n",
    "y_c = np.array([particle_codts[i][1] for i in range(1000)])"
   ]
  },
  {
   "cell_type": "code",
   "execution_count": 179,
   "metadata": {},
   "outputs": [
    {
     "data": {
      "text/plain": [
       "array([-3.6035447 , -3.6181986 , -2.9064834 , -3.7221205 ,  3.5660794 ,\n",
       "       -3.3184376 ,  3.2704368 , -2.8666186 , -2.9335723 , -3.1876636 ,\n",
       "       -3.681396  , -3.0215397 , -3.7727125 , -3.5729125 , -3.437352  ,\n",
       "        3.051537  , -2.8294919 , -3.8926692 , -3.163867  ,  3.1020505 ,\n",
       "        3.2114055 , -3.8658836 , -2.879835  ,  3.601894  , -3.8248649 ,\n",
       "       -3.81329   ,  3.8143537 , -3.1973271 , -3.1454802 , -3.4333587 ,\n",
       "       -2.61522   ,  3.1397316 ,  2.6077995 , -3.1550632 ,  3.7688873 ,\n",
       "       -3.4711745 , -2.8862395 , -3.3892753 , -4.004568  , -4.1173153 ,\n",
       "       -3.2629924 ,  3.5082586 , -2.7006865 , -3.8895688 , -4.1427765 ,\n",
       "       -4.142438  , -3.9352243 ,  3.5087988 , -3.423174  , -2.6807148 ,\n",
       "       -3.7732217 , -3.8201115 , -3.3577814 , -3.7508273 , -2.6234698 ,\n",
       "       -4.052296  , -4.0194163 , -3.6220787 ,  2.2177284 , -3.3929846 ,\n",
       "       -2.237134  , -3.9474797 , -3.1901648 , -4.082782  , -4.022199  ,\n",
       "       -3.8190951 , -3.702443  , -4.1261635 ,  3.6005342 , -3.6703846 ,\n",
       "       -3.8711698 ,  3.404209  ,  4.026882  , -3.7775323 , -4.4869504 ,\n",
       "        3.9757242 ,  2.8512535 , -2.6999187 , -4.064961  , -3.7928448 ,\n",
       "       -4.2071276 , -3.6586392 , -2.4814265 ,  3.5004141 , -3.3796995 ,\n",
       "       -3.4819703 , -3.291564  , -3.9666622 , -3.4037116 , -3.5025175 ,\n",
       "        3.6535943 , -2.9349005 , -3.6557994 ,  3.713217  ,  3.3603725 ,\n",
       "        2.8307943 , -2.5049624 , -4.331371  ,  3.6006696 ,  3.019107  ,\n",
       "        3.8252275 ,  3.6902092 , -3.7940292 , -3.8564944 , -3.0382993 ,\n",
       "        3.0918093 ,  3.8203745 , -2.995424  , -3.7060406 , -3.4729724 ,\n",
       "       -4.041188  , -3.3028784 , -4.1018696 ,  3.0400898 , -3.3940032 ,\n",
       "        3.9950302 , -3.7207613 , -3.7405999 ,  3.5447364 ,  4.2138376 ,\n",
       "       -2.24337   , -3.502939  , -3.6054134 , -3.1234243 , -3.9520626 ,\n",
       "        3.4979014 ,  3.3104367 ,  4.0470595 ,  2.3312118 ,  3.1441228 ,\n",
       "       -4.0277867 , -3.8745286 , -4.114757  ,  4.409812  ,  3.0523188 ,\n",
       "        4.172978  , -2.9080486 ,  4.22297   , -3.4657102 ,  3.235927  ,\n",
       "        3.1255417 , -4.0852237 ,  4.1321864 ,  3.5164704 ,  2.786188  ,\n",
       "        3.204954  ,  3.5575929 , -3.478813  , -3.9273515 , -3.2500246 ,\n",
       "        4.1438847 ,  3.9758258 , -2.5871813 , -1.8791915 ,  2.7583408 ,\n",
       "        2.729419  ,  3.2056432 ,  4.364085  , -4.2563267 , -3.1817114 ,\n",
       "       -3.770505  , -3.085021  ,  3.9533768 , -1.6396761 , -3.010327  ,\n",
       "       -2.0592332 , -3.692225  , -2.3517375 ,  2.839428  ,  3.4789932 ,\n",
       "        2.843459  ,  3.2635112 ,  2.7846484 , -3.4646587 ,  3.440713  ,\n",
       "       -3.4152536 , -4.1428995 ,  3.7568738 , -4.0574126 , -3.721848  ,\n",
       "        3.9917827 ,  3.2509272 ,  3.198232  , -4.280815  ,  4.1563344 ,\n",
       "       -4.2742605 ,  3.9393692 ,  3.1325004 , -4.0978975 , -3.45351   ,\n",
       "       -3.9513638 , -3.8053129 ,  4.0327206 ,  3.8550663 ,  3.783326  ,\n",
       "        3.695778  ,  2.7760034 , -2.3611665 ,  3.16183   , -4.5699935 ,\n",
       "       -1.8685073 ,  2.9221892 ,  3.6199636 ,  3.3382409 ,  4.091427  ,\n",
       "       -2.1507509 ,  2.6178565 , -4.2506943 ,  3.0886068 , -4.6777406 ,\n",
       "        3.7299488 ,  2.4944274 , -3.0596516 , -2.7057123 ,  2.8447473 ,\n",
       "       -4.030051  , -3.8460705 ,  3.4816527 , -3.1875832 , -3.274238  ,\n",
       "        3.2094681 , -4.32423   , -4.0726633 , -2.4513035 , -3.5681376 ,\n",
       "       -1.6816655 ,  3.7701993 ,  2.7137108 , -4.252049  ,  3.1761904 ,\n",
       "       -3.7996995 , -1.2630699 , -3.843323  ,  3.7912345 , -3.1972256 ,\n",
       "       -4.149283  , -3.1087253 ,  4.0153637 , -1.6236861 ,  3.7515404 ,\n",
       "        3.2246199 ,  3.7406094 , -3.776649  , -3.2833025 , -3.9914627 ,\n",
       "        3.5214608 , -4.4327917 ,  4.2587614 , -2.3474526 , -3.990672  ,\n",
       "        3.0822923 , -2.3899064 , -3.6446862 , -4.167035  , -1.8677516 ,\n",
       "       -2.4673028 ,  4.1733875 , -4.2125797 , -3.4736876 , -4.1543183 ,\n",
       "       -1.2998365 ,  2.3954084 , -2.9361184 , -3.8585625 ,  3.9278464 ,\n",
       "       -3.539682  , -3.737807  , -3.989113  ,  4.226104  ,  4.2078285 ,\n",
       "        3.874711  ,  3.8041809 ,  3.2577062 ,  1.7109523 , -4.259282  ,\n",
       "       -3.7072628 , -3.428096  , -3.3398583 , -4.3626947 , -2.8236415 ,\n",
       "        3.1740658 ,  4.580879  ,  4.1134567 ,  3.9667165 , -3.468652  ,\n",
       "       -3.6358376 , -2.5855162 ,  3.7010264 , -3.4698153 , -3.1174154 ,\n",
       "       -3.9583464 , -2.5659406 , -4.1805596 , -4.055679  , -4.410435  ,\n",
       "       -3.7111542 , -3.5028229 , -2.8817935 , -2.8697522 , -2.0454035 ,\n",
       "       -3.422385  , -4.0229335 , -3.8630104 ,  3.8961437 , -0.6053095 ,\n",
       "        3.4670792 ,  3.4333372 , -2.601234  , -4.417484  ,  2.8123624 ,\n",
       "        3.7991903 , -3.8814895 , -4.462789  , -3.7451475 , -4.2972    ,\n",
       "        1.9846529 , -3.1683366 , -2.501026  , -3.3905756 , -3.1071975 ,\n",
       "        3.8065448 ,  2.4096055 ,  4.333557  , -4.064144  , -3.6320143 ,\n",
       "       -3.8226128 , -1.3516151 ,  3.9547672 , -2.2750185 , -3.6047647 ,\n",
       "        1.8325598 , -2.6689951 ,  4.1813645 , -3.339586  , -4.1552916 ,\n",
       "       -2.163394  ,  3.0879886 , -4.018509  , -3.721801  , -2.7827015 ,\n",
       "        3.1450276 , -3.4466887 ,  3.1266265 ,  2.5113554 , -2.7658188 ,\n",
       "        3.951373  , -4.217594  ,  3.5840352 ,  3.7728946 ,  2.7550251 ,\n",
       "       -3.9771264 , -1.3284959 ,  3.640501  , -2.4408133 , -3.3054247 ,\n",
       "       -4.471775  ,  3.0915937 ,  3.2761164 ,  2.68936   ,  4.1893396 ,\n",
       "        4.04759   ,  2.623844  ,  3.3245363 , -4.4582415 , -4.283349  ,\n",
       "        4.0135183 , -4.264133  ,  3.2712965 , -3.9462903 , -3.136257  ,\n",
       "       -3.0171268 , -2.8795552 ,  3.0657313 ,  3.1650345 ,  4.548108  ,\n",
       "        4.4020033 ,  3.6676233 , -3.9912477 ,  3.0343292 , -3.4813926 ,\n",
       "        4.0973673 ,  3.4504547 , -3.6704867 ,  4.1283026 ,  3.0173402 ,\n",
       "        3.6159892 , -3.5798712 ,  3.2053044 ,  3.6070645 , -2.7210107 ,\n",
       "        2.896346  , -3.2359679 , -3.9683244 ,  2.8651264 , -3.874723  ,\n",
       "       -3.8779914 ,  4.399516  , -3.0693624 , -3.8528023 , -4.049705  ,\n",
       "       -3.9150276 , -4.005177  ,  3.6646128 ,  3.8900683 ,  4.384443  ,\n",
       "       -3.696467  , -2.8316116 , -3.8147707 , -4.188795  , -3.8731716 ,\n",
       "       -4.531455  , -3.6528955 , -4.5687714 ,  2.6902008 , -1.1166022 ,\n",
       "       -3.4455    , -4.6562505 ,  3.2077157 , -4.233491  ,  3.9813468 ,\n",
       "       -1.1475282 , -2.913409  , -2.9667153 , -3.9599519 ,  3.7376084 ,\n",
       "       -3.7571652 , -3.3005145 , -4.1107635 ,  3.6049845 , -1.2576271 ,\n",
       "       -3.517309  ,  4.3442173 , -2.5813003 , -3.6356263 , -3.9239364 ,\n",
       "       -3.200148  , -3.3514593 ,  4.549842  ,  3.6832078 ,  1.547725  ,\n",
       "        2.7670977 , -4.4446864 ,  1.2213033 ,  2.9291928 ,  3.9997268 ,\n",
       "       -3.1219912 , -3.3622172 ,  2.3927796 ,  3.737838  ,  2.378862  ,\n",
       "       -1.8491349 ,  3.5624459 ,  3.1586728 , -3.3422222 , -3.977763  ,\n",
       "        4.114816  ,  2.5907793 , -3.810062  , -4.1173835 , -2.0867176 ,\n",
       "       -4.277205  ,  3.877539  , -3.9517665 , -2.1670465 , -1.4071952 ,\n",
       "       -2.4588616 ,  4.4961734 , -3.891582  , -4.2253103 ,  4.0883026 ,\n",
       "       -1.2944933 ,  4.2902985 , -3.9596107 , -3.6450274 ,  2.9582524 ,\n",
       "        2.8499844 , -3.7697234 ,  3.32569   , -3.3718574 ,  1.4267948 ,\n",
       "       -4.292186  , -3.712727  ,  3.6061006 ,  4.5030994 , -3.5420673 ,\n",
       "       -2.497073  , -2.3623629 , -2.5341263 , -3.6573627 , -3.1824577 ,\n",
       "       -2.486995  ,  4.719903  , -3.2339544 , -4.4911594 , -3.3400857 ,\n",
       "        4.270199  , -4.930609  ,  3.6419175 ,  3.902854  , -3.445578  ,\n",
       "        3.701479  , -3.1156414 ,  3.1576211 , -3.4732115 , -0.6060321 ,\n",
       "        2.4520068 ,  2.2968607 , -3.6400797 ,  4.7073755 ,  2.3629525 ,\n",
       "       -2.0945008 ,  3.9049928 ,  3.6775613 ,  2.8200083 , -3.5624912 ,\n",
       "        4.097637  ,  4.083028  ,  2.9905238 , -3.99247   ,  2.5596378 ,\n",
       "        3.636323  , -3.9586918 , -1.3096544 , -2.0452328 ,  1.9843473 ,\n",
       "        3.812826  , -4.3992224 , -3.8158672 , -3.8356254 ,  2.6674557 ,\n",
       "        2.5318596 , -3.8338158 , -4.198247  ,  4.114193  ,  3.408283  ,\n",
       "        3.9615006 ,  4.543234  ,  1.3736686 , -3.7052946 , -3.868283  ,\n",
       "       -3.407343  , -3.1616263 , -3.4226198 , -1.8908329 , -2.7995725 ,\n",
       "       -2.585358  ,  3.9645112 , -4.230256  , -3.896876  , -3.8212674 ,\n",
       "        3.1668417 , -2.996779  , -4.3202815 , -4.335672  , -3.5599544 ,\n",
       "       -3.7806895 ,  3.4237874 , -4.8744283 , -3.6758938 ,  3.8476412 ,\n",
       "       -3.9478204 ,  2.6367452 ,  3.1275787 , -3.3969588 , -4.1414766 ,\n",
       "        4.8124175 ,  2.4860215 , -3.9669416 ,  3.0268238 , -3.3744056 ,\n",
       "       -3.308525  ,  4.2347703 ,  4.8945465 ,  3.2098212 ,  3.0014875 ,\n",
       "        3.0428019 , -3.8449976 ,  2.5405617 ,  4.6603937 , -2.8356712 ,\n",
       "        4.551381  ,  4.5124335 ,  2.89947   , -3.5140378 , -4.3515344 ,\n",
       "       -3.3199534 , -4.843694  , -4.1722627 , -3.3606331 , -3.543005  ,\n",
       "       -4.5405645 , -4.027481  , -2.8283381 ,  3.7124667 , -1.9588051 ,\n",
       "       -3.0017815 , -3.4095619 , -4.341127  , -2.944948  ,  3.555184  ,\n",
       "       -3.3489537 , -3.7199934 , -1.6205311 ,  4.003753  , -3.0915153 ,\n",
       "        4.7953196 ,  3.4418566 , -4.2772026 , -4.2071724 , -3.4182851 ,\n",
       "        3.8312364 , -4.8866024 ,  3.7815163 ,  2.8817935 ,  4.3901553 ,\n",
       "        3.0095122 , -3.821573  , -2.7430735 , -4.6622977 , -2.317927  ,\n",
       "        4.5373483 , -3.679224  ,  4.5465164 , -4.3175087 , -4.17362   ,\n",
       "       -3.8892064 , -3.5396795 ,  2.801522  , -3.9601796 , -4.520591  ,\n",
       "       -4.99443   ,  2.5413408 ,  3.1327019 , -4.465878  , -2.867161  ,\n",
       "        4.075598  , -4.5294633 , -4.6627145 ,  4.495629  ,  4.0625596 ,\n",
       "       -5.142629  , -1.2478616 , -4.8194003 ,  3.5279887 , -4.3513217 ,\n",
       "        3.3087761 , -3.2310696 ,  4.41102   , -4.5243945 ,  2.4387314 ,\n",
       "        2.1534224 , -2.8440464 ,  3.794858  , -2.5139797 ,  4.275429  ,\n",
       "        4.0635467 ,  3.6733525 , -3.706808  ,  4.473573  ,  4.0824547 ,\n",
       "       -4.720391  , -4.6165447 ,  2.841661  ,  4.4409766 , -2.801093  ,\n",
       "       -3.9912238 ,  3.359965  ,  4.2588253 , -3.0359094 ,  3.8189464 ,\n",
       "        1.9047432 , -2.0778332 ,  2.3342671 , -0.9476619 ,  3.7865872 ,\n",
       "       -3.6617966 , -4.8677397 , -4.5737877 , -4.2403746 , -3.3812723 ,\n",
       "       -1.7424847 , -4.8789644 , -3.6510458 , -3.5386043 ,  3.4489505 ,\n",
       "       -2.689277  , -4.088154  , -4.112043  ,  4.0703797 ,  1.6554031 ,\n",
       "        3.5751865 ,  4.1485915 ,  1.8381023 ,  2.9737115 ,  4.096678  ,\n",
       "        3.79856   ,  3.479469  ,  3.9076073 , -4.157101  , -4.356584  ,\n",
       "        2.302266  ,  4.5262585 , -3.1694472 , -3.962723  ,  1.8408189 ,\n",
       "        3.6009417 ,  3.0792062 , -4.680197  ,  1.8901083 , -2.7688432 ,\n",
       "        3.9533107 , -4.155711  ,  3.2029266 ,  3.4592702 , -4.007112  ,\n",
       "       -4.536341  , -4.131315  , -3.6211288 , -2.4691813 ,  3.3561423 ,\n",
       "        2.0131087 ,  1.1967725 , -4.3789573 ,  2.9644222 , -1.2972195 ,\n",
       "        4.158847  , -2.9573689 , -1.6090246 , -2.3490658 , -3.0053697 ,\n",
       "       -3.6405694 ,  3.4789364 , -3.8547964 ,  3.4908502 ,  2.596267  ,\n",
       "        4.435193  , -4.1421895 , -2.7183294 ,  2.9477503 ,  1.7634083 ,\n",
       "       -2.2373612 , -2.7523558 ,  4.188425  , -3.9238176 , -4.3983817 ,\n",
       "        4.1792116 ,  3.585442  ,  3.6344566 ,  3.531802  , -2.2286687 ,\n",
       "       -1.7809944 , -3.3418174 ,  3.7925844 , -3.435327  ,  4.3417263 ,\n",
       "        1.8483534 , -4.362591  , -3.9012218 , -4.350348  , -3.0414994 ,\n",
       "       -0.9709258 , -3.616299  , -3.6754105 ,  3.8559425 ,  3.8279324 ,\n",
       "       -5.3097696 , -2.1176863 , -1.8654163 ,  4.1047215 , -3.5775952 ,\n",
       "       -2.386498  , -1.4298952 , -3.173533  , -3.7559123 ,  2.5631695 ,\n",
       "       -3.578557  , -3.9050827 ,  2.634097  , -4.71679   ,  3.9384384 ,\n",
       "       -3.4032023 ,  4.0724835 ,  3.9462237 , -4.562355  , -3.7766252 ,\n",
       "       -5.139903  ,  0.70906305,  3.7082362 , -4.921638  , -2.4855785 ,\n",
       "       -4.953738  ,  4.195891  ,  4.5108824 ,  3.6650887 ,  3.1554255 ,\n",
       "       -4.4439716 ,  3.822852  , -3.0610538 ,  4.490335  ,  2.188195  ,\n",
       "       -4.8141966 ,  2.912042  ,  4.50182   ,  3.0887206 , -3.9034958 ,\n",
       "        2.553629  ,  4.015748  , -3.7805858 , -5.007227  ,  1.8692985 ,\n",
       "       -1.8983055 ,  3.725548  , -4.3047037 , -3.9351015 ,  3.9293122 ,\n",
       "       -3.4942796 , -0.37823847,  4.2126155 , -5.0136194 ,  4.6189466 ,\n",
       "        2.0015688 ,  4.4419503 ,  4.298851  ,  4.081607  , -3.850123  ,\n",
       "       -3.2457116 , -4.6671863 ,  4.2448063 ,  2.3344164 ,  4.3898735 ,\n",
       "        3.7416418 , -2.0024524 ,  4.5991435 ,  2.6278138 ,  3.5866642 ,\n",
       "        3.921603  ,  3.336952  ,  3.9396985 , -1.523045  ,  3.2609081 ,\n",
       "        1.6973499 ,  4.3281255 ,  3.3363366 , -2.718543  ,  3.8311346 ,\n",
       "       -3.802279  , -1.0045093 ,  4.4695916 ,  3.0205705 , -2.240291  ,\n",
       "       -1.4325787 , -3.3352304 ,  4.590996  , -4.434625  ,  3.6302028 ,\n",
       "       -3.3846998 , -3.8790338 ,  2.260596  , -4.172196  , -4.5379143 ,\n",
       "        3.9532516 , -3.2840154 , -3.741199  , -4.3408666 ,  4.524551  ,\n",
       "        3.9961264 , -2.8562655 ,  4.7745686 , -3.4900472 , -2.4703984 ,\n",
       "        1.7958523 , -4.3967214 ,  0.44897676,  4.112848  ,  4.3004613 ,\n",
       "       -4.5493097 , -5.229805  , -4.7609324 , -3.5059683 ,  4.099541  ,\n",
       "        4.7268186 ,  4.078085  ,  4.0545816 ,  4.6283827 , -3.8452322 ,\n",
       "       -4.346885  , -4.0069246 ,  3.9030435 , -3.3181863 , -1.6907299 ,\n",
       "       -3.861563  ,  4.0085087 ,  3.4058385 , -2.5551236 ,  3.9642155 ,\n",
       "        3.6349776 , -3.460973  ,  4.715161  ,  3.7805996 , -3.7361066 ,\n",
       "        4.031847  , -4.314038  , -3.7844248 , -4.226928  ,  4.920008  ,\n",
       "       -4.7310233 , -3.4984436 ,  3.3622668 ,  2.474991  ,  3.5782323 ,\n",
       "        3.0169683 , -3.6352522 , -1.8208711 , -4.689666  , -1.6826818 ,\n",
       "        3.4274728 , -3.3893514 , -3.7864735 ,  1.0578885 , -4.3670034 ,\n",
       "       -3.9837132 ,  3.9256341 ,  2.9265351 ,  3.9638598 ,  3.6800816 ,\n",
       "       -4.230332  ,  3.1899827 ,  2.9039135 ,  3.5411055 , -3.1748972 ,\n",
       "        4.16096   , -3.2826393 ,  5.153548  , -3.4633346 ,  0.24700491,\n",
       "       -3.8588817 ,  3.5837746 , -3.7093308 ,  4.1594586 , -1.0628319 ,\n",
       "        1.9096296 ,  2.5097945 , -3.9339712 ,  3.318016  , -1.8127567 ,\n",
       "       -3.9681656 ,  2.3922348 , -4.6096406 , -1.4630595 , -3.2419338 ,\n",
       "        3.8943417 ,  1.0898447 ,  3.6034687 , -3.412241  ,  2.933063  ,\n",
       "       -0.30244482, -3.8843412 ,  3.6313348 , -3.8559167 , -3.9244354 ,\n",
       "       -2.5594106 ,  2.3624907 ,  2.6473565 , -2.9352353 ,  1.3257343 ,\n",
       "        1.8507143 ,  3.002963  ,  4.431934  , -4.5987473 , -3.307094  ,\n",
       "       -4.6541004 ,  2.1665251 , -1.5937264 , -5.1979604 ,  2.1526668 ,\n",
       "        4.4714956 ,  3.7945385 ,  3.7815614 , -4.4496107 , -3.7474568 ,\n",
       "        4.4537745 , -3.5813303 ,  3.1417706 ,  4.123371  ,  4.3202486 ,\n",
       "       -4.084717  , -4.8030596 , -1.7684771 ,  3.5608947 , -3.9982865 ,\n",
       "        3.812497  ,  2.7228224 ,  2.1528897 ,  0.40344915, -4.4747977 ,\n",
       "       -3.3064454 ,  3.4106019 ,  3.7224946 ,  3.4765792 ,  4.2451563 ],\n",
       "      dtype=float32)"
      ]
     },
     "execution_count": 179,
     "metadata": {},
     "output_type": "execute_result"
    }
   ],
   "source": [
    "x_c"
   ]
  },
  {
   "cell_type": "markdown",
   "metadata": {},
   "source": [
    "It is convenient to visualize data in plots. For instance, we can create ask for the positions on the <code> x-y </code> plane. "
   ]
  },
  {
   "cell_type": "code",
   "execution_count": 180,
   "metadata": {},
   "outputs": [
    {
     "data": {
      "image/png": "[encoded data removed]",
      "text/plain": [
       "<Figure size 432x288 with 1 Axes>"
      ]
     },
     "metadata": {
      "needs_background": "light"
     },
     "output_type": "display_data"
    }
   ],
   "source": [
    "plt.plot(x_c,y_c, 'rp') #change 'cf' = color shape, for instance bs = blue squares, ro=red balls\n",
    "plt.xlabel('X ( kpc )')\n",
    "plt.ylabel('Y ( kpc )')\n",
    "plt.title(' DM particles positions on the X-Y plane')\n",
    "plt.show()"
   ]
  },
  {
   "cell_type": "markdown",
   "metadata": {},
   "source": [
    "# Excercise"
   ]
  },
  {
   "cell_type": "markdown",
   "metadata": {},
   "source": [
    "This excercice has two parts:\n",
    "1. Do a plot for the particles positions on the  X-Z, and Y-Z, for  the last 800 particles in the data set.\n",
    "2. Do a plot of the particles velocities in the Vx-Vy plane, recall the key for the particles velocities is <code> 'Velocities' </code>"
   ]
  },
  {
   "cell_type": "markdown",
   "metadata": {},
   "source": [
    "## 3-D plots\n",
    "\n",
    "More on 3D plotting\n",
    " <a href='https://jakevdp.github.io/PythonDataScienceHandbook/04.12-three-dimensional-plotting.html'> 3-D_plotting </a> \n"
   ]
  },
  {
   "cell_type": "markdown",
   "metadata": {},
   "source": [
    "Let us finally use mathplot library to do 3 dimensional plots"
   ]
  },
  {
   "cell_type": "code",
   "execution_count": 136,
   "metadata": {},
   "outputs": [],
   "source": [
    "from mpl_toolkits.mplot3d import axes3d\n"
   ]
  },
  {
   "cell_type": "code",
   "execution_count": 181,
   "metadata": {},
   "outputs": [
    {
     "data": {
      "text/plain": [
       "<mpl_toolkits.mplot3d.art3d.Path3DCollection at 0x7f4d490e4f50>"
      ]
     },
     "execution_count": 181,
     "metadata": {},
     "output_type": "execute_result"
    },
    {
     "data": {
      "image/png": "[encoded data removed]",
      "text/plain": [
       "<Figure size 432x288 with 1 Axes>"
      ]
     },
     "metadata": {
      "needs_background": "light"
     },
     "output_type": "display_data"
    }
   ],
   "source": [
    "fig = plt.figure()\n",
    "ax = plt.axes(projection = '3d')\n",
    "x_pt = np.array([particle_codts[i][0] for i in range(1000)])\n",
    "y_pt = np.array([particle_codts[i][1] for i in range(1000)])\n",
    "z_pt = np.array([particle_codts[i][0] for i in range(1000)])\n",
    "plt.title(' DM particles 3-D positions')\n",
    "plt.xlabel('X ( kpc )')\n",
    "plt.ylabel('Y ( kpc )')\n",
    "plt.ylabel('Z ( kpc )')\n",
    "ax.scatter3D(x_pt, y_pt, z_pt, c = z_pt, cmap='Greens')\n"
   ]
  },
  {
   "cell_type": "markdown",
   "metadata": {},
   "source": [
    "The contours are not too important, they just show that particles are at positive (dark) degative (light) positions"
   ]
  },
  {
   "cell_type": "markdown",
   "metadata": {},
   "source": [
    "Sometimes the default viewing angle is not optimal, in which case we can use the view_init method to set the elevation and azimuthal angles. In the following example, we'll use an elevation of 60 degrees (that is, 60 degrees above the x-y plane) and an azimuth of 35 degrees (that is, rotated 35 degrees counter-clockwise about the z-axis):"
   ]
  },
  {
   "cell_type": "code",
   "execution_count": 182,
   "metadata": {},
   "outputs": [
    {
     "data": {
      "image/png": "[encoded data removed]",
      "text/plain": [
       "<Figure size 432x288 with 1 Axes>"
      ]
     },
     "execution_count": 182,
     "metadata": {},
     "output_type": "execute_result"
    }
   ],
   "source": [
    "ax.view_init(60, 35)\n",
    "fig"
   ]
  },
  {
   "cell_type": "markdown",
   "metadata": {},
   "source": [
    "# Excercise\n",
    "Do a 3 dimensional plot for the particles linear momentum. Recall the linear momentum for each particle is defined as <code> p = m v </code>. Hint, the particles mass can be acces from the data set using the key  <code> 'Mass' </code>"
   ]
  },
  {
   "cell_type": "code",
   "execution_count": null,
   "metadata": {},
   "outputs": [],
   "source": []
  }
 ],
 "metadata": {
  "kernelspec": {
   "display_name": "Python 3",
   "language": "python",
   "name": "python3"
  },
  "language_info": {
   "codemirror_mode": {
    "name": "ipython",
    "version": 3
   },
   "file_extension": ".py",
   "mimetype": "text/x-python",
   "name": "python",
   "nbconvert_exporter": "python",
   "pygments_lexer": "ipython3",
   "version": "3.7.6"
  }
 },
 "nbformat": 4,
 "nbformat_minor": 4
}
