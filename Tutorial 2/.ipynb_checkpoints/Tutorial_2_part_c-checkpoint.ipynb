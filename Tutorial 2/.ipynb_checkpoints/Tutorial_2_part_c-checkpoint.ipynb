{
 "cells": [
  {
   "cell_type": "markdown",
   "metadata": {},
   "source": [
    "# Working with data structures"
   ]
  },
  {
   "cell_type": "markdown",
   "metadata": {},
   "source": [
    "## Junior mentor:\n",
    "\n",
    "Y. Fabian Bautista\n"
   ]
  },
  {
   "cell_type": "markdown",
   "metadata": {},
   "source": [
    "## Objectives of the tutorial"
   ]
  },
  {
   "cell_type": "markdown",
   "metadata": {},
   "source": [
    "1. Use h5py package for data set manipulation\n",
    "2. Make histograms using the pandas library  and the np.histogram function\n",
    "3. Compute the density profile from simulation data and fit it to a NFW profile\n",
    "4. Compute the velocity distribution function for DM particles in the solar vicinity, and fit it to a Maxwellian distribution "
   ]
  },
  {
   "cell_type": "markdown",
   "metadata": {},
   "source": [
    "### Loading packages"
   ]
  },
  {
   "cell_type": "code",
   "execution_count": null,
   "metadata": {},
   "outputs": [],
   "source": [
    "import matplotlib.pyplot as plt # For ploting\n",
    "import numpy as np # For array and mathematical manipulations"
   ]
  },
  {
   "cell_type": "markdown",
   "metadata": {},
   "source": [
    "# Arrays"
   ]
  },
  {
   "cell_type": "markdown",
   "metadata": {},
   "source": [
    "A numpy array is similar to a list. It's usually fixed in size and each element is of the same type. We can cast a list to a numpy array by first importing numpy: "
   ]
  },
  {
   "cell_type": "markdown",
   "metadata": {},
   "source": [
    "## 1D Arrays"
   ]
  },
  {
   "cell_type": "markdown",
   "metadata": {},
   "source": [
    " We  cast a list as follows:\n"
   ]
  },
  {
   "cell_type": "code",
   "execution_count": null,
   "metadata": {},
   "outputs": [],
   "source": [
    "# Create a numpy array\n",
    "\n",
    "a = np.array([0, 1, 2, 3, 4])\n",
    "a"
   ]
  },
  {
   "cell_type": "markdown",
   "metadata": {},
   "source": [
    "Each element is of the same type, in this case integers: \n"
   ]
  },
  {
   "cell_type": "markdown",
   "metadata": {},
   "source": [
    " As with lists, we can access each element via a square bracket:\n"
   ]
  },
  {
   "cell_type": "code",
   "execution_count": null,
   "metadata": {},
   "outputs": [],
   "source": [
    "# Print each element\n",
    "\n",
    "print(\"a[0]:\", a[0])\n",
    "print(\"a[1]:\", a[1])\n",
    "print(\"a[2]:\", a[2])\n",
    "print(\"a[3]:\", a[3])\n",
    "print(\"a[4]:\", a[4])"
   ]
  },
  {
   "cell_type": "markdown",
   "metadata": {},
   "source": [
    "If we check the type of the array we get <b>numpy.ndarray</b>:\n"
   ]
  },
  {
   "cell_type": "code",
   "execution_count": null,
   "metadata": {},
   "outputs": [],
   "source": [
    "# Check the type of the array\n",
    "\n",
    "type(a)"
   ]
  },
  {
   "cell_type": "markdown",
   "metadata": {},
   "source": [
    "As numpy arrays contain data of the same type, we can use the attribute \"dtype\" to obtain the Data-type of the array’s elements. In this case a 64-bit integer: "
   ]
  },
  {
   "cell_type": "code",
   "execution_count": null,
   "metadata": {},
   "outputs": [],
   "source": [
    "# Check the type of the values stored in numpy array\n",
    "\n",
    "a.dtype"
   ]
  },
  {
   "cell_type": "markdown",
   "metadata": {},
   "source": [
    "We can create a numpy array with real numbers:\n"
   ]
  },
  {
   "cell_type": "code",
   "execution_count": null,
   "metadata": {},
   "outputs": [],
   "source": [
    "# Create a numpy array\n",
    "\n",
    "b = np.array([3.1, 11.02, 6.2, 213.2, 5.2])"
   ]
  },
  {
   "cell_type": "code",
   "execution_count": null,
   "metadata": {},
   "outputs": [],
   "source": [
    "# Check the type of array\n",
    "\n",
    "type(b)"
   ]
  },
  {
   "cell_type": "code",
   "execution_count": null,
   "metadata": {},
   "outputs": [],
   "source": [
    "# Check the value type\n",
    "\n",
    "b.dtype"
   ]
  },
  {
   "cell_type": "markdown",
   "metadata": {},
   "source": [
    "### Slicing"
   ]
  },
  {
   "cell_type": "markdown",
   "metadata": {},
   "source": [
    "Like lists, we can slice the numpy array, and we can select the elements from 1 to 3 and assign it to a new numpy array <code>d</code> as follows:"
   ]
  },
  {
   "cell_type": "code",
   "execution_count": null,
   "metadata": {},
   "outputs": [],
   "source": [
    "# Create numpy array\n",
    "\n",
    "c = np.array([20, 1, 2, 3, 4])\n",
    "\n",
    "# Slicing the numpy array\n",
    "\n",
    "d = c[1:4]\n",
    "d"
   ]
  },
  {
   "cell_type": "markdown",
   "metadata": {},
   "source": [
    "### Assign Value with List\n"
   ]
  },
  {
   "cell_type": "markdown",
   "metadata": {},
   "source": [
    "Similarly, we can use a list to select a specific index.\n",
    "The list ' select ' contains several values:"
   ]
  },
  {
   "cell_type": "code",
   "execution_count": null,
   "metadata": {},
   "outputs": [],
   "source": [
    "# Create the index list\n",
    "\n",
    "select = [0, 2, 3]"
   ]
  },
  {
   "cell_type": "markdown",
   "metadata": {},
   "source": [
    "We can use the list as an argument in the brackets. The output is the elements corresponding to the particular index:"
   ]
  },
  {
   "cell_type": "code",
   "execution_count": null,
   "metadata": {},
   "outputs": [],
   "source": [
    "# Use List to select elements\n",
    "\n",
    "d = c[select]\n",
    "d"
   ]
  },
  {
   "cell_type": "markdown",
   "metadata": {},
   "source": [
    "### Other Attributes"
   ]
  },
  {
   "cell_type": "markdown",
   "metadata": {},
   "source": [
    "Let's review some basic array attributes using the array <code>a</code>:"
   ]
  },
  {
   "cell_type": "code",
   "execution_count": null,
   "metadata": {},
   "outputs": [],
   "source": [
    "# Create a numpy array\n",
    "\n",
    "e = np.array([0, 1, 2, 3, 4])\n",
    "e"
   ]
  },
  {
   "cell_type": "markdown",
   "metadata": {},
   "source": [
    "The attribute <code>size</code> is the number of elements in the array:"
   ]
  },
  {
   "cell_type": "code",
   "execution_count": null,
   "metadata": {},
   "outputs": [],
   "source": [
    "# Get the size of numpy array\n",
    "\n",
    "e.size"
   ]
  },
  {
   "cell_type": "markdown",
   "metadata": {},
   "source": [
    "The next two attributes will make more sense when we get to higher dimensions but let's review them. The attribute <code>ndim</code> represents the number of array dimensions or the rank of the array, in this case, one:"
   ]
  },
  {
   "cell_type": "code",
   "execution_count": null,
   "metadata": {},
   "outputs": [],
   "source": [
    "# Get the number of dimensions of numpy array\n",
    "\n",
    "e.ndim"
   ]
  },
  {
   "cell_type": "markdown",
   "metadata": {},
   "source": [
    "The attribute <code>shape</code> is a tuple of integers indicating the size of the array in each dimension:"
   ]
  },
  {
   "cell_type": "code",
   "execution_count": null,
   "metadata": {},
   "outputs": [],
   "source": [
    "# Get the shape/size of numpy array\n",
    "\n",
    "a.shape"
   ]
  },
  {
   "cell_type": "markdown",
   "metadata": {},
   "source": [
    "### Mean of a 1D numpy array"
   ]
  },
  {
   "cell_type": "code",
   "execution_count": null,
   "metadata": {},
   "outputs": [],
   "source": [
    "# Get the mean of numpy array\n",
    "\n",
    "mean = e.mean()\n",
    "mean"
   ]
  },
  {
   "cell_type": "markdown",
   "metadata": {},
   "source": [
    "### Get the standard deviation of 1D numpy array\n"
   ]
  },
  {
   "cell_type": "code",
   "execution_count": null,
   "metadata": {},
   "outputs": [],
   "source": [
    "# Get the standard deviation of numpy array\n",
    "\n",
    "standard_deviation = e.std()\n",
    "standard_deviation"
   ]
  },
  {
   "cell_type": "markdown",
   "metadata": {},
   "source": [
    "### Maximal and minimal values in a 1D array"
   ]
  },
  {
   "cell_type": "code",
   "execution_count": null,
   "metadata": {},
   "outputs": [],
   "source": [
    "# Get the biggest value in the numpy array\n",
    "\n",
    "max_e = e.max()\n",
    "max_e"
   ]
  },
  {
   "cell_type": "code",
   "execution_count": null,
   "metadata": {},
   "outputs": [],
   "source": [
    "# Get the smallest value in the numpy array\n",
    "\n",
    "min_e = e.min()\n",
    "min_e"
   ]
  },
  {
   "cell_type": "markdown",
   "metadata": {},
   "source": [
    "# 2 -D numpy arrays"
   ]
  },
  {
   "cell_type": "markdown",
   "metadata": {},
   "source": [
    "<h2 id=\"create\">Create a 2D Numpy Array</h2>\n"
   ]
  },
  {
   "cell_type": "markdown",
   "metadata": {},
   "source": [
    "Consider the list <code>a</code>, the list contains three nested lists **each of equal size**. \n"
   ]
  },
  {
   "cell_type": "code",
   "execution_count": null,
   "metadata": {},
   "outputs": [],
   "source": [
    "# Create a list\n",
    "\n",
    "a = [[11, 12, 13], [21, 22, 23], [31, 32, 33]]\n",
    "a"
   ]
  },
  {
   "cell_type": "markdown",
   "metadata": {},
   "source": [
    "We can cast the list to a Numpy Array as follow"
   ]
  },
  {
   "cell_type": "code",
   "execution_count": null,
   "metadata": {},
   "outputs": [],
   "source": [
    "# Convert list to Numpy Array\n",
    "# Every element is the same type\n",
    "\n",
    "A = np.array(a)\n",
    "A"
   ]
  },
  {
   "cell_type": "markdown",
   "metadata": {},
   "source": [
    "We can use the attribute <code>ndim</code> to obtain the number of axes or dimensions referred to as the rank. "
   ]
  },
  {
   "cell_type": "code",
   "execution_count": null,
   "metadata": {},
   "outputs": [],
   "source": [
    "# Show the numpy array dimensions\n",
    "\n",
    "A.ndim"
   ]
  },
  {
   "cell_type": "markdown",
   "metadata": {},
   "source": [
    "Attribute <code>shape</code> returns a tuple corresponding to the size or number of each dimension."
   ]
  },
  {
   "cell_type": "code",
   "execution_count": null,
   "metadata": {},
   "outputs": [],
   "source": [
    "# Show the numpy array shape\n",
    "\n",
    "A.shape"
   ]
  },
  {
   "cell_type": "markdown",
   "metadata": {},
   "source": [
    "The total number of elements in the array is given by the attribute <code>size</code>.\n"
   ]
  },
  {
   "cell_type": "code",
   "execution_count": null,
   "metadata": {},
   "outputs": [],
   "source": [
    "# Show the numpy array size\n",
    "\n",
    "A.size"
   ]
  },
  {
   "cell_type": "markdown",
   "metadata": {},
   "source": [
    "<h2 id=\"access\">Accessing different elements of a Numpy Array</h2>\n"
   ]
  },
  {
   "cell_type": "markdown",
   "metadata": {},
   "source": [
    "We can use rectangular brackets to access the different elements of the array. The correspondence between the rectangular brackets and the list and the rectangular representation is shown in the following figure for a 3x3 array:  \n"
   ]
  },
  {
   "cell_type": "markdown",
   "metadata": {},
   "source": [
    "<img src=\"https://cf-courses-data.s3.us.cloud-object-storage.appdomain.cloud/IBMDeveloperSkillsNetwork-PY0101EN-SkillsNetwork/labs/Module%205/images/NumTwoEg.png\" width=\"500\" />"
   ]
  },
  {
   "cell_type": "markdown",
   "metadata": {},
   "source": [
    "We can access the 2nd-row 3rd column as shown in the following figure:\n"
   ]
  },
  {
   "cell_type": "markdown",
   "metadata": {},
   "source": [
    "<img src=\"https://cf-courses-data.s3.us.cloud-object-storage.appdomain.cloud/IBMDeveloperSkillsNetwork-PY0101EN-SkillsNetwork/labs/Module%205/images/NumTwoFT.png\" width=\"400\" />"
   ]
  },
  {
   "cell_type": "markdown",
   "metadata": {},
   "source": [
    " We simply use the square brackets and the indices corresponding to the element we would like:\n"
   ]
  },
  {
   "cell_type": "code",
   "execution_count": null,
   "metadata": {},
   "outputs": [],
   "source": [
    "# Access the element on the second row and third column\n",
    "\n",
    "A[1, 2]"
   ]
  },
  {
   "cell_type": "markdown",
   "metadata": {},
   "source": [
    "We can also use slicing in numpy arrays. Consider the following figure. We would like to obtain the first two columns in the first row"
   ]
  },
  {
   "cell_type": "markdown",
   "metadata": {},
   "source": [
    "<img src=\"https://cf-courses-data.s3.us.cloud-object-storage.appdomain.cloud/IBMDeveloperSkillsNetwork-PY0101EN-SkillsNetwork/labs/Module%205/images/NumTwoFSF.png\" width=\"400\" />"
   ]
  },
  {
   "cell_type": "markdown",
   "metadata": {},
   "source": [
    "This can be done with the following syntax "
   ]
  },
  {
   "cell_type": "code",
   "execution_count": null,
   "metadata": {},
   "outputs": [],
   "source": [
    "# Access the element on the first row and first and second columns\n",
    "\n",
    "A[0,0:2] #  or equivalent A[0][0:2]"
   ]
  },
  {
   "cell_type": "markdown",
   "metadata": {},
   "source": [
    "### Excercise"
   ]
  },
  {
   "cell_type": "markdown",
   "metadata": {},
   "source": [
    "Write the comand that selects the following elements of the array \n",
    "<img src=\"https://cf-courses-data.s3.us.cloud-object-storage.appdomain.cloud/IBMDeveloperSkillsNetwork-PY0101EN-SkillsNetwork/labs/Module%205/images/2D_numpy.png\" width=\"550\"><br />"
   ]
  },
  {
   "cell_type": "markdown",
   "metadata": {},
   "source": [
    "## Numpy Array Operations"
   ]
  },
  {
   "cell_type": "markdown",
   "metadata": {},
   "source": [
    "Recall <code> numpy </code> is a python lidrary for doing mathematics. In particular, we can do the usual mathematics for arrays. "
   ]
  },
  {
   "cell_type": "markdown",
   "metadata": {},
   "source": [
    "### Addition \n",
    "\n",
    "We can  add arrays. The process is identical to matrix addition. Matrix addition of <code>X</code> and <code>Y</code> is shown in the following figure:\n",
    "\n",
    "<img src=\"https://cf-courses-data.s3.us.cloud-object-storage.appdomain.cloud/IBMDeveloperSkillsNetwork-PY0101EN-SkillsNetwork/labs/Module%205/images/NumTwoAdd.png\" width=\"500\" />\n",
    "\n"
   ]
  },
  {
   "cell_type": "markdown",
   "metadata": {},
   "source": [
    "Consuder for instance the numpy array given by <code>X</code> and <code>Y</code>\n"
   ]
  },
  {
   "cell_type": "code",
   "execution_count": null,
   "metadata": {},
   "outputs": [],
   "source": [
    "# Create a numpy array X\n",
    "\n",
    "X = np.array([[1, 0], [0, 1]]) \n",
    "X"
   ]
  },
  {
   "cell_type": "code",
   "execution_count": null,
   "metadata": {},
   "outputs": [],
   "source": [
    "# Create a numpy array Y\n",
    "\n",
    "Y = np.array([[2, 1], [1, 2]]) \n",
    "Y"
   ]
  },
  {
   "cell_type": "code",
   "execution_count": null,
   "metadata": {},
   "outputs": [],
   "source": [
    "# Add X and Y\n",
    "\n",
    "Z = X + Y\n",
    "Z"
   ]
  },
  {
   "cell_type": "markdown",
   "metadata": {},
   "source": [
    "### Mutiplication by a scalar\n",
    "\n",
    "Multiplying a numpy array by a scaler is identical to multiplying a matrix by a scaler. If we multiply the matrix <code>Y</code> by the scaler 2, we simply multiply every element in the matrix by 2 as shown in the figure.\n",
    "<img src=\"https://cf-courses-data.s3.us.cloud-object-storage.appdomain.cloud/IBMDeveloperSkillsNetwork-PY0101EN-SkillsNetwork/labs/Module%205/images/NumTwoDb.png\" width=\"500\" />"
   ]
  },
  {
   "cell_type": "code",
   "execution_count": null,
   "metadata": {},
   "outputs": [],
   "source": [
    "2*Y"
   ]
  },
  {
   "cell_type": "markdown",
   "metadata": {},
   "source": [
    "### Matrix multiplication\n",
    "\n",
    "Recall that the multiplication of two rectangulat matrices X and Y, requires that the number of collums in X is equal to the number of rows in Y. That is, <code> sum( X[i,n] Y[n,j]) = W[i,j] </code>"
   ]
  },
  {
   "cell_type": "code",
   "execution_count": null,
   "metadata": {},
   "outputs": [],
   "source": [
    "W = np.dot(X,Y)\n",
    "W"
   ]
  },
  {
   "cell_type": "markdown",
   "metadata": {},
   "source": [
    "# Excercise\n",
    "\n",
    "considet the lists <code> a = [[1, 2, 3, 4], [5, 6, 7, 8], [9, 10, 11, 12]] </code> and <code > b = [0,3,5,6] </code>\n",
    "\n",
    "1. Convert them to Numpy Arrays\n",
    "2. Multiply the matrix a by the number 10\n",
    "3. Compute the norm of the vector b\n",
    "4. Comput the product of the matrix a and the vector b. What is the <code> shape </code>, <code> ndim </code> and <code> size </code> of the resulting matrix ?"
   ]
  },
  {
   "cell_type": "markdown",
   "metadata": {},
   "source": [
    "We can also apply some numpy functions over matrices. For intance, we can compute the <code> sin </code> of matrix. It computes the sine of each elemen in the matrix"
   ]
  },
  {
   "cell_type": "code",
   "execution_count": null,
   "metadata": {},
   "outputs": [],
   "source": [
    "np.sin(W)"
   ]
  },
  {
   "cell_type": "markdown",
   "metadata": {},
   "source": [
    "#  h5py Data sets "
   ]
  },
  {
   "cell_type": "markdown",
   "metadata": {},
   "source": [
    "### For more information see  <a href=\"https://docs.h5py.org/en/stable/quick.html\"> h5py </a>\n",
    "\n",
    "An HDF5 file is a container for two kinds of objects: <code> datasets </code>, which are array-like collections of data, and <code> groups, </code> which are folder-like containers that hold datasets and other groups. The most fundamental thing to remember when using h5py is:\n",
    "\n",
    "#### Groups work like dictionaries, and datasets work like NumPy arrays\n",
    "\n",
    "\n",
    "In this part of the tutorial we will explore several features when working with h5py datasets. We will show that by working with an especific example:"
   ]
  },
  {
   "cell_type": "markdown",
   "metadata": {},
   "source": [
    "## Example of h5py Data sets \n",
    "\n",
    "The Auriga simulations  provided us with the  data file <code>  'halo_1_DMO.hdf5' </code> which contains   a set of  dark matter particles placed between 4-15 kpc in a dark matter-only halo. In the data set,  we have acces to  the particle <code> 'Coordinates' (x, y, z in kpc) </code> , the particles  <code> 'Mass' (in Solar masses) </code>, and  <code> 'Velocities' (vx, vy, vz in km/s) </code> ."
   ]
  },
  {
   "cell_type": "code",
   "execution_count": null,
   "metadata": {},
   "outputs": [],
   "source": [
    "import h5py "
   ]
  },
  {
   "cell_type": "markdown",
   "metadata": {},
   "source": [
    "### Loading data sets"
   ]
  },
  {
   "cell_type": "code",
   "execution_count": null,
   "metadata": {},
   "outputs": [],
   "source": [
    "file_path = 'halo_1_DMO.hdf5'"
   ]
  },
  {
   "cell_type": "code",
   "execution_count": null,
   "metadata": {},
   "outputs": [],
   "source": [
    "halo1 = h5py.File(file_path, 'r') #'r' atribute to read only"
   ]
  },
  {
   "cell_type": "code",
   "execution_count": null,
   "metadata": {},
   "outputs": [],
   "source": [
    "# with h5py.File(file_path,'r') as halo_1:\n",
    "    \n",
    "#     data_halo_1 = halo_1['DarkMatter']\n",
    "    \n",
    "#     print(data_halo_1.keys())\n",
    "    \n"
   ]
  },
  {
   "cell_type": "markdown",
   "metadata": {},
   "source": [
    "As in a dictionary, we can as for the set of keys contained in the file"
   ]
  },
  {
   "cell_type": "code",
   "execution_count": null,
   "metadata": {},
   "outputs": [],
   "source": [
    "halo1.keys()"
   ]
  },
  {
   "cell_type": "markdown",
   "metadata": {},
   "source": [
    "Let us create a new data set, which contains all the information contained in the group <code> 'DarkMatter' </code>"
   ]
  },
  {
   "cell_type": "code",
   "execution_count": null,
   "metadata": {},
   "outputs": [],
   "source": [
    "data_set = halo1['DarkMatter']\n",
    "data_set"
   ]
  },
  {
   "cell_type": "markdown",
   "metadata": {},
   "source": [
    "As we have mentioned, groups contain both data sets, or other subgroups. To see what data sets  and subgoups are inlcuded, we use the <code> keys() </code> atribute of the group (recall groups work as normal dictionaries)"
   ]
  },
  {
   "cell_type": "code",
   "execution_count": null,
   "metadata": {},
   "outputs": [],
   "source": [
    "data_set.keys()"
   ]
  },
  {
   "cell_type": "markdown",
   "metadata": {},
   "source": [
    "Let us create a dataset wich contains only the coordinates of the DM particles"
   ]
  },
  {
   "cell_type": "code",
   "execution_count": null,
   "metadata": {},
   "outputs": [],
   "source": [
    "particle_codts = data_set['Coordinates']\n",
    "particle_codts"
   ]
  },
  {
   "cell_type": "markdown",
   "metadata": {},
   "source": [
    " We can for instance create  1-D arrays that contains the particles x, y or z coordinates only. Since there are <code> 244986 </code> particles, we choose to work with a subset of them, for instance the first <code> 1000 </code> particles"
   ]
  },
  {
   "cell_type": "code",
   "execution_count": null,
   "metadata": {},
   "outputs": [],
   "source": [
    "x_c = np.array([particle_codts[i][0] for i in range(len(particle_codts) )])\n",
    "y_c = np.array([particle_codts[i][1] for i in range(len(particle_codts) )])"
   ]
  },
  {
   "cell_type": "markdown",
   "metadata": {},
   "source": [
    "It is convenient to visualize data in plots. For instance, we can create ask for the positions on the <code> x-y </code> plane. "
   ]
  },
  {
   "cell_type": "code",
   "execution_count": null,
   "metadata": {},
   "outputs": [],
   "source": [
    "plt.plot(x_c,y_c, 'rp') #change 'cf' = color shape, for instance bs = blue squares, ro=red balls\n",
    "plt.xlabel('X ( kpc )')\n",
    "plt.ylabel('Y ( kpc )')\n",
    "plt.title(' DM particles positions on the X-Y plane')\n",
    "plt.show()"
   ]
  },
  {
   "cell_type": "markdown",
   "metadata": {},
   "source": [
    "# Excercise"
   ]
  },
  {
   "cell_type": "markdown",
   "metadata": {},
   "source": [
    "This excercice has two parts:\n",
    "1. Do a plot for the particles positions on the  X-Z, and Y-Z, for  the last 800 particles in the data set.\n",
    "2. Do a plot of the particles velocities in the Vx-Vy plane, recall the key for the particles velocities is <code> 'Velocities' </code>"
   ]
  },
  {
   "cell_type": "markdown",
   "metadata": {},
   "source": [
    "## 3-D plots\n",
    "\n",
    "More on 3D plotting\n",
    " <a href='https://jakevdp.github.io/PythonDataScienceHandbook/04.12-three-dimensional-plotting.html'> 3-D_plotting </a> \n"
   ]
  },
  {
   "cell_type": "markdown",
   "metadata": {},
   "source": [
    "Let us finally use mathplot library to do 3 dimensional plots"
   ]
  },
  {
   "cell_type": "code",
   "execution_count": null,
   "metadata": {},
   "outputs": [],
   "source": [
    "from mpl_toolkits.mplot3d import axes3d\n"
   ]
  },
  {
   "cell_type": "code",
   "execution_count": null,
   "metadata": {},
   "outputs": [],
   "source": [
    "fig = plt.figure()\n",
    "ax = plt.axes(projection = '3d')\n",
    "x_pt = np.array([particle_codts[i][0] for i in range(1000)])\n",
    "y_pt = np.array([particle_codts[i][1] for i in range(1000)])\n",
    "z_pt = np.array([particle_codts[i][0] for i in range(1000)])\n",
    "plt.title(' DM particles 3-D positions')\n",
    "plt.xlabel('X ( kpc )')\n",
    "plt.ylabel('Y ( kpc )')\n",
    "plt.ylabel('Z ( kpc )')\n",
    "ax.scatter3D(x_pt, y_pt, z_pt, c = z_pt, cmap='Greens')\n"
   ]
  },
  {
   "cell_type": "markdown",
   "metadata": {},
   "source": [
    "The contours are not too important, they just show that particles are at positive (dark) degative (light) positions"
   ]
  },
  {
   "cell_type": "markdown",
   "metadata": {},
   "source": [
    "Sometimes the default viewing angle is not optimal, in which case we can use the view_init method to set the elevation and azimuthal angles. In the following example, we'll use an elevation of 60 degrees (that is, 60 degrees above the x-y plane) and an azimuth of 35 degrees (that is, rotated 35 degrees counter-clockwise about the z-axis):"
   ]
  },
  {
   "cell_type": "code",
   "execution_count": null,
   "metadata": {},
   "outputs": [],
   "source": [
    "ax.view_init(60, 35)\n",
    "fig"
   ]
  },
  {
   "cell_type": "markdown",
   "metadata": {},
   "source": [
    "# Density profile from  simulations\n",
    "\n",
    "In practice we will  calculate the density from the summed mass\n",
    "of particles within logarithmically-spaced spherical shells.\n",
    "Since all DM particles have the same mass, the DM density for a given $r-$shell is given by \n",
    "$$\n",
    "\\rho_i = \\frac{m N_i}{4/3\\pi (r_{i}^3-r_{i-1}^3)},  \n",
    "$$\n",
    "where $r_i$ is the position of the $r_i$-shell, $N_i$ is the total number of particles inside the two spheric shell given by  $r_i$ and $r_{i-1}$."
   ]
  },
  {
   "cell_type": "markdown",
   "metadata": {},
   "source": [
    "### Compitation of the number of particles in a given bin"
   ]
  },
  {
   "cell_type": "markdown",
   "metadata": {},
   "source": [
    "The positions of particles are measured with respect to the galactic center $(0,0,0)$. Then, let us compute the distace  $r_i$  from the center, for each particle. It is just given by the norm of the position vector $$r_i= \\left|\\vec{r}_i\\right|= \\sqrt{x_i^2+y_i^2+z_i^2} $$"
   ]
  },
  {
   "cell_type": "code",
   "execution_count": null,
   "metadata": {},
   "outputs": [],
   "source": [
    "# The total number of particles is \n",
    "num_dat = len(particle_codts)\n",
    "\n",
    "r_i = np.array( [ np.sqrt(np.dot(particle_codts[i],particle_codts[i])) for i in range(num_dat) ])"
   ]
  },
  {
   "cell_type": "markdown",
   "metadata": {},
   "source": [
    "To compute the number of particles between two separated spherical shells, we use a Histogram. A histogram basically counts the number of data in a given data bin. Let us use <code> pandas </code> library for histogram visualization \n"
   ]
  },
  {
   "cell_type": "code",
   "execution_count": null,
   "metadata": {},
   "outputs": [],
   "source": [
    "import pandas as pd\n",
    "# we can create a data frame from the position data\n",
    "dat_r_i = pd.Series(r_i)"
   ]
  },
  {
   "cell_type": "code",
   "execution_count": null,
   "metadata": {},
   "outputs": [],
   "source": [
    "#Let us define a logarithmically-spaced grid of position,from which we will define the bins of our histogram\n",
    "Min = min(dat_r_i) #start of the grid\n",
    "Max = max(dat_r_i) #end of the grid\n",
    "n = 1000 #number of bins\n",
    "r_grid = 10** np.linspace(np.log10(Min), np.log10(Max), 1000)"
   ]
  },
  {
   "cell_type": "markdown",
   "metadata": {},
   "source": [
    "Now we can make our histogram, using the method <code> .hist </code> for the dataframe"
   ]
  },
  {
   "cell_type": "code",
   "execution_count": null,
   "metadata": {},
   "outputs": [],
   "source": [
    "dat_r_i.hist(grid=True, bins= r_grid, rwidth=0.9,color='#FFCF56')\n",
    "plt.title('Number of particles for '+str(n)+' bins')\n",
    "plt.xlabel('r bin')\n",
    "plt.ylabel('Number of particles')\n",
    "plt.grid(axis='y', alpha=0.75)"
   ]
  },
  {
   "cell_type": "markdown",
   "metadata": {},
   "source": [
    "If you would like to simply compute the histogram (that is, count the number of points in a given bin) and not display it, the <code> np.histogram() </code> function is available:\n",
    "\n"
   ]
  },
  {
   "cell_type": "code",
   "execution_count": null,
   "metadata": {},
   "outputs": [],
   "source": [
    "np.histogram?"
   ]
  },
  {
   "cell_type": "code",
   "execution_count": null,
   "metadata": {},
   "outputs": [],
   "source": [
    "count_part, r_bin =  np.histogram(dat_r_i, bins =r_grid)"
   ]
  },
  {
   "cell_type": "markdown",
   "metadata": {},
   "source": [
    "The number arrays counts_particles and  r_position have different length, this because length has the Nth element, that is not included in the counts_particles array"
   ]
  },
  {
   "cell_type": "code",
   "execution_count": null,
   "metadata": {},
   "outputs": [],
   "source": [
    "r_val = np.array([ r_bin[i] for i in range(len(r_bin)-1)])"
   ]
  },
  {
   "cell_type": "markdown",
   "metadata": {},
   "source": [
    "1) Let us first define the total number of particles within  the spherical shell with thickness  $r_{i}-r_{i-1}$"
   ]
  },
  {
   "cell_type": "code",
   "execution_count": null,
   "metadata": {},
   "outputs": [],
   "source": [
    "def N_total(count,i):\n",
    "    if i == 0:\n",
    "        return count[i]\n",
    "    else:\n",
    "        return count[i-1] + count[i]  "
   ]
  },
  {
   "cell_type": "markdown",
   "metadata": {},
   "source": [
    "2) Now we can extract the mass of the particles from the data set"
   ]
  },
  {
   "cell_type": "code",
   "execution_count": null,
   "metadata": {},
   "outputs": [],
   "source": [
    "m = data_set['Mass'][0]"
   ]
  },
  {
   "cell_type": "markdown",
   "metadata": {},
   "source": [
    "3) We can compute the matter desity, let us also remove the zeroth element of <code> rho </code> in order to regularize the divergence due to the zero volume"
   ]
  },
  {
   "cell_type": "code",
   "execution_count": null,
   "metadata": {},
   "outputs": [],
   "source": [
    "rho_reg = m* np.array([N_total(count_part,i)/(4/3*np.pi*(r_val[i]**3-r_val[i-1]**3)) for i in range(1,len(r_val))])\n",
    "r_val_reg = np.array([r_val[i] for i in range(1,len(r_val))])"
   ]
  },
  {
   "cell_type": "markdown",
   "metadata": {},
   "source": [
    "4) Finally let us plot our findings"
   ]
  },
  {
   "cell_type": "code",
   "execution_count": null,
   "metadata": {},
   "outputs": [],
   "source": [
    "plt.plot?"
   ]
  },
  {
   "cell_type": "code",
   "execution_count": null,
   "metadata": {},
   "outputs": [],
   "source": [
    "plt.loglog(r_val_reg,rho_reg, label = \"Data\",linestyle='dashed')\n",
    "plt.xlabel('radius (kpc)')\n",
    "plt.ylabel('density (M_s/kpc^3)')\n",
    "plt.legend(loc=\"upper right\")\n"
   ]
  },
  {
   "cell_type": "markdown",
   "metadata": {},
   "source": [
    "# Excercise\n",
    "Fit a NFW profile to the previous data. Recall\n",
    "$$ \\rho_{NFW} = \\frac{\\rho_s}{r/r_s(1+r/r_s)^2} $$ "
   ]
  },
  {
   "cell_type": "markdown",
   "metadata": {},
   "source": [
    "# Fit to a NFW profile"
   ]
  },
  {
   "cell_type": "code",
   "execution_count": null,
   "metadata": {},
   "outputs": [],
   "source": [
    "# Define the objective function\n",
    "def rho_NFW(r,rho_s, rs):\n",
    "    return rho_s/(r/rs)/(1+r/rs)**2\n"
   ]
  },
  {
   "cell_type": "code",
   "execution_count": null,
   "metadata": {},
   "outputs": [],
   "source": [
    "from scipy.optimize import curve_fit"
   ]
  },
  {
   "cell_type": "code",
   "execution_count": null,
   "metadata": {},
   "outputs": [],
   "source": [
    "# Do the fit\n",
    "par, c_matrix = curve_fit(rho_NFW, r_val_reg, rho_reg )\n",
    "#extract the fit parameters\n",
    "rho_s_fit, rs_fit =par\n",
    "print('The fit parameters are: '\"rho_s = \",rho_s_fit,\", r_s =\", rs_fit)"
   ]
  },
  {
   "cell_type": "code",
   "execution_count": null,
   "metadata": {},
   "outputs": [],
   "source": [
    "rho_NFW_fit = rho_NFW(r_val_reg,rho_s_fit, rs_fit)"
   ]
  },
  {
   "cell_type": "code",
   "execution_count": null,
   "metadata": {},
   "outputs": [],
   "source": [
    "plt.loglog(r_val_reg,rho_reg,label =\"Data\",linestyle='dashed')\n",
    "plt.loglog(r_val_reg,rho_NFW_fit ,label = \"Fit\")\n",
    "plt.xlabel('radius (kpc)')\n",
    "plt.ylabel('density (M_s/kpc^3)')\n",
    "plt.legend(loc=\"upper right\")\n",
    "print('The fitted NFW parameters are: '\"rho_s = \",rho_s_fit,\", r_s =\", rs_fit)\n",
    "plt.show()"
   ]
  },
  {
   "cell_type": "markdown",
   "metadata": {},
   "source": [
    "# Excercise: Velocity distribution for particles in the solar vicinity\n",
    "\n",
    "In this excercise you will obtaine the velocity distribution of DM particles in the solar vicinity, and fit it to a Maxwellian distribution function.  The sun positioned at $r\\approx 8\\rm kpc$. "
   ]
  },
  {
   "cell_type": "markdown",
   "metadata": {},
   "source": [
    "Firts we want to find all the particles in the interval $7 \\rm kpc\\,\\le r_i \\,\\le9 \\rm kpc$. Define a function <code>  find_index(dat) </code>, that takes as imput a set of data, and resurns a 1 dimensional numpy array whose elements are   indices  of the elements in <code> dat </code>, that satisfy $7 \\le dat[i] \\le9 $."
   ]
  },
  {
   "cell_type": "code",
   "execution_count": null,
   "metadata": {},
   "outputs": [],
   "source": [
    "def find_index(dat):\n",
    "    \n",
    "    index = np.array([])\n",
    "    for i in range(len(dat)):\n",
    "        r_min = 7 # lower bound of the solar vicinity\n",
    "        r_max = 9 # uper bound of the solar vicinity\n",
    "        \n",
    "        if r_min <= dat[i] and r_max >= dat[i]:\n",
    "            index = np.append(index,i)\n",
    "    return index    "
   ]
  },
  {
   "cell_type": "markdown",
   "metadata": {},
   "source": [
    "Now define a list with the <code> find_index </code> function applied to the list of positions  <code>dat_r_i </code> defined before"
   ]
  },
  {
   "cell_type": "code",
   "execution_count": null,
   "metadata": {},
   "outputs": [],
   "source": [
    "index = find_index(dat_r_i)"
   ]
  },
  {
   "cell_type": "markdown",
   "metadata": {},
   "source": [
    "Count the number of  particles  in the solar vicinity, and compare the result  to the total number of particles"
   ]
  },
  {
   "cell_type": "code",
   "execution_count": null,
   "metadata": {},
   "outputs": [],
   "source": [
    "print(len(index))\n",
    "print(len(dat_r_i))"
   ]
  },
  {
   "cell_type": "markdown",
   "metadata": {},
   "source": [
    "Now that we know what particles are in the solar vicinity, we can ask for the velocity of those particles.  First extract all the data for all particles velocity in the data set  <code> data_set </code>"
   ]
  },
  {
   "cell_type": "code",
   "execution_count": null,
   "metadata": {},
   "outputs": [],
   "source": [
    "# First let us extract all the velocities from the data set.\n",
    "particle_veloc = data_set['Velocities']"
   ]
  },
  {
   "cell_type": "markdown",
   "metadata": {},
   "source": [
    "Next, compute the speeds of the particles in the solar vicinity, and collect them in a 1-d numpy array"
   ]
  },
  {
   "cell_type": "code",
   "execution_count": null,
   "metadata": {},
   "outputs": [],
   "source": [
    "#Now we compute the speed of the  particles  in the solar vicinity\n",
    "speed_part = np.array([np.sqrt(np.dot(particle_veloc[i],particle_veloc[i])) for i in index])"
   ]
  },
  {
   "cell_type": "markdown",
   "metadata": {},
   "source": [
    "As we want to count the number of particles in a given velocity bin, define a data frame with the speed of the particles computed in the previous step"
   ]
  },
  {
   "cell_type": "code",
   "execution_count": null,
   "metadata": {},
   "outputs": [],
   "source": [
    "dat_v_i = pd.Series(speed_part)"
   ]
  },
  {
   "cell_type": "markdown",
   "metadata": {},
   "source": [
    "Now, let us see the velocity distribution of particles in the solar vicinity. For that, make a histogram that counts the number of particles in a velocity bin. Use a linear space interval, whose initial and final points are  the minimal  and maximal speed in the previously defined data Series. Use 1000  data points"
   ]
  },
  {
   "cell_type": "code",
   "execution_count": null,
   "metadata": {},
   "outputs": [],
   "source": [
    "np.linspace?"
   ]
  },
  {
   "cell_type": "code",
   "execution_count": null,
   "metadata": {},
   "outputs": [],
   "source": [
    "min_v = min(dat_v_i)\n",
    "max_v = max(dat_v_i)\n",
    "v_grid = np.linspace(min_v,max_v,1000)\n",
    "dat_v_i.hist(grid=True, bins= v_grid, rwidth=0.9,color='#FFCF56')\n",
    "plt.title('Number of particles for '+str(n)+' bins')\n",
    "plt.xlabel('v bin')\n",
    "plt.ylabel('Number of particles')\n",
    "plt.grid(axis='y', alpha=0.75)"
   ]
  },
  {
   "cell_type": "markdown",
   "metadata": {},
   "source": [
    "Extract the data for the histogram using the <code> np.histogram </code>, and make a scatter plot of the velocity distribution as a funtion of velocity, for the 1000 points"
   ]
  },
  {
   "cell_type": "code",
   "execution_count": null,
   "metadata": {},
   "outputs": [],
   "source": [
    "count_vel,v_points  = np.histogram(dat_v_i, bins= v_grid)\n",
    "# Eliminate the last poin in the v_points grid\n",
    "v_points = np.array([v_points[i] for i in range(len(v_points)-1)])\n"
   ]
  },
  {
   "cell_type": "code",
   "execution_count": null,
   "metadata": {},
   "outputs": [],
   "source": [
    "plt.scatter(v_points,count_vel)\n",
    "plt.xlabel('v ')\n",
    "plt.ylabel('unnormalized velocity distribution  f(v)')\n"
   ]
  },
  {
   "cell_type": "markdown",
   "metadata": {},
   "source": [
    "Let us normalize the velocoty distribution in such a way that $$\\int_{v_{min}} ^{v_{max}}dv f(v)  = 1$$\n",
    "We can just use the fact that all our bins have the same size $\\Delta v$, therefore the integral is just the sum $$\\sum_{i=1}^N f_i \\times \\Delta v$$\n",
    "\n",
    "From the lin space grid, find $\\Delta v$ and compute the sum"
   ]
  },
  {
   "cell_type": "code",
   "execution_count": null,
   "metadata": {},
   "outputs": [],
   "source": [
    "Delta_v = v_grid[1]-v_grid[0]"
   ]
  },
  {
   "cell_type": "code",
   "execution_count": null,
   "metadata": {},
   "outputs": [],
   "source": [
    "sum_f = Delta_v*sum(count_vel)\n",
    "print(sum_f)"
   ]
  },
  {
   "cell_type": "markdown",
   "metadata": {},
   "source": [
    "You can then plot the normalized velocity distribution $f(v)$ by just normalizing with the previous result with the  vale of the sum"
   ]
  },
  {
   "cell_type": "code",
   "execution_count": null,
   "metadata": {},
   "outputs": [],
   "source": [
    "f_v = count_vel / sum_f \n",
    "plt.scatter(v_points,f_v)\n",
    "plt.xlabel('v ')\n",
    "plt.ylabel('Velocity distribution  f(v)')"
   ]
  },
  {
   "cell_type": "markdown",
   "metadata": {},
   "source": [
    "Check that your velocity distribution function is normalized to 1"
   ]
  },
  {
   "cell_type": "code",
   "execution_count": null,
   "metadata": {},
   "outputs": [],
   "source": [
    "sum(f_v)*Delta_v"
   ]
  },
  {
   "cell_type": "markdown",
   "metadata": {},
   "source": [
    "Now the task is to fit the velocity distribution function to a Maxwellian distribution function \n",
    "$$f_{Max}(v)=  A v^2 e^{-v/v_0}, $$ where $v_0$ and $A$, are parameters to be fixed from the fit"
   ]
  },
  {
   "cell_type": "markdown",
   "metadata": {},
   "source": [
    "### FIt to Maxwell distribution"
   ]
  },
  {
   "cell_type": "markdown",
   "metadata": {},
   "source": [
    "1) Define the objective function to tobe the maxwellian distribution"
   ]
  },
  {
   "cell_type": "code",
   "execution_count": null,
   "metadata": {},
   "outputs": [],
   "source": [
    "def f_maxwell(v,A, v_0):\n",
    "    return A* v**2*np.exp(-v/v_0)"
   ]
  },
  {
   "cell_type": "markdown",
   "metadata": {},
   "source": [
    "2) Fit the <code>  f_maxwell </code> function to the normalized  velocity  data"
   ]
  },
  {
   "cell_type": "code",
   "execution_count": null,
   "metadata": {},
   "outputs": [],
   "source": [
    "curve_fit?"
   ]
  },
  {
   "cell_type": "code",
   "execution_count": null,
   "metadata": {},
   "outputs": [],
   "source": [
    "# Do the fit\n",
    "par_v, c_matrix_v = curve_fit(f_maxwell, v_points, f_v , p0 = [1, 100] )\n",
    "#extract the fit parameters\n",
    "A_fit, v_0_fit = par_v\n",
    "print('The fit parameters are: '\"A = \",A_fit,\", v_0 =\", v_0_fit)"
   ]
  },
  {
   "cell_type": "markdown",
   "metadata": {},
   "source": [
    "Plot the fitting function on top of the data"
   ]
  },
  {
   "cell_type": "code",
   "execution_count": null,
   "metadata": {},
   "outputs": [],
   "source": [
    "f_v_fit = f_maxwell(v_points,A_fit, v_0_fit)"
   ]
  },
  {
   "cell_type": "code",
   "execution_count": null,
   "metadata": {},
   "outputs": [],
   "source": [
    "plt.scatter(v_points,f_v, label = \"Data\")\n",
    "plt.plot(v_points,f_v_fit,color='orange', linestyle='dashed',label = \"Fit\")\n",
    "plt.xlabel('v ')\n",
    "plt.ylabel('Velocity distribution  f(v)')\n",
    "plt.legend(loc=\"upper right\")\n",
    "print('The fit parameters are: '\"A = \",A_fit,\", v_0 =\", v_0_fit)\n",
    "plt.show()"
   ]
  }
 ],
 "metadata": {
  "kernelspec": {
   "display_name": "Python 3",
   "language": "python",
   "name": "python3"
  },
  "language_info": {
   "codemirror_mode": {
    "name": "ipython",
    "version": 3
   },
   "file_extension": ".py",
   "mimetype": "text/x-python",
   "name": "python",
   "nbconvert_exporter": "python",
   "pygments_lexer": "ipython3",
   "version": "3.7.6"
  }
 },
 "nbformat": 4,
 "nbformat_minor": 4
}
