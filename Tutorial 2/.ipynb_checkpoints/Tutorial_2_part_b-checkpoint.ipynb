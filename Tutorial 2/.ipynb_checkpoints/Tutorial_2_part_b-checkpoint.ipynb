{
 "cells": [
  {
   "cell_type": "markdown",
   "metadata": {},
   "source": [
    "# Interpolation functions"
   ]
  },
  {
   "cell_type": "markdown",
   "metadata": {},
   "source": [
    "## Junior mentor:\n",
    "\n",
    "Y. Fabian Bautista"
   ]
  },
  {
   "cell_type": "markdown",
   "metadata": {},
   "source": [
    "## Objectives of the tutorial\n",
    "1. Differentiate between interpolating functions and curve fitting \n",
    "2. Create 1-D interpolations\n",
    "3. Identify the diferente types of 1-D interpolating functions\n"
   ]
  },
  {
   "cell_type": "markdown",
   "metadata": {},
   "source": [
    "### Curve fitting\n",
    "\n",
    "\n",
    "In Tutorial 2 part a, we learned that fitting a curve to a set of data means to find the curve that better describes most of the data points. However, the fitted curve does not passes  throught all of data points."
   ]
  },
  {
   "cell_type": "code",
   "execution_count": null,
   "metadata": {},
   "outputs": [],
   "source": [
    "from IPython import display"
   ]
  },
  {
   "cell_type": "code",
   "execution_count": null,
   "metadata": {},
   "outputs": [],
   "source": [
    "\n",
    "display.Image(\"./fit.png\")"
   ]
  },
  {
   "cell_type": "markdown",
   "metadata": {},
   "source": [
    "### Interpolation\n",
    "\n",
    "Given a set of data points $(x_i,f_i)$, with $x_{min} \\le x_i\\le x_{max}$, an interpolation function $ f(x)$ is a curve that passes throught all of the data points available in the data set. Once we have found the interpolation functions,  we can evaluate it at different locations $f(x')$, with $x_{min} \\le x'\\le x_{max}$,  i.e. it can only be evaluated in the iterval $[x_{min}, x_{max}]$"
   ]
  },
  {
   "cell_type": "code",
   "execution_count": null,
   "metadata": {},
   "outputs": [],
   "source": [
    "\n",
    "display.Image(\"./interp.png\")"
   ]
  },
  {
   "cell_type": "markdown",
   "metadata": {},
   "source": [
    "# Example 1: Basic 1-D interpolation"
   ]
  },
  {
   "cell_type": "markdown",
   "metadata": {},
   "source": [
    "For this example we use the function <code>interp1d </code>, contained inside the  <code> scipy.interpolate </code>  <a https=\"https://docs.scipy.org/doc/scipy/reference/generated/scipy.interpolate.interp1d.html#scipy.interpolate.interp1d\"> library </a>"
   ]
  },
  {
   "cell_type": "code",
   "execution_count": null,
   "metadata": {},
   "outputs": [],
   "source": [
    "import numpy as np # For maths\n",
    "from scipy.interpolate import interp1d # For 1-D interpolations\n",
    "import matplotlib.pyplot as plt # For ploting"
   ]
  },
  {
   "cell_type": "markdown",
   "metadata": {},
   "source": [
    "### 1. Let us create some data points"
   ]
  },
  {
   "cell_type": "code",
   "execution_count": null,
   "metadata": {},
   "outputs": [],
   "source": [
    "x = np.linspace(0,10,15)\n",
    "y = np.exp(-x/2)"
   ]
  },
  {
   "cell_type": "code",
   "execution_count": null,
   "metadata": {},
   "outputs": [],
   "source": [
    "#py.figure(1)\n",
    "#py.clf()\n",
    "plt.plot(x,y,\"bo\")\n",
    "plt.show()"
   ]
  },
  {
   "cell_type": "markdown",
   "metadata": {},
   "source": [
    "### 2. Do the interpolation"
   ]
  },
  {
   "cell_type": "code",
   "execution_count": null,
   "metadata": {},
   "outputs": [],
   "source": [
    "interp1d?"
   ]
  },
  {
   "cell_type": "code",
   "execution_count": null,
   "metadata": {},
   "outputs": [],
   "source": [
    "f = interp1d(x,y)"
   ]
  },
  {
   "cell_type": "markdown",
   "metadata": {},
   "source": [
    "Let us generate a diferent set of x-values"
   ]
  },
  {
   "cell_type": "code",
   "execution_count": null,
   "metadata": {},
   "outputs": [],
   "source": [
    "xnew = np.linspace(0,10, 8)"
   ]
  },
  {
   "cell_type": "markdown",
   "metadata": {},
   "source": [
    "Plot the interpolating function"
   ]
  },
  {
   "cell_type": "code",
   "execution_count": null,
   "metadata": {},
   "outputs": [],
   "source": [
    "plt.plot(x,y,'bo',label = \"data\")\n",
    "plt.plot(xnew,f(xnew),'r--',label = \"interp\")\n",
    "plt.legend(loc = \"upper right\")\n",
    "plt.show()"
   ]
  },
  {
   "cell_type": "code",
   "execution_count": null,
   "metadata": {},
   "outputs": [],
   "source": [
    "py.legend?"
   ]
  },
  {
   "cell_type": "markdown",
   "metadata": {},
   "source": [
    "# Types of 1-D interpolating functions"
   ]
  },
  {
   "cell_type": "markdown",
   "metadata": {},
   "source": [
    "The default value for <code>kind</code> of interpolation is <code>\"linear\" </code>"
   ]
  },
  {
   "cell_type": "code",
   "execution_count": null,
   "metadata": {},
   "outputs": [],
   "source": [
    "interp1d?"
   ]
  },
  {
   "cell_type": "markdown",
   "metadata": {},
   "source": [
    "Let us see the effect of the different types of interpolating functions "
   ]
  },
  {
   "cell_type": "markdown",
   "metadata": {},
   "source": [
    "### Create our data"
   ]
  },
  {
   "cell_type": "code",
   "execution_count": null,
   "metadata": {},
   "outputs": [],
   "source": [
    "x1 = np.linspace(0,10,11)\n",
    "y1 = np.sin(x1) \n",
    "x1new = np.linspace(0,10,100) #New data to evaluate after the  interpolation is done\n"
   ]
  },
  {
   "cell_type": "code",
   "execution_count": null,
   "metadata": {},
   "outputs": [],
   "source": [
    "%matplotlib notebook\n",
    "plt.plot(x1,y1,\"bo\",label = \"data\")\n",
    "# Let us now do the interpolation for all the different kinds \n",
    "type_interp = ['linear', 'nearest', 'zero', 'slinear', 'quadratic', 'cubic']\n",
    "for kind in type_interp:\n",
    "    f1 = interp1d(x1,y1,kind = kind)\n",
    "    ynew = f1(x1new)\n",
    "    plt.plot(x1new,ynew,label = kind)\n",
    "plt.legend(loc = 'lower right')  \n",
    "plt.show()"
   ]
  },
  {
   "cell_type": "markdown",
   "metadata": {},
   "source": [
    "# Excercise\n",
    "\n",
    "In this excercise we use interpolating functions to complete the tutorial on curve fitting from last week.  Let us divide it into different steps\n",
    "\n",
    "1. Prepare the data: Choose your preferred galaxy and load the RotationCurve data, as well as the RotationCurve_baryons data. Create two data frames for the two different files\n",
    "\n",
    "2. To have the data measured in the same r_grid, create an interpolating function for the stelar and gas velocities. (of course the data for radius to be used are the one given in the baryon file)\n",
    "\n",
    "3. From the interpolating functions, compute the gas and stelar velocities, evaluated in the radius of the RotationCurve data frame\n",
    "4. Add two new columns to the RotationCurve data frame, with the keywords  <code>\"stars circ velocity (km/s) \"</code> and <code> 'gas circ velocity (km/s)'</code> \n",
    "\n",
    "5. Add a new column to the  RotationCurve data frame, with the DM velocity, which is computed by $$v_{DM} = \\sqrt{v_c^2-v_{star}^2-v_{gas}^2}.$$ Warning:  If a  given value of  $v_{DM}^2$ is  negative,  choose to change sign of $v_{gas}^2$ for the specific point, as explained in Footnote 1 in <a href='https://github.com/EXPLORE-for-students/python-tutorials/blob/main/Rotation%20curves/readme.pdf'> readme </a>.\n",
    "\n",
    "6. Including errors: Add a new column to the  RotationCurve data frame which includes a systematic error in the measurements. As explained in    <a href='https://github.com/EXPLORE-for-students/python-tutorials/blob/main/Rotation%20curves/readme.pdf'> readme </a>, the error is given by the $5 \\% $ of the last measured circular velocity point.\n",
    "\n",
    "7. Add a new  column to the  RotationCurve data frame which computes the total error, which is the sum in quadrature of the systematic error, and the error in the measured velocities. \n",
    "\n",
    "The data frame should have the following aspect:\n",
    "\n",
    "\n"
   ]
  },
  {
   "cell_type": "code",
   "execution_count": null,
   "metadata": {},
   "outputs": [],
   "source": [
    "display.Image(\"./df.png\")"
   ]
  },
  {
   "cell_type": "markdown",
   "metadata": {},
   "source": [
    "8. Now that you have collected all the data, you can proceed to do the fit.  Fit the NFW and the Burkert profiles to the <code>DM circ velocity </code> data. Use the <code>total_error</code> for that. \n",
    "9. Compute the goodness of the fit for both the NFW and the Burkert fits.\n",
    "10. Finally plot your findings "
   ]
  },
  {
   "cell_type": "code",
   "execution_count": null,
   "metadata": {},
   "outputs": [],
   "source": []
  }
 ],
 "metadata": {
  "kernelspec": {
   "display_name": "Python 3",
   "language": "python",
   "name": "python3"
  },
  "language_info": {
   "codemirror_mode": {
    "name": "ipython",
    "version": 3
   },
   "file_extension": ".py",
   "mimetype": "text/x-python",
   "name": "python",
   "nbconvert_exporter": "python",
   "pygments_lexer": "ipython3",
   "version": "3.7.6"
  }
 },
 "nbformat": 4,
 "nbformat_minor": 4
}
