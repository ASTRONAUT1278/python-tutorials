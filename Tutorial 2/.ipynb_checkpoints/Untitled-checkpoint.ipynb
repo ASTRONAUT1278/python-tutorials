{
 "cells": [
  {
   "cell_type": "code",
   "execution_count": 51,
   "metadata": {},
   "outputs": [
    {
     "name": "stdout",
     "output_type": "stream",
     "text": [
      "[ 4.1427436  4.072635   4.0425515 ... 13.169997  14.111218  14.290555 ]\n"
     ]
    },
    {
     "ename": "IndexError",
     "evalue": "only integers, slices (`:`), ellipsis (`...`), numpy.newaxis (`None`) and integer or boolean arrays are valid indices",
     "output_type": "error",
     "traceback": [
      "\u001b[0;31m---------------------------------------------------------------------------\u001b[0m",
      "\u001b[0;31mIndexError\u001b[0m                                Traceback (most recent call last)",
      "\u001b[0;32m<ipython-input-51-eff278ead4f8>\u001b[0m in \u001b[0;36m<module>\u001b[0;34m\u001b[0m\n\u001b[1;32m     43\u001b[0m \u001b[0;34m\u001b[0m\u001b[0m\n\u001b[1;32m     44\u001b[0m \u001b[0mnum_vic\u001b[0m \u001b[0;34m=\u001b[0m \u001b[0mlen\u001b[0m\u001b[0;34m(\u001b[0m\u001b[0mindex\u001b[0m\u001b[0;34m)\u001b[0m\u001b[0;34m\u001b[0m\u001b[0;34m\u001b[0m\u001b[0m\n\u001b[0;32m---> 45\u001b[0;31m \u001b[0mparticle_veloc\u001b[0m \u001b[0;34m=\u001b[0m  \u001b[0mnp\u001b[0m\u001b[0;34m.\u001b[0m\u001b[0marray\u001b[0m\u001b[0;34m(\u001b[0m\u001b[0;34m[\u001b[0m\u001b[0mvels\u001b[0m\u001b[0;34m[\u001b[0m\u001b[0mi\u001b[0m\u001b[0;34m]\u001b[0m \u001b[0;32mfor\u001b[0m \u001b[0mi\u001b[0m \u001b[0;32min\u001b[0m \u001b[0mindex\u001b[0m\u001b[0;34m]\u001b[0m\u001b[0;34m)\u001b[0m\u001b[0;34m\u001b[0m\u001b[0;34m\u001b[0m\u001b[0m\n\u001b[0m\u001b[1;32m     46\u001b[0m \u001b[0;34m\u001b[0m\u001b[0m\n\u001b[1;32m     47\u001b[0m \u001b[0mv\u001b[0m \u001b[0;34m=\u001b[0m \u001b[0mnp\u001b[0m\u001b[0;34m.\u001b[0m\u001b[0msqrt\u001b[0m\u001b[0;34m(\u001b[0m\u001b[0mnp\u001b[0m\u001b[0;34m.\u001b[0m\u001b[0msum\u001b[0m\u001b[0;34m(\u001b[0m\u001b[0mparticle_veloc\u001b[0m\u001b[0;34m**\u001b[0m\u001b[0;36m2\u001b[0m\u001b[0;34m,\u001b[0m\u001b[0maxis\u001b[0m\u001b[0;34m=\u001b[0m\u001b[0;36m1\u001b[0m\u001b[0;34m)\u001b[0m\u001b[0;34m)\u001b[0m \u001b[0;31m#vels\u001b[0m\u001b[0;34m\u001b[0m\u001b[0;34m\u001b[0m\u001b[0m\n",
      "\u001b[0;32m<ipython-input-51-eff278ead4f8>\u001b[0m in \u001b[0;36m<listcomp>\u001b[0;34m(.0)\u001b[0m\n\u001b[1;32m     43\u001b[0m \u001b[0;34m\u001b[0m\u001b[0m\n\u001b[1;32m     44\u001b[0m \u001b[0mnum_vic\u001b[0m \u001b[0;34m=\u001b[0m \u001b[0mlen\u001b[0m\u001b[0;34m(\u001b[0m\u001b[0mindex\u001b[0m\u001b[0;34m)\u001b[0m\u001b[0;34m\u001b[0m\u001b[0;34m\u001b[0m\u001b[0m\n\u001b[0;32m---> 45\u001b[0;31m \u001b[0mparticle_veloc\u001b[0m \u001b[0;34m=\u001b[0m  \u001b[0mnp\u001b[0m\u001b[0;34m.\u001b[0m\u001b[0marray\u001b[0m\u001b[0;34m(\u001b[0m\u001b[0;34m[\u001b[0m\u001b[0mvels\u001b[0m\u001b[0;34m[\u001b[0m\u001b[0mi\u001b[0m\u001b[0;34m]\u001b[0m \u001b[0;32mfor\u001b[0m \u001b[0mi\u001b[0m \u001b[0;32min\u001b[0m \u001b[0mindex\u001b[0m\u001b[0;34m]\u001b[0m\u001b[0;34m)\u001b[0m\u001b[0;34m\u001b[0m\u001b[0;34m\u001b[0m\u001b[0m\n\u001b[0m\u001b[1;32m     46\u001b[0m \u001b[0;34m\u001b[0m\u001b[0m\n\u001b[1;32m     47\u001b[0m \u001b[0mv\u001b[0m \u001b[0;34m=\u001b[0m \u001b[0mnp\u001b[0m\u001b[0;34m.\u001b[0m\u001b[0msqrt\u001b[0m\u001b[0;34m(\u001b[0m\u001b[0mnp\u001b[0m\u001b[0;34m.\u001b[0m\u001b[0msum\u001b[0m\u001b[0;34m(\u001b[0m\u001b[0mparticle_veloc\u001b[0m\u001b[0;34m**\u001b[0m\u001b[0;36m2\u001b[0m\u001b[0;34m,\u001b[0m\u001b[0maxis\u001b[0m\u001b[0;34m=\u001b[0m\u001b[0;36m1\u001b[0m\u001b[0;34m)\u001b[0m\u001b[0;34m)\u001b[0m \u001b[0;31m#vels\u001b[0m\u001b[0;34m\u001b[0m\u001b[0;34m\u001b[0m\u001b[0m\n",
      "\u001b[0;31mIndexError\u001b[0m: only integers, slices (`:`), ellipsis (`...`), numpy.newaxis (`None`) and integer or boolean arrays are valid indices"
     ]
    }
   ],
   "source": [
    "import numpy as np\n",
    "from matplotlib import pyplot as plt\n",
    "import h5py\n",
    "import pandas as pd\n",
    "\n",
    "file_path = 'halo_1_DMO.hdf5'\n",
    "halo1 = h5py.File(file_path, 'r')\n",
    "halo1.keys()\n",
    "data_set = halo1['DarkMatter']\n",
    "data_set.keys()\n",
    "vels = np.array(data_set['Velocities'])\n",
    "particle_codts = np.array(data_set['Coordinates'])\n",
    "\n",
    "\n",
    "num_dat = len(particle_codts)\n",
    "\n",
    "r_i = np.sqrt( np.sum(particle_codts**2, axis=1) )\n",
    "len(r_i)\n",
    "print(r_i)\n",
    "\n",
    "# def find_index(dat):\n",
    "#     index = np.array([])\n",
    "#     for i in range(0, len(dat)):\n",
    "#         r_min = 7  # lower bound of the solar vicinity\n",
    "#         r_max = 9  # uper bound of the solar vicinity\n",
    "\n",
    "#         if r_min <= dat[i] and r_max >= dat[i]:\n",
    "#             index = np.append(index, i)\n",
    "#         # print(index)\n",
    "#     return index\n",
    "def find_index(dat):\n",
    "    \n",
    "    index = []\n",
    "    for i in range(len(dat)):\n",
    "        r_min = 7 # lower bound of the solar vicinity\n",
    "        r_max = 9 # uper bound of the solar vicinity\n",
    "        \n",
    "        if r_min <= dat[i] and r_max >= dat[i]:\n",
    "            index.append(i)\n",
    "    return index\n",
    "\n",
    "index = find_index(r_i)\n",
    "\n",
    "num_vic = len(index)\n",
    "particle_veloc =  np.array([vels[i] for i in index])\n",
    "\n",
    "v = np.sqrt(np.sum(particle_veloc**2,axis=1)) #vels\n",
    "\n",
    "print(v)\n",
    "\n",
    "dat_v_i = pd.Series(v)\n",
    "min_v = min(v)\n",
    "max_v = max(v)\n",
    "v_grid = np.linspace(min_v,max_v,1000) #np.linspace(0,1000)\n",
    "\n",
    "count_vel, v_points = np.histogram(v, bins= v_grid) #np.histogram(v, bins = len(v))\n",
    "\n",
    "new_v = np.array([v_points[i] for i in range(len(v_points)-1)])#np.array([v[i] for i in range(len(v_points) - 1)])\n",
    "\n",
    "\n",
    "Delta_v = v_grid[1] - v_grid[0]\n",
    "\n",
    "sum_f = Delta_v*np.sum(v)\n",
    "\n",
    "f_v =  count_vel / sum_f\n",
    "\n",
    "plt.scatter(new_v,count_vel)\n",
    "plt.xlabel('v ')\n",
    "plt.ylabel('Velocity distribution  f(v)')\n",
    "#plt.legend(loc=\"upper right\")\n",
    "plt.show()\n",
    "#plt.savefig(\"vels.png\")"
   ]
  },
  {
   "cell_type": "code",
   "execution_count": 44,
   "metadata": {},
   "outputs": [
    {
     "name": "stdout",
     "output_type": "stream",
     "text": [
      "[ 10.84447   31.253702  12.884877 ... 495.5344   513.9554   509.16977 ]\n"
     ]
    }
   ],
   "source": [
    "\n"
   ]
  },
  {
   "cell_type": "code",
   "execution_count": null,
   "metadata": {},
   "outputs": [],
   "source": []
  }
 ],
 "metadata": {
  "kernelspec": {
   "display_name": "Python 3",
   "language": "python",
   "name": "python3"
  },
  "language_info": {
   "codemirror_mode": {
    "name": "ipython",
    "version": 3
   },
   "file_extension": ".py",
   "mimetype": "text/x-python",
   "name": "python",
   "nbconvert_exporter": "python",
   "pygments_lexer": "ipython3",
   "version": "3.7.6"
  }
 },
 "nbformat": 4,
 "nbformat_minor": 4
}
