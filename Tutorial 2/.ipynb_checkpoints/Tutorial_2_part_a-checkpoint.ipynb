{
 "cells": [
  {
   "cell_type": "markdown",
   "metadata": {},
   "source": [
    "# Working with data structures"
   ]
  },
  {
   "cell_type": "markdown",
   "metadata": {},
   "source": [
    "## Junior mentor:\n",
    "\n",
    "Y. Fabian Bautista\n"
   ]
  },
  {
   "cell_type": "markdown",
   "metadata": {},
   "source": [
    "## Objectives of the tutorial"
   ]
  },
  {
   "cell_type": "markdown",
   "metadata": {},
   "source": [
    "1. Create and manipulate  dictionaries\n",
    "2. Use Pandas package to manipulate data sets\n",
    "4. Plot data structures using matplotlib\n",
    "6. Use SciPy library to fit a curve to a given data set, and compute the goodness of the fit. "
   ]
  },
  {
   "cell_type": "markdown",
   "metadata": {},
   "source": [
    "### Loading packages"
   ]
  },
  {
   "cell_type": "code",
   "execution_count": 1,
   "metadata": {},
   "outputs": [],
   "source": [
    "import matplotlib.pyplot as plt # For ploting\n",
    "import numpy as np # For array and mathematical manipulations"
   ]
  },
  {
   "cell_type": "markdown",
   "metadata": {},
   "source": [
    "# Dictionaries"
   ]
  },
  {
   "cell_type": "markdown",
   "metadata": {},
   "source": [
    "<h3 id=\"content\">What are Dictionaries?</h3>\n",
    "A dictionary consists of keys and values. It is helpful to compare a dictionary to a list. Instead of the numerical indexes such as a list, dictionaries have keys. These keys are the keys that are used to access values within a dictionary.\n",
    "\n",
    "<img src=\"https://cf-courses-data.s3.us.cloud-object-storage.appdomain.cloud/IBMDeveloperSkillsNetwork-PY0101EN-SkillsNetwork/labs/Module%202/images/DictsList.png\" width=\"650\" />\n"
   ]
  },
  {
   "cell_type": "markdown",
   "metadata": {},
   "source": [
    "An example of a Dictionary <code>Dict</code>:\n"
   ]
  },
  {
   "cell_type": "code",
   "execution_count": null,
   "metadata": {},
   "outputs": [],
   "source": [
    "# Create the dictionary\n",
    "\n",
    "Dict = {\"key1\": 1, \"key2\": \"2\", \"key3\": np.array([3, 3, 8]), \"key4\": (4, 4, '4'), ('key5'): 5, (0, 1): 6}\n",
    "Dict"
   ]
  },
  {
   "cell_type": "markdown",
   "metadata": {},
   "source": [
    "Notice for the keys we can use immutable objects such as <code>strings </code> or <code>tuples </code>."
   ]
  },
  {
   "cell_type": "markdown",
   "metadata": {},
   "source": [
    "### Acces the keys of a dictionary      <font color='green'>COVER</font> \n",
    "\n",
    "We can ask for the list of keys in the dictionary using the atribute <code> .keys()</code>. This is pecially important we using datafiles whose content we know nothing about"
   ]
  },
  {
   "cell_type": "code",
   "execution_count": null,
   "metadata": {},
   "outputs": [],
   "source": [
    "Dict.keys()"
   ]
  },
  {
   "cell_type": "markdown",
   "metadata": {},
   "source": [
    "### Access to the value by the key              <font color='green'>COVER</font>"
   ]
  },
  {
   "cell_type": "code",
   "execution_count": null,
   "metadata": {},
   "outputs": [],
   "source": [
    "Dict[\"key3\"]\n"
   ]
  },
  {
   "cell_type": "code",
   "execution_count": null,
   "metadata": {},
   "outputs": [],
   "source": [
    "Dict[(0, 1)]"
   ]
  },
  {
   "cell_type": "markdown",
   "metadata": {},
   "source": [
    "### We can also use the get method to acces he value of a given key          <font color='red'>HOMEWORK</font>"
   ]
  },
  {
   "cell_type": "code",
   "execution_count": null,
   "metadata": {},
   "outputs": [],
   "source": [
    "Dict.get(\"key3\")"
   ]
  },
  {
   "cell_type": "markdown",
   "metadata": {},
   "source": [
    "### Why is get usefull?        <font color='red'>HOMEWORK</font>"
   ]
  },
  {
   "cell_type": "markdown",
   "metadata": {},
   "source": [
    "If we ask for the value of the Dictionary for a given key, and the key does not exist in the dictionary, then the get method avoids error messages, and simply returns non"
   ]
  },
  {
   "cell_type": "code",
   "execution_count": null,
   "metadata": {},
   "outputs": [],
   "source": [
    "print(Dict.get(\"key7\"))\n"
   ]
  },
  {
   "cell_type": "code",
   "execution_count": null,
   "metadata": {},
   "outputs": [],
   "source": [
    "print(Dic[\"key7\"])"
   ]
  },
  {
   "cell_type": "markdown",
   "metadata": {},
   "source": [
    "With the get method, if nothing comes out, we can assign an ouput value"
   ]
  },
  {
   "cell_type": "code",
   "execution_count": null,
   "metadata": {},
   "outputs": [],
   "source": [
    "value = 4\n",
    "print(Dict.get(\"key7\",value ))\n"
   ]
  },
  {
   "cell_type": "markdown",
   "metadata": {},
   "source": [
    "the type of a dictionary is <code> dict </code>"
   ]
  },
  {
   "cell_type": "code",
   "execution_count": null,
   "metadata": {},
   "outputs": [],
   "source": [
    "type(Dict)"
   ]
  },
  {
   "cell_type": "markdown",
   "metadata": {},
   "source": [
    "### Acces the values of a dicionary    <font color='red'>HOMEWORK</font>"
   ]
  },
  {
   "cell_type": "code",
   "execution_count": null,
   "metadata": {},
   "outputs": [],
   "source": [
    "Dict.values()"
   ]
  },
  {
   "cell_type": "markdown",
   "metadata": {},
   "source": [
    "Notice that the elements for each keys do not have to be of the same type. "
   ]
  },
  {
   "cell_type": "code",
   "execution_count": null,
   "metadata": {},
   "outputs": [],
   "source": [
    "Dict['key3']"
   ]
  },
  {
   "cell_type": "markdown",
   "metadata": {},
   "source": [
    "In the case that the data values are given by arrays, we can use the atribute <code> .dtype </code>,  to  know the type of data contained in a key argument. \n",
    " "
   ]
  },
  {
   "cell_type": "code",
   "execution_count": null,
   "metadata": {},
   "outputs": [],
   "source": [
    "Dict['key3'].dtype"
   ]
  },
  {
   "cell_type": "markdown",
   "metadata": {},
   "source": [
    "Dictionary containing arrays can be sliced "
   ]
  },
  {
   "cell_type": "code",
   "execution_count": null,
   "metadata": {},
   "outputs": [],
   "source": [
    "Dict['key3'][1:3]"
   ]
  },
  {
   "cell_type": "markdown",
   "metadata": {},
   "source": [
    "# Add elements to a dictionary       <font color='green'>COVER</font>    "
   ]
  },
  {
   "cell_type": "code",
   "execution_count": null,
   "metadata": {},
   "outputs": [],
   "source": [
    "Dict.keys()"
   ]
  },
  {
   "cell_type": "code",
   "execution_count": null,
   "metadata": {},
   "outputs": [],
   "source": [
    "Dict[\"list\"] = [1,2,3]"
   ]
  },
  {
   "cell_type": "code",
   "execution_count": null,
   "metadata": {},
   "outputs": [],
   "source": [
    "Dict.keys()"
   ]
  },
  {
   "cell_type": "code",
   "execution_count": null,
   "metadata": {},
   "outputs": [],
   "source": [
    "Dict"
   ]
  },
  {
   "cell_type": "markdown",
   "metadata": {},
   "source": [
    "### Remove a key from a dictionary using the method <code> pop </code>        <font color='red'>HOMEWORK</font>"
   ]
  },
  {
   "cell_type": "code",
   "execution_count": null,
   "metadata": {},
   "outputs": [],
   "source": [
    "Dict.pop('list')"
   ]
  },
  {
   "cell_type": "code",
   "execution_count": null,
   "metadata": {},
   "outputs": [],
   "source": [
    "Dict.keys()"
   ]
  },
  {
   "cell_type": "markdown",
   "metadata": {},
   "source": [
    "### Adding two dictionaries"
   ]
  },
  {
   "cell_type": "code",
   "execution_count": null,
   "metadata": {},
   "outputs": [],
   "source": [
    "dict1 = {'Ten': 10, 'Twenty': 20, 'Thirty': 30}\n",
    "dict2 = {'Thirty': 30, 'Fourty': 40, 'Fifty': 50}\n",
    "\n",
    "dict3 = {**dict1, **dict2}\n",
    "print(dict3)"
   ]
  },
  {
   "cell_type": "markdown",
   "metadata": {},
   "source": [
    "# Excercise       <font color='red'>HOMEWORK</font>"
   ]
  },
  {
   "cell_type": "markdown",
   "metadata": {},
   "source": [
    "Given the following dictionaries, and using the previous explanations, write short line codes to answer the following  Questions. (See  <a href=\"https://holypython.com/beginner-python-exercises/exercise-8-python-dictionaries/\"> more exercices  </a>)"
   ]
  },
  {
   "cell_type": "markdown",
   "metadata": {},
   "source": [
    "#### 1) When was Plato born?"
   ]
  },
  {
   "cell_type": "code",
   "execution_count": null,
   "metadata": {},
   "outputs": [],
   "source": [
    "dict={\"name\": \"Plato\", \"country\": \"Ancient Greece\", \"born\": -427, \"teacher\": \"Socrates\", \"student\": \"Aristotle\"}\n",
    "#Type your answer below.\n",
    "answer_1=\n",
    "\n",
    "print(answer_1)\n"
   ]
  },
  {
   "cell_type": "markdown",
   "metadata": {},
   "source": [
    "#### 2) Change Plato's birth year from B.C. 427 to B.C. 428.\n"
   ]
  },
  {
   "cell_type": "code",
   "execution_count": null,
   "metadata": {},
   "outputs": [],
   "source": [
    "#Type your answer below.\n",
    "\n",
    "\n",
    "print(dict[\"born\"])"
   ]
  },
  {
   "cell_type": "markdown",
   "metadata": {},
   "source": [
    "#### 3) Add the keyword \"work\" to the dictionary, with the values \"Apology\", \"Phaedo\", \"Republic\", \"Symposium\" in a list "
   ]
  },
  {
   "cell_type": "code",
   "execution_count": null,
   "metadata": {},
   "outputs": [],
   "source": [
    "#Type your answer below.\n",
    "\n",
    "\n",
    "print(dict)"
   ]
  },
  {
   "cell_type": "markdown",
   "metadata": {},
   "source": [
    "####  given the additional dictionary \n",
    "\n"
   ]
  },
  {
   "cell_type": "code",
   "execution_count": null,
   "metadata": {},
   "outputs": [],
   "source": [
    "dict2 ={\"son's name\": \"Lucas\", \"son's eyes\": \"green\", \"son's height\": 32, \"son's weight\": 25}\n"
   ]
  },
  {
   "cell_type": "markdown",
   "metadata": {},
   "source": [
    "#### 4)Add 2 inches to the son's height.\n",
    "\n"
   ]
  },
  {
   "cell_type": "code",
   "execution_count": null,
   "metadata": {},
   "outputs": [],
   "source": [
    "#Type your answer below.\n",
    "\n",
    "print(dict2)"
   ]
  },
  {
   "cell_type": "markdown",
   "metadata": {},
   "source": [
    "#### 5) Using .get() method print the value of \"son's eyes\".\n",
    "\n"
   ]
  },
  {
   "cell_type": "code",
   "execution_count": null,
   "metadata": {},
   "outputs": [],
   "source": [
    "#Type your answer inside the print.\n",
    "ans_e_c=\n",
    "\n",
    "print (ans_e_c)"
   ]
  },
  {
   "cell_type": "markdown",
   "metadata": {},
   "source": [
    "#### 6) Merge <code> dict </code> and  <code> dict2 <code> into the dictionary <code> dic_merge </code>"
   ]
  },
  {
   "cell_type": "code",
   "execution_count": null,
   "metadata": {},
   "outputs": [],
   "source": [
    "#Type your answer inside the print.\n",
    "dic_merge=\n",
    "\n",
    "print (dic_merge)"
   ]
  },
  {
   "cell_type": "markdown",
   "metadata": {},
   "source": [
    "See <a href= \"https://www.w3schools.com/python/python_ref_dictionary.asp/\"> methods on dictionaries, </a> for additional methods\n"
   ]
  },
  {
   "cell_type": "markdown",
   "metadata": {},
   "source": [
    "# The Pandas library       <font color='green'>COVER</font>"
   ]
  },
  {
   "cell_type": "markdown",
   "metadata": {},
   "source": [
    "In this section we use Pandas library for data visualization of <code> .csv </code> files. Pandas is a very big library, useful for doing data analysis. Check <a href=\"https://pandas.pydata.org/pandas-docs/stable/index.html\"> pandas </a>  for more information. We will use the method <code> pandas.DataFrame </code> . See\n",
    "    <a href=\"https://pandas.pydata.org/pandas-docs/stable/reference/api/pandas.DataFrame.html\"> pandas.DataFrame </a> for information on DataFrames\n",
    "\n",
    "For a longer beginers introduction to pandas, watch the following  <a href='https://www.youtube.com/watch?v=UB3DE5Bgfx4'> lecture </a>"
   ]
  },
  {
   "cell_type": "markdown",
   "metadata": {},
   "source": [
    "Firts, let's import the library we will be using"
   ]
  },
  {
   "cell_type": "code",
   "execution_count": 2,
   "metadata": {},
   "outputs": [],
   "source": [
    "import pandas as pd"
   ]
  },
  {
   "cell_type": "markdown",
   "metadata": {},
   "source": [
    "### What are <code> .csv </code> files?\n",
    "\n",
    " A Comma Separated Values  (<code> .csv </code>) file, is a plain text file that contains a list of data, separated by commas.  Let us show an DM example on how to load and manipulate a <code> .csv </code> file. "
   ]
  },
  {
   "cell_type": "markdown",
   "metadata": {},
   "source": [
    "### Galaxy rotation curve"
   ]
  },
  {
   "cell_type": "markdown",
   "metadata": {},
   "source": [
    "Descritpion....."
   ]
  },
  {
   "cell_type": "markdown",
   "metadata": {},
   "source": [
    "\n",
    "In the following, we explore the <code> csv </code> files for different rotation curves...."
   ]
  },
  {
   "cell_type": "markdown",
   "metadata": {},
   "source": [
    "#### Specifying the paths to the data files"
   ]
  },
  {
   "cell_type": "markdown",
   "metadata": {},
   "source": [
    "It is usefull tospecify the path for the data file in two steps.\n",
    "\n",
    "\n",
    "1) Path to the folder containing the data files (IF THE DATA FILES ARE IN THE SAME FOLDER AS THE PYTHON NOTEBOOK, THIS STEP IS NOT NEEDED)\n",
    "\n",
    "2) Name of the specific file to read\n",
    "\n",
    "IMPORTANT, THE PATHS ARE STRING TYPE OBJECTS. When we have created the two path objects, we concatenate them using the + operation for strings (See tutorial 1) "
   ]
  },
  {
   "cell_type": "code",
   "execution_count": 3,
   "metadata": {},
   "outputs": [],
   "source": [
    "folder_path = '/home/fabian/Documents/Git files/python-tutorials/Tutorial 2/Rotation curves/'\n",
    "file_neme = 'RotationCurve_IC2574.csv'\n",
    "full_path = folder_path + file_neme"
   ]
  },
  {
   "cell_type": "code",
   "execution_count": null,
   "metadata": {},
   "outputs": [],
   "source": [
    "type(full_path)"
   ]
  },
  {
   "cell_type": "markdown",
   "metadata": {},
   "source": [
    "#### Creating Data frames"
   ]
  },
  {
   "cell_type": "markdown",
   "metadata": {},
   "source": [
    "To read the <code> .csv </code> file we use the method <code > pandas.read_csv </code>"
   ]
  },
  {
   "cell_type": "code",
   "execution_count": 4,
   "metadata": {},
   "outputs": [],
   "source": [
    "df_rot_curve =  pd.read_csv(full_path)"
   ]
  },
  {
   "cell_type": "markdown",
   "metadata": {},
   "source": [
    "It creates a <code > DataFrame </code> which is a Two-dimensional, size-mutable, potentially heterogeneous tabular data. It consist of the following elements: <code> DataFrame(data, index = , columns = )</code>. Columns corresponds to the headers of the Data file. "
   ]
  },
  {
   "cell_type": "markdown",
   "metadata": {},
   "source": [
    " To acces the headers names we use the method <code> columns </code>`"
   ]
  },
  {
   "cell_type": "code",
   "execution_count": null,
   "metadata": {},
   "outputs": [],
   "source": [
    "df_rot_curve.columns"
   ]
  },
  {
   "cell_type": "markdown",
   "metadata": {},
   "source": [
    "We can also acces the data type using the method <code> dtypes </code>"
   ]
  },
  {
   "cell_type": "code",
   "execution_count": null,
   "metadata": {},
   "outputs": [],
   "source": [
    "df_rot_curve.dtypes"
   ]
  },
  {
   "cell_type": "markdown",
   "metadata": {},
   "source": [
    "The method <code> head(i) </code> allows us to see only the first i elements of the data frame. The default value is i=5"
   ]
  },
  {
   "cell_type": "code",
   "execution_count": null,
   "metadata": {},
   "outputs": [],
   "source": [
    "df_rot_curve.head()"
   ]
  },
  {
   "cell_type": "markdown",
   "metadata": {},
   "source": [
    "The method <code> tail(i) </code> allows us to see only the last i elements of the data frame. The default value is i=10"
   ]
  },
  {
   "cell_type": "code",
   "execution_count": null,
   "metadata": {},
   "outputs": [],
   "source": [
    "df_rot_curve.tail(3)"
   ]
  },
  {
   "cell_type": "markdown",
   "metadata": {},
   "source": [
    "We can also slice the Data frame in a more general maner"
   ]
  },
  {
   "cell_type": "code",
   "execution_count": null,
   "metadata": {},
   "outputs": [],
   "source": [
    "df_rot_curve[5:10]"
   ]
  },
  {
   "cell_type": "markdown",
   "metadata": {},
   "source": [
    "####  To acces only to the data values in the Data frame, we use the atribute <code> value </code>"
   ]
  },
  {
   "cell_type": "code",
   "execution_count": null,
   "metadata": {
    "scrolled": true
   },
   "outputs": [],
   "source": [
    "df_rot_curve.values"
   ]
  },
  {
   "cell_type": "markdown",
   "metadata": {},
   "source": [
    "#### Accesing specific elements of a Data frame"
   ]
  },
  {
   "cell_type": "markdown",
   "metadata": {},
   "source": [
    "##### Accesing a full column"
   ]
  },
  {
   "cell_type": "markdown",
   "metadata": {},
   "source": [
    "Data frames are pretty much like dictionaries, therefore, we can acces different column elements using the same inputs methods used for dictionaries. Of course we have to know what are the keywords (headers) of the data frame"
   ]
  },
  {
   "cell_type": "code",
   "execution_count": null,
   "metadata": {},
   "outputs": [],
   "source": [
    "df_rot_curve.columns"
   ]
  },
  {
   "cell_type": "code",
   "execution_count": null,
   "metadata": {
    "scrolled": true
   },
   "outputs": [],
   "source": [
    "df_rot_curve['radius (kpc)']"
   ]
  },
  {
   "cell_type": "code",
   "execution_count": null,
   "metadata": {},
   "outputs": [],
   "source": [
    "#for accessing ith row we can use the iloc \"i location \" method\n",
    "print(df_rot_curve.iloc[0])"
   ]
  },
  {
   "cell_type": "markdown",
   "metadata": {},
   "source": [
    "# Adding a column to the data frame"
   ]
  },
  {
   "cell_type": "markdown",
   "metadata": {},
   "source": [
    "### Adding  a column for a  systematic error \n",
    "In some galaxies, the quoted errors are very small and have been underestimated. It is suggested to include a systematic error at the level of 5% for the last data point.\n"
   ]
  },
  {
   "cell_type": "code",
   "execution_count": 5,
   "metadata": {},
   "outputs": [
    {
     "data": {
      "text/plain": [
       "Index(['radius (kpc)', 'circ velocity (km/s)', 'circ velocity error (km/s)'], dtype='object')"
      ]
     },
     "execution_count": 5,
     "metadata": {},
     "output_type": "execute_result"
    }
   ],
   "source": [
    "# Recall the key arguments of the Data frame\n",
    "df_rot_curve.columns"
   ]
  },
  {
   "cell_type": "code",
   "execution_count": 5,
   "metadata": {
    "collapsed": true
   },
   "outputs": [
    {
     "data": {
      "text/plain": [
       "0     1.36\n",
       "1     4.32\n",
       "2     4.51\n",
       "3     5.35\n",
       "4     5.54\n",
       "5     6.81\n",
       "6     6.16\n",
       "7     4.92\n",
       "8     4.81\n",
       "9     4.28\n",
       "10    3.69\n",
       "11    4.64\n",
       "12    4.40\n",
       "13    3.79\n",
       "14    4.03\n",
       "15    4.08\n",
       "16    4.33\n",
       "17    4.24\n",
       "18    3.57\n",
       "19    4.33\n",
       "20    4.84\n",
       "21    5.15\n",
       "22    5.33\n",
       "23    4.07\n",
       "24    3.50\n",
       "25    3.54\n",
       "26    3.81\n",
       "27    4.04\n",
       "28    4.07\n",
       "29    3.81\n",
       "30    4.16\n",
       "31    4.02\n",
       "32    4.03\n",
       "33    4.00\n",
       "34    3.41\n",
       "35    3.99\n",
       "36    4.75\n",
       "37    4.84\n",
       "38    4.83\n",
       "39    4.84\n",
       "40    4.71\n",
       "41    5.30\n",
       "42    4.77\n",
       "43    4.45\n",
       "44    5.31\n",
       "45    4.79\n",
       "46    4.51\n",
       "47    4.17\n",
       "48    4.06\n",
       "49    4.04\n",
       "50    3.55\n",
       "51    3.52\n",
       "52    3.96\n",
       "53    4.55\n",
       "54    2.80\n",
       "Name: circ velocity error (km/s), dtype: float64"
      ]
     },
     "execution_count": 5,
     "metadata": {},
     "output_type": "execute_result"
    }
   ],
   "source": [
    "df_rot_curve[ 'circ velocity error (km/s)']"
   ]
  },
  {
   "cell_type": "code",
   "execution_count": 5,
   "metadata": {},
   "outputs": [],
   "source": [
    "# Add a new column to the data frame\n",
    "df_rot_curve['syst_error'] =  0.05*df_rot_curve[ 'circ velocity error (km/s)'].iloc[-1] "
   ]
  },
  {
   "cell_type": "code",
   "execution_count": 6,
   "metadata": {},
   "outputs": [
    {
     "data": {
      "text/html": [
       "<div>\n",
       "<style scoped>\n",
       "    .dataframe tbody tr th:only-of-type {\n",
       "        vertical-align: middle;\n",
       "    }\n",
       "\n",
       "    .dataframe tbody tr th {\n",
       "        vertical-align: top;\n",
       "    }\n",
       "\n",
       "    .dataframe thead th {\n",
       "        text-align: right;\n",
       "    }\n",
       "</style>\n",
       "<table border=\"1\" class=\"dataframe\">\n",
       "  <thead>\n",
       "    <tr style=\"text-align: right;\">\n",
       "      <th></th>\n",
       "      <th>radius (kpc)</th>\n",
       "      <th>circ velocity (km/s)</th>\n",
       "      <th>circ velocity error (km/s)</th>\n",
       "      <th>syst_error</th>\n",
       "    </tr>\n",
       "  </thead>\n",
       "  <tbody>\n",
       "    <tr>\n",
       "      <th>0</th>\n",
       "      <td>0.232710</td>\n",
       "      <td>3.33</td>\n",
       "      <td>1.36</td>\n",
       "      <td>0.14</td>\n",
       "    </tr>\n",
       "    <tr>\n",
       "      <th>1</th>\n",
       "      <td>0.465421</td>\n",
       "      <td>8.87</td>\n",
       "      <td>4.32</td>\n",
       "      <td>0.14</td>\n",
       "    </tr>\n",
       "    <tr>\n",
       "      <th>2</th>\n",
       "      <td>0.698131</td>\n",
       "      <td>11.89</td>\n",
       "      <td>4.51</td>\n",
       "      <td>0.14</td>\n",
       "    </tr>\n",
       "    <tr>\n",
       "      <th>3</th>\n",
       "      <td>0.930841</td>\n",
       "      <td>15.76</td>\n",
       "      <td>5.35</td>\n",
       "      <td>0.14</td>\n",
       "    </tr>\n",
       "    <tr>\n",
       "      <th>4</th>\n",
       "      <td>1.163550</td>\n",
       "      <td>18.62</td>\n",
       "      <td>5.54</td>\n",
       "      <td>0.14</td>\n",
       "    </tr>\n",
       "  </tbody>\n",
       "</table>\n",
       "</div>"
      ],
      "text/plain": [
       "   radius (kpc)  circ velocity (km/s)  circ velocity error (km/s)  syst_error\n",
       "0      0.232710                  3.33                        1.36        0.14\n",
       "1      0.465421                  8.87                        4.32        0.14\n",
       "2      0.698131                 11.89                        4.51        0.14\n",
       "3      0.930841                 15.76                        5.35        0.14\n",
       "4      1.163550                 18.62                        5.54        0.14"
      ]
     },
     "execution_count": 6,
     "metadata": {},
     "output_type": "execute_result"
    }
   ],
   "source": [
    "#Check that the column was properly added\n",
    "df_rot_curve.head()"
   ]
  },
  {
   "cell_type": "markdown",
   "metadata": {},
   "source": [
    "# Add the errors in quadrature"
   ]
  },
  {
   "cell_type": "code",
   "execution_count": 7,
   "metadata": {},
   "outputs": [],
   "source": [
    "df_rot_curve[\"total_error\"] = np.sqrt(df_rot_curve['syst_error']**2+df_rot_curve['circ velocity error (km/s)']**2)"
   ]
  },
  {
   "cell_type": "code",
   "execution_count": 8,
   "metadata": {},
   "outputs": [
    {
     "data": {
      "text/html": [
       "<div>\n",
       "<style scoped>\n",
       "    .dataframe tbody tr th:only-of-type {\n",
       "        vertical-align: middle;\n",
       "    }\n",
       "\n",
       "    .dataframe tbody tr th {\n",
       "        vertical-align: top;\n",
       "    }\n",
       "\n",
       "    .dataframe thead th {\n",
       "        text-align: right;\n",
       "    }\n",
       "</style>\n",
       "<table border=\"1\" class=\"dataframe\">\n",
       "  <thead>\n",
       "    <tr style=\"text-align: right;\">\n",
       "      <th></th>\n",
       "      <th>radius (kpc)</th>\n",
       "      <th>circ velocity (km/s)</th>\n",
       "      <th>circ velocity error (km/s)</th>\n",
       "      <th>syst_error</th>\n",
       "      <th>total_error</th>\n",
       "    </tr>\n",
       "  </thead>\n",
       "  <tbody>\n",
       "    <tr>\n",
       "      <th>0</th>\n",
       "      <td>0.232710</td>\n",
       "      <td>3.33</td>\n",
       "      <td>1.36</td>\n",
       "      <td>0.14</td>\n",
       "      <td>1.367187</td>\n",
       "    </tr>\n",
       "    <tr>\n",
       "      <th>1</th>\n",
       "      <td>0.465421</td>\n",
       "      <td>8.87</td>\n",
       "      <td>4.32</td>\n",
       "      <td>0.14</td>\n",
       "      <td>4.322268</td>\n",
       "    </tr>\n",
       "    <tr>\n",
       "      <th>2</th>\n",
       "      <td>0.698131</td>\n",
       "      <td>11.89</td>\n",
       "      <td>4.51</td>\n",
       "      <td>0.14</td>\n",
       "      <td>4.512172</td>\n",
       "    </tr>\n",
       "    <tr>\n",
       "      <th>3</th>\n",
       "      <td>0.930841</td>\n",
       "      <td>15.76</td>\n",
       "      <td>5.35</td>\n",
       "      <td>0.14</td>\n",
       "      <td>5.351831</td>\n",
       "    </tr>\n",
       "    <tr>\n",
       "      <th>4</th>\n",
       "      <td>1.163550</td>\n",
       "      <td>18.62</td>\n",
       "      <td>5.54</td>\n",
       "      <td>0.14</td>\n",
       "      <td>5.541769</td>\n",
       "    </tr>\n",
       "  </tbody>\n",
       "</table>\n",
       "</div>"
      ],
      "text/plain": [
       "   radius (kpc)  circ velocity (km/s)  circ velocity error (km/s)  syst_error  \\\n",
       "0      0.232710                  3.33                        1.36        0.14   \n",
       "1      0.465421                  8.87                        4.32        0.14   \n",
       "2      0.698131                 11.89                        4.51        0.14   \n",
       "3      0.930841                 15.76                        5.35        0.14   \n",
       "4      1.163550                 18.62                        5.54        0.14   \n",
       "\n",
       "   total_error  \n",
       "0     1.367187  \n",
       "1     4.322268  \n",
       "2     4.512172  \n",
       "3     5.351831  \n",
       "4     5.541769  "
      ]
     },
     "execution_count": 8,
     "metadata": {},
     "output_type": "execute_result"
    }
   ],
   "source": [
    "df_rot_curve.head()"
   ]
  },
  {
   "cell_type": "markdown",
   "metadata": {},
   "source": [
    "##### We can also slice the column    <font color='red'>HOMEWORK</font>"
   ]
  },
  {
   "cell_type": "code",
   "execution_count": null,
   "metadata": {},
   "outputs": [],
   "source": [
    "df_rot_curve['radius (kpc)'][0:10]"
   ]
  },
  {
   "cell_type": "markdown",
   "metadata": {},
   "source": [
    "## Ploting Data frames      <font color='red'>HOMEWORK</font>"
   ]
  },
  {
   "cell_type": "markdown",
   "metadata": {},
   "source": [
    "Pandas Library has the a ploting method called  <code> .plot() </code> . It uses mathplot library to create the different plots.  \n",
    "(See <a href=\"https://pandas.pydata.org/pandasdocs/stable/reference/api/pandas.DataFrame.plot.html\"> pandas.DataFrame.plot  </a>  )"
   ]
  },
  {
   "cell_type": "markdown",
   "metadata": {},
   "source": [
    "We can crate a plot of all of the columns contained in the Data frame, however, it uses as x-axis the index-lablel in the Data frame"
   ]
  },
  {
   "cell_type": "code",
   "execution_count": null,
   "metadata": {},
   "outputs": [],
   "source": [
    "df_rot_curve.plot()"
   ]
  },
  {
   "cell_type": "markdown",
   "metadata": {},
   "source": [
    "To do more specific plots, for intance a plot of the velocity of rotation as a function of radius, we need to specify in angular paranthesis the keywords for the specific columns. The first keyword correspond to the values assigned to the x-axis"
   ]
  },
  {
   "cell_type": "code",
   "execution_count": null,
   "metadata": {},
   "outputs": [],
   "source": [
    "df_rot_curve.plot('radius (kpc)','circ velocity (km/s)')"
   ]
  },
  {
   "cell_type": "markdown",
   "metadata": {},
   "source": [
    "If we wanted to plot a specific slice of the Data frame, we just use our slicing comands before applying the <code> plot </code> method"
   ]
  },
  {
   "cell_type": "code",
   "execution_count": null,
   "metadata": {},
   "outputs": [],
   "source": [
    "df_rot_curve[20:].plot.scatter('radius (kpc)','circ velocity (km/s)')"
   ]
  },
  {
   "cell_type": "code",
   "execution_count": null,
   "metadata": {},
   "outputs": [],
   "source": [
    "df_rot_curve.columns"
   ]
  },
  {
   "cell_type": "code",
   "execution_count": null,
   "metadata": {},
   "outputs": [],
   "source": [
    "df_rot_curve.columns[0]"
   ]
  },
  {
   "cell_type": "markdown",
   "metadata": {},
   "source": [
    "# Fitting functions using  SciPy library"
   ]
  },
  {
   "cell_type": "markdown",
   "metadata": {},
   "source": [
    "#### The funtion fitting procces can be divided into 4 steps:\n",
    "#### 1) Collect the data\n",
    "#### 2)  Define objective function (The fucntion that probably will describe well the data. It has free parameters that can be fixed from the fit)\n",
    "#### 3)  Do the Fit\n",
    "#### 4) Compute the goodness of the fit"
   ]
  },
  {
   "cell_type": "markdown",
   "metadata": {},
   "source": [
    "#### 1) Collecting the data"
   ]
  },
  {
   "cell_type": "markdown",
   "metadata": {},
   "source": [
    "First we want to select the date (x,y), for which we will do the fitting. The data also have uncertanties in the measured velocity values, and we want our fit function to take into account those uncertaties"
   ]
  },
  {
   "cell_type": "code",
   "execution_count": 9,
   "metadata": {},
   "outputs": [],
   "source": [
    "# choose the input and output variables, as well as the uncertaties\n",
    " \n",
    "r  = df_rot_curve['radius (kpc)']  # mearured r vales\n",
    "v = df_rot_curve['circ velocity (km/s)']  # measured velocity values\n",
    "dv = df_rot_curve[\"circ velocity error (km/s)\"] # Uncertaties in the measured velocities\n",
    "dvt = df_rot_curve[\"total_error\"] # total error"
   ]
  },
  {
   "cell_type": "code",
   "execution_count": 10,
   "metadata": {},
   "outputs": [
    {
     "data": {
      "image/png": "[encoded data removed]",
      "text/plain": [
       "<Figure size 432x288 with 1 Axes>"
      ]
     },
     "metadata": {
      "needs_background": "light"
     },
     "output_type": "display_data"
    }
   ],
   "source": [
    "# plot input vs output\n",
    "plt.errorbar(r, v, yerr=dvt, fmt='.')\n",
    "plt.show()"
   ]
  },
  {
   "cell_type": "code",
   "execution_count": null,
   "metadata": {},
   "outputs": [],
   "source": [
    "plt.errorbar?"
   ]
  },
  {
   "cell_type": "markdown",
   "metadata": {},
   "source": [
    "#### 2) Define the true objective function"
   ]
  },
  {
   "cell_type": "markdown",
   "metadata": {},
   "source": [
    "In this tutorial we will fit the rotation curve to a   <a href='https://en.wikipedia.org/wiki/Navarro%E2%80%93Frenk%E2%80%93White_profile'> NFW </a>   profile  , as well as to a  <a href='https://astro.uni-bonn.de/~uklein/research/dm.html'>  Burkert </a>  profile. They are characterized by two parameters\n",
    "\n",
    "$$ \\rho_{NFW} = \\frac{\\rho_s}{r/r_s(1+r/r_s)^2} $$ \n",
    "and $$\\rho_{Burkert} = \\rho_0\\frac{r_0^3}{(r+r_0)(r^2+r_0^2)} $$\n",
    "Notice that as $r\\rightarrow 0$, the desity functions behave as \n",
    "\n",
    "$$\\rho_{NFW} \\rightarrow  \\rho_s \\frac{r_s}{r} $$\n",
    "and $$\\rho_{Burkert} \\rightarrow \\rho_0$$"
   ]
  },
  {
   "cell_type": "markdown",
   "metadata": {},
   "source": [
    "Let us see what the density profile look like"
   ]
  },
  {
   "cell_type": "code",
   "execution_count": 11,
   "metadata": {},
   "outputs": [],
   "source": [
    "from density_profiles import rho_NFW, rho_burkert"
   ]
  },
  {
   "cell_type": "code",
   "execution_count": 12,
   "metadata": {},
   "outputs": [],
   "source": [
    "rhoNFW= rho_NFW(10**7,10)\n",
    "rhoburkert = rho_burkert(10**7,10)\n",
    "\n",
    "rd = np.logspace(-3,2)"
   ]
  },
  {
   "cell_type": "code",
   "execution_count": 13,
   "metadata": {},
   "outputs": [
    {
     "data": {
      "image/png": "[encoded data removed]",
      "text/plain": [
       "<Figure size 432x288 with 1 Axes>"
      ]
     },
     "metadata": {
      "needs_background": "light"
     },
     "output_type": "display_data"
    }
   ],
   "source": [
    "plt.loglog(rd,rhoNFW(rd), label =\"NFW\")\n",
    "plt.loglog(rd,rhoburkert(rd),label = \"Burkert\")\n",
    "plt.xlabel('radius (kpc)')\n",
    "plt.ylabel('density (M_s/kpc^3)')\n",
    "plt.legend(loc=\"upper right\")\n",
    "plt.show()\n"
   ]
  },
  {
   "cell_type": "markdown",
   "metadata": {},
   "source": [
    "The  mass functions are given by the volume integral of the  DM density function $\\rho(r)$\n",
    "\n",
    "\n",
    "\n",
    "$$ M_{NFW}(r) = 4\\pi \\rho_s r_s^3\\left[\\ln\\left(1+\\frac{r}{r_s}\\right)-\\frac{r}{r_s}\\frac{1}{1+r/r_s}\\right] $$ and\n",
    "$$ M_{Burkert}(r) = \\pi \\rho_0 r_0^3 \\left[ \\ln \\left((1+r^2/r_0^2)(1+r/r_0)^2\\right)-2\\arctan(r/r_0) \\right]$$\n",
    "\n",
    "The velocity of rotation is then computed from\n",
    "$$ v = \\sqrt {\\frac{GM(r)}{r} } $$\n"
   ]
  },
  {
   "cell_type": "code",
   "execution_count": 14,
   "metadata": {},
   "outputs": [],
   "source": [
    "# Newton's constant\n",
    "GN = 4.302e-6 # km^2/s^2*kpc/Msol\n",
    "\n",
    "def M_NFW(r, r_s, rho_s):\n",
    "    \"\"\"NFW mass function\"\"\"\n",
    "    xr = r/r_s\n",
    "    return 4*np.pi*rho_s*r_s**3*( np.log(1+xr) - xr/(1+xr) )\n",
    "\n",
    "def M_burkert(r, r_0, rho_0):\n",
    "    \"\"\"Burkert mass function\"\"\"\n",
    "    xr = r/r_0\n",
    "    return np.pi*rho_0*r_0**3*(-2 *np.arctan(xr) + np.log(1+xr**2) + 2*np.log(1+xr) )   "
   ]
  },
  {
   "cell_type": "code",
   "execution_count": null,
   "metadata": {},
   "outputs": [],
   "source": [
    "M_NFW?"
   ]
  },
  {
   "cell_type": "markdown",
   "metadata": {},
   "source": [
    "With the mass function, we can define the true objective function for the velocity as \n"
   ]
  },
  {
   "cell_type": "code",
   "execution_count": 15,
   "metadata": {},
   "outputs": [],
   "source": [
    "def objective(r, r_s, rho_s):\n",
    "    \n",
    "    \"\"\"Velocity function for the NFW profile\"\"\"\n",
    "    \n",
    "    return np.sqrt(GN* M_NFW(r, r_s, rho_s)/r)\n",
    "\n",
    "\n",
    "def objective_b(r, r_0, rho_0):\n",
    "    \n",
    "    \"\"\"Velocity function for the NFW profile\"\"\"\n",
    "    \n",
    "    return np.sqrt(GN* M_burkert(r, r_0, rho_0)/r)"
   ]
  },
  {
   "cell_type": "markdown",
   "metadata": {},
   "source": [
    "### Fit the curve"
   ]
  },
  {
   "cell_type": "markdown",
   "metadata": {},
   "source": [
    "For that we use the <code> curve_fit </code> module in the scipy library"
   ]
  },
  {
   "cell_type": "code",
   "execution_count": 16,
   "metadata": {},
   "outputs": [],
   "source": [
    "from scipy.optimize import curve_fit"
   ]
  },
  {
   "cell_type": "code",
   "execution_count": 33,
   "metadata": {},
   "outputs": [],
   "source": [
    "curve_fit?"
   ]
  },
  {
   "cell_type": "code",
   "execution_count": 18,
   "metadata": {},
   "outputs": [],
   "source": [
    "# curve fit\n",
    "par, c_matrix = curve_fit(objective, r, v, sigma = dvt,p0=np.array([10., 1e7]))"
   ]
  },
  {
   "cell_type": "code",
   "execution_count": 19,
   "metadata": {},
   "outputs": [],
   "source": [
    "# curve fit burkert\n",
    "par_b, c_matrix_b = curve_fit(objective_b, r, v, sigma = dvt, p0=np.array([10., 1e7]))"
   ]
  },
  {
   "cell_type": "code",
   "execution_count": 23,
   "metadata": {},
   "outputs": [
    {
     "name": "stdout",
     "output_type": "stream",
     "text": [
      "747.2453044088161 25679.68740293729\n",
      "8.236653216336087 9843524.102512754\n"
     ]
    }
   ],
   "source": [
    "# summarize the parameter values\n",
    "r_s, rho_s = par\n",
    "print(r_s, rho_s)\n",
    "r_0, rho_0 = par_b\n",
    "print(r_0, rho_0)"
   ]
  },
  {
   "cell_type": "markdown",
   "metadata": {},
   "source": [
    "### Plot of the fit function"
   ]
  },
  {
   "cell_type": "code",
   "execution_count": 24,
   "metadata": {},
   "outputs": [
    {
     "data": {
      "image/png": "[encoded data removed]",
      "text/plain": [
       "<Figure size 432x288 with 1 Axes>"
      ]
     },
     "metadata": {
      "needs_background": "light"
     },
     "output_type": "display_data"
    }
   ],
   "source": [
    "# Generate v_values from the fit\n",
    "v_fit_b = objective_b(r, r_0, rho_0)\n",
    "v_fit = objective(r, r_s, rho_s)\n",
    "\n",
    "plt.errorbar(r, v, yerr=dv, fmt='.',label = \"Data\")\n",
    "plt.plot(r, v_fit_b, \"r\", label=\"Fit Burkert\",linestyle = '--')\n",
    "plt.plot(r, v_fit, \"g\", label=\"Fit NFW\",linestyle = '--')\n",
    "\n",
    "plt.xlabel('radius (kpc)')\n",
    "plt.ylabel('circ velocity (km/s)')\n",
    "plt.legend(loc=\"upper left\")\n",
    "plt.show()"
   ]
  },
  {
   "cell_type": "markdown",
   "metadata": {},
   "source": [
    "### But, how good is the fitting function? \n",
    "\n",
    "We can determine the goodness of a fit function by means of a chi_square analysis. That is, given the measured data $ y_i \\pm \\sigma_{y_i}$, for some $x_i$ range,  and a fit function $f(x_i)$,   the $\\chi ^2 $ function is defined by $$ \\chi_n^2 = \\sum_{i=1}^n \\left(\\frac{y_i-f(x_i)}{\\sigma_{y_i}}\\right)^2$$\n",
    "\n",
    "\n",
    "$ \\chi_n^2 $ typical values are\n",
    "$$ \\chi_n^2 \\approx  \\rm{dof},$$ where dof is the number of degrees of freedom\n",
    "$$\\rm dof = n - n_{parameters}$$\n",
    "\n",
    "Then $ \\chi_n^2  \\gg n$ gives a bad fit. \n",
    "\n",
    "$ \\chi_n^2  \\ll n$ wrong uncertanties in the data\n",
    "\n"
   ]
  },
  {
   "cell_type": "code",
   "execution_count": null,
   "metadata": {},
   "outputs": [],
   "source": [
    "def chi_s(y,y_fit,dy):\n",
    "    \"\"\"chi_square function\"\"\"\n",
    "    return sum(((y-y_fit)/dy)**2)\n",
    "    "
   ]
  },
  {
   "cell_type": "code",
   "execution_count": null,
   "metadata": {},
   "outputs": [],
   "source": [
    "chi_s0 =  chi_s(v,v_fit,dv) \n",
    "print(chi_s0)"
   ]
  },
  {
   "cell_type": "markdown",
   "metadata": {},
   "source": [
    "#### Then we can compare the value of $\\chi^2$  to the number of degrees of freedom"
   ]
  },
  {
   "cell_type": "code",
   "execution_count": null,
   "metadata": {},
   "outputs": [],
   "source": [
    "def dof(y,par):\n",
    "    \n",
    "    return len(y)-len(par)"
   ]
  },
  {
   "cell_type": "code",
   "execution_count": null,
   "metadata": {},
   "outputs": [],
   "source": [
    "dof0 = dof(v,par)"
   ]
  },
  {
   "cell_type": "code",
   "execution_count": null,
   "metadata": {},
   "outputs": [],
   "source": [
    "chi_s0 / dof0"
   ]
  },
  {
   "cell_type": "code",
   "execution_count": null,
   "metadata": {},
   "outputs": [],
   "source": [
    "#The ratio should be close to 1"
   ]
  },
  {
   "cell_type": "markdown",
   "metadata": {},
   "source": [
    "#### We can quantify the difference further by checking the goodness of the fit.  i.e. the  probability that the fit function is the correct function to describe the data \n",
    "\n",
    "For this use the normalized incomplete <a href = \"https://en.wikipedia.org/wiki/Incomplete_gamma_function\"> gamma </a> function distributions, which are included as special functions in scipy library\n",
    "\n",
    "$$ P(a, x) = \\frac{1}{\\Gamma(a)} \\int_0^x t^{a - 1}e^{-t} dt$$"
   ]
  },
  {
   "cell_type": "code",
   "execution_count": null,
   "metadata": {},
   "outputs": [],
   "source": [
    "import scipy.special as sf"
   ]
  },
  {
   "cell_type": "code",
   "execution_count": null,
   "metadata": {},
   "outputs": [],
   "source": [
    "sf.gammainc(dof0/2,chi_s0/2)"
   ]
  },
  {
   "cell_type": "markdown",
   "metadata": {},
   "source": [
    "### A good fit, but not the best! What went wrong?   <font color='red'>HOMEWORK</font>"
   ]
  },
  {
   "cell_type": "markdown",
   "metadata": {},
   "source": [
    "For not linear functions, it is then usefull to deffine an initual guess for the parameters when doing de fit using <code> curve_fit </code>. The default value for the initial guess is $p0= [1.,]$. \n",
    "\n",
    "The <code> curve_fit </code> function indeed computes the fit for which the $\\chi^2$ function is minimized. However, this function can have different local minima, we want to look for the Global minimum. "
   ]
  },
  {
   "cell_type": "code",
   "execution_count": null,
   "metadata": {},
   "outputs": [],
   "source": [
    "curve_fit?"
   ]
  },
  {
   "cell_type": "code",
   "execution_count": null,
   "metadata": {},
   "outputs": [],
   "source": [
    "sys_error = 0.05*df_rot_curve[ 'circ velocity error (km/s)'].iloc[-1] \n",
    "df_rot_curve['total error'] = np.sqrt( df_rot_curve[ 'circ velocity error (km/s)']**2 + sys_error**2 )"
   ]
  },
  {
   "cell_type": "markdown",
   "metadata": {},
   "source": [
    "Let's try to do the fit with an initial guess"
   ]
  },
  {
   "cell_type": "code",
   "execution_count": null,
   "metadata": {},
   "outputs": [],
   "source": [
    "# curve fit2\n",
    "p0_guess = np.array([100, 5e4])\n",
    "par_1, c_matrix_1 = curve_fit(objective, r, v, sigma = dv,p0=p0_guess)\n",
    "\n",
    "# summarize the parameter values\n",
    "r_s_1, rho_s_1 = par_1\n",
    "print(r_s_1, rho_s_1)"
   ]
  },
  {
   "cell_type": "code",
   "execution_count": null,
   "metadata": {},
   "outputs": [],
   "source": [
    "v_fit1 = objective(r,*par_1)"
   ]
  },
  {
   "cell_type": "code",
   "execution_count": null,
   "metadata": {},
   "outputs": [],
   "source": [
    "chi_s1 =  chi_s(v,v_fit1,dv) \n",
    "dof1 = dof(v,par_1)\n",
    "print(chi_s1)"
   ]
  },
  {
   "cell_type": "markdown",
   "metadata": {},
   "source": [
    "We can again look  the chi_square function, and compare it to the number of degrees of freefom."
   ]
  },
  {
   "cell_type": "code",
   "execution_count": null,
   "metadata": {},
   "outputs": [],
   "source": [
    "chi_s0 / dof0"
   ]
  },
  {
   "cell_type": "markdown",
   "metadata": {},
   "source": [
    "compared to the case without initial guess"
   ]
  },
  {
   "cell_type": "code",
   "execution_count": null,
   "metadata": {},
   "outputs": [],
   "source": [
    "chi_s1 / dof1"
   ]
  },
  {
   "cell_type": "markdown",
   "metadata": {},
   "source": [
    "The ratio is closser to 1, but still need more precision "
   ]
  },
  {
   "cell_type": "markdown",
   "metadata": {},
   "source": [
    "We can also look at the goodness of the fit"
   ]
  },
  {
   "cell_type": "code",
   "execution_count": null,
   "metadata": {},
   "outputs": [],
   "source": [
    "sf.gammainc(dof0/2,chi_s0/2)"
   ]
  },
  {
   "cell_type": "markdown",
   "metadata": {},
   "source": [
    "compare to the case without initial guess"
   ]
  },
  {
   "cell_type": "code",
   "execution_count": null,
   "metadata": {},
   "outputs": [],
   "source": [
    "sf.gammainc(dof1/2,chi_s1/2)"
   ]
  },
  {
   "cell_type": "markdown",
   "metadata": {},
   "source": [
    "still not too much difference"
   ]
  },
  {
   "cell_type": "markdown",
   "metadata": {},
   "source": [
    "We can plot the results on top of each other, to se if something has changed"
   ]
  },
  {
   "cell_type": "code",
   "execution_count": null,
   "metadata": {},
   "outputs": [],
   "source": [
    "\n",
    "plt.errorbar(r, v, yerr=dv, fmt='.',label = \"Data\")\n",
    "plt.plot(r, v_fit, \"r\", label=\"Fit\",linestyle = '-')\n",
    "plt.plot(r, v_fit1, \"b\", label=\"Fit_1\",linestyle = '--')\n",
    "\n",
    "plt.xlabel('radius (kpc)')\n",
    "plt.ylabel('circ velocity (km/s)')\n",
    "plt.legend(loc=\"upper left\")\n",
    "plt.show()"
   ]
  },
  {
   "cell_type": "markdown",
   "metadata": {},
   "source": [
    "#### Still not the best fit. What could have gone wrong?"
   ]
  },
  {
   "cell_type": "markdown",
   "metadata": {},
   "source": [
    "# Excercise   <font color='green'>COVER</font>\n",
    "The folder <code> Rotation curves </code>, contains different data sets for the rotation curve for several Dwarf galaxies. See <a href='https://github.com/EXPLORE-for-students/python-tutorials/blob/main/Rotation%20curves/readme.pdf'> readme </a> for a description of the files.\n",
    "\n",
    "In this excercise we will fit a rotation curve function for every single galaxy in the folder, and compare the resulting functions. \n",
    "\n",
    "Let us divide the excercise into different steps:\n",
    "\n",
    "#### 1) Fit a  Burkert  velocity curve for the Galaxy  IC 2574 \n",
    "So far  in this tutorial we have  worked only  with the Galaxy  IC 2574. We fitted a NFW rotation curve and found  that the fit we obtained is not the best. We want to start investigating on how to get better fit functions. One possibility is to use a different velocity function to fit the data. In this part of the excercise you are asked to fit a Burkert  velocity curve to the Galaxy  IC 2574 rotation data.\n",
    "\n",
    "- Before doing the fit, as explained in the <a href='https://github.com/EXPLORE-for-students/python-tutorials/blob/main/Rotation%20curves/readme.pdf'> readme </a> file, we want to include a systematic error in the game. Add a new column to the data frame called, \"total_error\", which is the sum in quadrature of the systematic error, and the incertanties in the measured velocities.\n",
    "- Use the total_error as the uncertanties in v, to do the fit.  \n",
    "- Once the fit is done as explained in the turorial, you are required to compute the goodness of the fit, and compare it to the goodness of the fit for the NFW fit.  \n",
    "\n",
    "#### 2) Fit rotation curves for the remaining galaxies\n",
    "\n",
    "Ignoring the contribution of  the baryon  to the rotation curve data (as we did for  Galaxy  IC 2574), fit a NFW and a Burkert  velocity curve for the remaning galaxies in the folder <code> Rotation curves </code>. Compute the goodness of every fit, and compare them. For which Galaxies is better a NFW fit and for which a Burkert fit? Are these fits good enought to describe the measure data? If not, can you think of what are we  missing?\n",
    "\n",
    "##### 3) Remove baryon contributions to the rotation curve\n",
    "\n",
    "As an extra challenge, as described in <a href='https://github.com/EXPLORE-for-students/python-tutorials/blob/main/Rotation%20curves/readme.pdf'> readme </a>, remove the baryon contribution to the observed circular velocity data. Then, fit a NFW and a   Burkert  velocity curve for each  galaxy. Compare the goodness of the  NFW and Burkert among themselves, and also to the goodness of the fits, when the fit was done without removing the baryon contribution.\n",
    "For which Galaxies is better a NFW fit and for which a Burkert fit? Are these fits good enought to describe the measure data? If not, can you think of what are we  missing?\n",
    "\n",
    " Warning: Notice that the values or r points in the baryon data set are not the same as the r values in the observed circular velocity. Hint: Perhaps you might find usefull   <a href=' https://docs.scipy.org/doc/scipy/reference/generated/scipy.interpolate.interp1d.html'>  interpolating functions </a>. \n",
    " \n"
   ]
  },
  {
   "cell_type": "code",
   "execution_count": null,
   "metadata": {},
   "outputs": [],
   "source": []
  }
 ],
 "metadata": {
  "kernelspec": {
   "display_name": "Python 3",
   "language": "python",
   "name": "python3"
  },
  "language_info": {
   "codemirror_mode": {
    "name": "ipython",
    "version": 3
   },
   "file_extension": ".py",
   "mimetype": "text/x-python",
   "name": "python",
   "nbconvert_exporter": "python",
   "pygments_lexer": "ipython3",
   "version": "3.7.6"
  }
 },
 "nbformat": 4,
 "nbformat_minor": 4
}
