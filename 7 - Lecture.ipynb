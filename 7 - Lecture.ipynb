{
 "cells": [
  {
   "cell_type": "markdown",
   "metadata": {},
   "source": [
    "# Lecture 7\n",
    "\n",
    "**Authors:**\n",
    "* Yilber Fabian Bautista \n",
    "\n",
    "**Last date of modification:**\n",
    " January 9th 2022\n",
    "\n",
    "Hello there,\n",
    "\n",
    "welcome to Lecture 7 of this mini-lecture series on programing with Python. In this series, you will learn basic and intermediate python tools that will be of great use in your scientific carer.\n",
    "\n",
    "By the end of this lecture you will be able to:\n",
    "* Perform  1-Dimensional **interpolating** functions using **interp1d** and **InterpolatedUnivariateSpline** inside the **scipy** library\n",
    "* Use the different interpolation **kinds** available for the **interp1d** method\n",
    "* Change the **polynomial degree** of an **InterpolatedUnivariateSpline** function. \n",
    "* Use the numeric **differentiation** and **integration** methods available from **InterpolatedUnivariateSpline** \n",
    "* Perform 2-Dimensional **interpolations** using  **RectBivariateSpline** function from  the **scipy** library\n",
    "* Practice your **classes** and **pandas** skills"
   ]
  },
  {
   "cell_type": "markdown",
   "metadata": {},
   "source": [
    "# Interpolations\n",
    "\n",
    "In Lectures 3 we have briefly introduced  **interpolations** as an optional section to access information in a given set of data where no data is available. In this tutorial we will expand on  this. We will cover **1-Dimensional** and **2-Dimensional** interpolations. \n",
    " \n",
    "##  1-Dimensional Interpolations\n",
    "\n",
    "Given a set of data points $(x_i,f_i)$, with $x_{min} \\le x_i\\le x_{max}$, an **interpolation function** $ f(x)$ is a curve that passes through all of the data points available in the data set. Once such a curve is found,  it can be evaluated  at different locations $f(x')$, with $x_{min} \\le x'\\le x_{max}$.\n",
    "\n",
    "In this tutorial we will cover two functions in  the `scipy` library to do **1-Dimensional interpolations**; they are the `interp1d` and `InterpolatedUnivariateSpline` functions. \n",
    "\n",
    "\n",
    "## `interp1d` \n",
    "See the documentation [here](https://docs.scipy.org/doc/scipy/reference/generated/scipy.interpolate.interp1d.html).  The basics syntax for using  `interp1d`  is the following: Given a set of `x` and `y` points, and interpolating function  is created by simply typing\n",
    "\n",
    "```py\n",
    "interp = interp1d(x, y)\n",
    "```\n",
    "Let us see an explicit example of an interpolation for a  1-Dimensional gaussian function"
   ]
  },
  {
   "cell_type": "code",
   "execution_count": 1,
   "metadata": {},
   "outputs": [
    {
     "data": {
      "image/png": "[encoded data removed]",
      "text/plain": [
       "<Figure size 432x288 with 1 Axes>"
      ]
     },
     "metadata": {
      "needs_background": "light"
     },
     "output_type": "display_data"
    }
   ],
   "source": [
    "import numpy as np # For maths\n",
    "from scipy.interpolate import interp1d # For 1-D interpolations\n",
    "import matplotlib.pyplot as plt # For ploting\n",
    "\n",
    "# Data points\n",
    "x = np.linspace(0,10,15)\n",
    "y = np.exp(-x**2/2)\n",
    "\n",
    "# Perform the interpolation\n",
    "f = interp1d(x,y)\n",
    "\n",
    "# Finner x data set \n",
    "xp = np.linspace(0,10,30)\n",
    "\n",
    "# Evaluate the interpolation \n",
    "fp = f(xp)\n",
    "\n",
    "# Plot\n",
    "plt.plot(x,y,'o',label = \"data\")\n",
    "plt.plot(xp,fp,'r--',label = \"interp\")\n",
    "plt.legend(loc = \"upper right\")\n",
    "plt.show()"
   ]
  },
  {
   "cell_type": "markdown",
   "metadata": {},
   "source": [
    "As mentioned above,  the **interpolation** function passes through all of the available data points originally given. However, interpolating functions created from `interp1d` only provide information inside the interval the original `x`-data set is defined in. If we wanted to evaluate  the resulting function `f`, created from `interp1d`, outside the `x`-data interval (in our example, outside  the interval $[0,10]$), we will get an error message. For instance if running \n",
    "\n",
    "```py\n",
    "f(11)\n",
    "```\n",
    "the output will be\n",
    "\n",
    "```py\n",
    "ValueError: A value in x_new is above the interpolation range.\n",
    "```\n",
    "which indicates we are trying to evaluate the interpolation outside the scope it was create from. \n",
    "Inferring information about the function outside the `x`-interval is known as an **extrapolation**. We will comment on this bellow. "
   ]
  },
  {
   "cell_type": "code",
   "execution_count": 2,
   "metadata": {},
   "outputs": [],
   "source": [
    "# try it yourself"
   ]
  },
  {
   "cell_type": "markdown",
   "metadata": {},
   "source": [
    "### `interp1d` kinds\n",
    "\n",
    "`interp1d` has different ways (`kind`) of doing the **interpolation**. The default  value is `kind = linear`, where polynomials of degree 1 are used to approximate the curve inside *every* two-points interval where no data is available. That is, inside the intervals $[x_0,x_1], [x_1,x_2],\\cdots , [x_{n-1},x_n]$. \n",
    "\n",
    "**Linear polynomials**\n",
    "\n",
    "Linear polynomials used in  `interp1d` with `type = linear`, to approximate the function inside *every* interval $[x_0,x_y]$,  are  constructed from the equation for a straight line (see also [here](https://en.wikipedia.org/wiki/Linear_interpolation)):\n",
    "\n",
    "$${\\displaystyle p_1(x)=f(x_{0})+{\\frac {f(x_{1})-f(x_{0})}{x_{1}-x_{0}}}(x-x_{0}).}$$\n",
    "\n",
    "where $f(x_{0}) $ and $f(x_{1})$ are the two-true values for the function, evaluated at the extremal points of the  interval.  Note that there will be a different equation for each interval in the data set, depending on the values  $[x_0,x_y]$. \n",
    "\n",
    "**Quadratic polynomials**\n",
    "\n",
    "The quadratic polynomials used in `interp1d` for `type = quadratic` are constructed  from three-points intervals $[x_0,x_1,x_2]$, where the functions has the true values $f(x_0),f(x_1)$ and $f(x_2)$. These polynomials are given by the quadratic equation\n",
    "\n",
    "$$\n",
    "p_{2}(x)=f(x_{0})\\frac{(x-x_{1})(x-x_{2})}{(x_{0}-x_{1})(x_{0}-x_{2})}+f(x_{1})\\frac{(x-x_{0})(x-x_{2})}{(x_{1}-x_{0})(x_{1}-x_{2})}+f(x_{2})\\frac{(x-x_{0})(x-x_{1})}{(x_{2}-x_{0})(x_{2}-x_{1})},\n",
    "$$\n",
    "\n",
    "and similar to the `linear` interpolation, the polynomial will be different for each three-points interval of the given data points.  \n",
    "\n",
    "Run the command \n",
    "\n",
    "```py\n",
    "interp1d?\n",
    "```\n",
    "to see the different `kind` available to use.\n",
    "\n",
    "\n",
    "# Exercise 1\n",
    "\n",
    "Run the following `lines` to do a comparison of the different interpolations `kind ` available in the `interp1d` method. \n",
    "\n",
    "```py\n",
    "from scipy.interpolate import interp1d # For 1-D interpolations\n",
    "import matplotlib.pyplot as plt # For ploting\n",
    "\n",
    "#%matplotlib notebook #uncomment this line for plot manipulation in jupyter notebook\n",
    "\n",
    "#Data points\n",
    "x = np.linspace(0,10,11)\n",
    "y = np.sin(x) \n",
    "\n",
    "#finer  data to evaluate interpolation\n",
    "xp = np.linspace(0,10,100) \n",
    "\n",
    "#plot initial data points\n",
    "plt.plot(x,y,\"o\",label = \"data\")\n",
    "\n",
    "# Do the interpolation for all the different kinds \n",
    "kind = ['linear', 'nearest', 'zero', 'slinear', 'quadratic', 'cubic']\n",
    "\n",
    "\n",
    "for k in kind:\n",
    "    # create the interpolation\n",
    "    f = interp1d(x,y,kind = k)\n",
    "    #evaluate the interpolation in the finer data points\n",
    "    yp = f(xp)\n",
    "    #plot interpolation\n",
    "    plt.plot(xp,yp,label = k)\n",
    "plt.legend(loc = 'lower right')  \n",
    "#plt.show()\n",
    "\n",
    "```\n",
    "What can you conclude from the different ways of doing the interpolations?"
   ]
  },
  {
   "cell_type": "code",
   "execution_count": 3,
   "metadata": {},
   "outputs": [],
   "source": [
    "# Try it yourself"
   ]
  },
  {
   "cell_type": "markdown",
   "metadata": {},
   "source": [
    "## `InterpolatedUnivariateSpline`\n",
    "Let us now see a different function inside the `scipy` library to create interpolation. A **spline interpolation** is a way of interpolating a set of data, where  the interpolant is a piecewise polynomial called a spline.  \n",
    "\n",
    "\n",
    "<img src=\"Figures/spline.png\" width=\"400\" height=\"300\">\n",
    "\n",
    "\n",
    "Figure taken from [here](https://en.wikipedia.org/wiki/Spline_(mathematics)). The vertexes of the **spline** are called **knots**.  Notice that the set of all the polynomials used in `interp1d` effectively form a spline.\n",
    "\n",
    "`InterpolatedUnivariateSpline` fits a spline y = spl(x) of degree $k$ with $k\\le5$, to the provided x, y data.  Here $k$ is the polynomial degree to approximate the curve.\n",
    "\n",
    "The syntax for interpolating a set of points using `InterpolatedUnivariateSpline` is very similar to the one for `interp1d`\n",
    "\n",
    "```py\n",
    "spl = InterpolatedUnivariateSpline(x, y, k = 3)\n",
    "```\n",
    "The default value for the polynomial degree used in `InterpolatedUnivariateSpline`  is $k=3$, i.e. cubic polynomials are used in the approximate the curve in regions where no data points are available. See the [InterpolatedUnivariateSpline documentation](https://docs.scipy.org/doc/scipy/reference/reference/generated/scipy.interpolate.InterpolatedUnivariateSpline.html)\n",
    "\n",
    "Let us provide  an specific example for our favorite 1-Dimensional gaussian function"
   ]
  },
  {
   "cell_type": "code",
   "execution_count": 4,
   "metadata": {},
   "outputs": [
    {
     "data": {
      "image/png": "[encoded data removed]",
      "text/plain": [
       "<Figure size 432x288 with 1 Axes>"
      ]
     },
     "metadata": {
      "needs_background": "light"
     },
     "output_type": "display_data"
    }
   ],
   "source": [
    "from scipy.interpolate import InterpolatedUnivariateSpline\n",
    "\n",
    "# Data points\n",
    "x = np.linspace(0,10,15)\n",
    "y = np.exp(-x**2/2)\n",
    "\n",
    "# Interpolation\n",
    "spl = InterpolatedUnivariateSpline(x,y)\n",
    "\n",
    "# Finer data points\n",
    "xp = np.linspace(0,10,30)\n",
    "splp = spl(xp)\n",
    "\n",
    "# Plotting\n",
    "plt.plot(x,y,'o',label = \"data\")\n",
    "plt.plot(xp,splp,'r--',label = \"interp\")\n",
    "plt.legend(loc = \"upper right\")\n",
    "plt.show()"
   ]
  },
  {
   "cell_type": "markdown",
   "metadata": {},
   "source": [
    "As we can see, the curve is smoother as compared to the `interp1d` for `kind= linear`. \n",
    "\n",
    "# Exercise 2\n",
    "\n",
    "Compare the result from the `InterpolatedUnivariateSpline` from the previous example  with the corresponding `interp1d` result for  interpolation kind, `kind='cubic'`, by computing the error \n",
    "$$\n",
    "Error = ||f(x_p)- f_{\\text{true}}(x_p)||\n",
    "$$\n",
    "where $f_{\\text{true}}(x_p)$ is the true value of the function at the data points $x=x_p$ (recall the true function is $e^{-x^2/2}$). Hint: Use `linalg.norm` function from `numpy` library to compute the norm of the vector $f(x_p)- f_{\\text{true}}(x_p)$. \n",
    "\n",
    "What do you conclude  from the comparison?"
   ]
  },
  {
   "cell_type": "code",
   "execution_count": 5,
   "metadata": {},
   "outputs": [],
   "source": [
    "# write your solution here"
   ]
  },
  {
   "cell_type": "markdown",
   "metadata": {},
   "source": [
    "### Why using InterpolatedUnivariateSpline?\n",
    "\n",
    "#### Additional methods available\n",
    "Unlike for `interp1d`, **interpolating** functions created from `InterpolatedUnivariateSpline` have additional methods that can be applied to the resulting functions. Among these methods we have numeric **differentiation** and **integration**.\n",
    "\n",
    "Let us for instance compute the first `antiderivative` of our Spline for the previous example"
   ]
  },
  {
   "cell_type": "code",
   "execution_count": 6,
   "metadata": {},
   "outputs": [
    {
     "data": {
      "image/png": "[encoded data removed]",
      "text/plain": [
       "<Figure size 432x288 with 1 Axes>"
      ]
     },
     "metadata": {
      "needs_background": "light"
     },
     "output_type": "display_data"
    }
   ],
   "source": [
    "#compute the antiderivative\n",
    "integral_spl = spl.antiderivative(1)\n",
    "\n",
    "#evaluate the function in the fine grid defined above\n",
    "int_splp = integral_spl(xp)\n",
    "\n",
    "#Plot the interpolation and its first antiderivative\n",
    "plt.plot(x,y,'o',label = \"data\")\n",
    "plt.plot(xp,splp,'r--',label = \"interp\")\n",
    "plt.plot(xp,int_splp,label = \"antiderivative\")\n",
    "\n",
    "plt.legend(loc = \"upper right\")\n",
    "plt.show()"
   ]
  },
  {
   "cell_type": "markdown",
   "metadata": {},
   "source": [
    "# Exercise 3\n",
    "\n",
    "- Do the analog plot for the first and second **derivatives** of the spline of our example. Hint: The derivative method has the analog syntax `.derivative(n)`.\n",
    "- Compute the integral  of the spline in the interval `[1,4]`. Hint: See `.integral()` method in the [documentation](https://docs.scipy.org/doc/scipy/reference/reference/generated/scipy.interpolate.InterpolatedUnivariateSpline.html)\n",
    " \n",
    "- Explore the additional methods applied to the interpolating function resulting from using `InterpolatedUnivariateSpline`, mentioned in the  [documentation](https://docs.scipy.org/doc/scipy/reference/reference/generated/scipy.interpolate.InterpolatedUnivariateSpline.html)"
   ]
  },
  {
   "cell_type": "code",
   "execution_count": 7,
   "metadata": {},
   "outputs": [],
   "source": [
    "# Write your solution here"
   ]
  },
  {
   "cell_type": "markdown",
   "metadata": {},
   "source": [
    "#### Extrapolation\n",
    "\n",
    "`InterpolatedUnivariateSpline` offers the possibility of extrapolate the resulting function to points outside the interval for which there is data. This is done through the keyword argument `ext`. \n",
    "\n",
    "`ext=0` is the default value in   `InterpolatedUnivariateSpline`. It fits the function for values outside the data interval. If `ext=1` or `‘zeros’`,  the returned value for the function outside the data interval will be  `0. \n",
    "\n",
    "Let us see an specific example for a polynomial function"
   ]
  },
  {
   "cell_type": "code",
   "execution_count": 8,
   "metadata": {},
   "outputs": [],
   "source": [
    "x2 = np.linspace(0,10,15)\n",
    "y2 = -x2 **2/2+3*x2 -5\n",
    "\n",
    "spl2 = InterpolatedUnivariateSpline(x2,y2)\n",
    "spl3 = InterpolatedUnivariateSpline(x2,y2,ext=1)\n",
    "\n",
    "#finner grid outside the data interval\n",
    "x3 = np.linspace(-5,40,50)\n",
    "#true values finner grid\n",
    "y3 = -x3 **2/2+3*x3 -5"
   ]
  },
  {
   "cell_type": "markdown",
   "metadata": {},
   "source": [
    "We can check that outside the original x-interval, `spl3` is set to zero, whereas `spl2` evaluates to non zero values.   "
   ]
  },
  {
   "cell_type": "code",
   "execution_count": 9,
   "metadata": {},
   "outputs": [],
   "source": [
    "#try it yourself"
   ]
  },
  {
   "cell_type": "markdown",
   "metadata": {},
   "source": [
    "We can also compare to the true value solution by computing the error function."
   ]
  },
  {
   "cell_type": "code",
   "execution_count": 11,
   "metadata": {
    "scrolled": false
   },
   "outputs": [
    {
     "name": "stdout",
     "output_type": "stream",
     "text": [
      "1.1909122045998598e-09\n",
      "2006.1017555327646\n"
     ]
    }
   ],
   "source": [
    "# Compararison to the true values\n",
    "print(np.linalg.norm(y3 - spl2(x3)))\n",
    "print(np.linalg.norm(y3 - spl3(x3)))"
   ]
  },
  {
   "cell_type": "markdown",
   "metadata": {},
   "source": [
    "That is, the extrapolated function provides a good fit for the keyword value   `ext=0`, whereas for  `ext=1` the fit is very different to the true value function, since it was fixed to `zero` outside the interpolation x-interval.\n",
    "\n",
    "Fits for extrapolations obtained from `InterpolatedUnivariateSpline`, are accurate for simple functions like polynomial functions in our previous example. For more complicated functions, the extrapolation will not be as accurate. \n",
    "\n",
    "# Exercise 4\n",
    "\n",
    "Convince yourself that  given the interpolating function in our one dimensional gaussian function `spl` defined above, the extrapolation to greater or smaller values of $x$, for $x$ outside the data interval $[0,10]$ does not agree with the true solution $e^{-x^2/2}$. Hint: Compute the error function"
   ]
  },
  {
   "cell_type": "code",
   "execution_count": null,
   "metadata": {},
   "outputs": [],
   "source": [
    "# Write your solution here"
   ]
  },
  {
   "cell_type": "markdown",
   "metadata": {},
   "source": [
    "## 2-Dimensional interpolations\n",
    "\n",
    "We will use [RectBivariateSpline](https://docs.scipy.org/doc/scipy/reference/generated/scipy.interpolate.RectBivariateSpline.html#scipy.interpolate.RectBivariateSpline). Analog to the 1-Dimensional case, 2-dimensional interpolations can be made using the `RectBivariateSpline` method in the `scipy` library. `RectBivariateSpline`  describes a spline s(x, y) of degrees $k_x$ and $k_y$  on the rectangle $[x_b, x_e] \\times[y_b, y_e]$ calculated from a given set of data points (x, y, z). Likewise for the 1-Dimensional case, the default values for the polynomial degrees is $k_x=k_y=3$.\n",
    "\n",
    "Let us see an specific implementation for the interpolation of a 2-dimensional gaussian function"
   ]
  },
  {
   "cell_type": "code",
   "execution_count": null,
   "metadata": {},
   "outputs": [],
   "source": [
    "import numpy as np\n",
    "from scipy.interpolate import RectBivariateSpline\n",
    "import matplotlib.pyplot as plt\n",
    "from mpl_toolkits.mplot3d import Axes3D\n",
    "\n",
    "\n",
    "# Coarse grid\n",
    "dx, dy = 0.4, 0.4\n",
    "xmax, ymax = 2, 4\n",
    "x = np.arange(-xmax, xmax, dx)\n",
    "y = np.arange(-ymax, ymax, dy)\n",
    "X, Y = np.meshgrid(x, y)\n",
    "Z = np.exp(-(X)**2 - (Y)**2)\n",
    "\n",
    "# Do the interpolation\n",
    "interp_spline = RectBivariateSpline(y, x, Z)\n",
    "\n",
    "# Fine grid\n",
    "dxp, dyp = 0.16, 0.16\n",
    "xp = np.arange(-xmax, xmax, dxp)\n",
    "yp = np.arange(-ymax, ymax, dyp)\n",
    "Xp, Yp = np.meshgrid(xp,yp)\n",
    "Zp = interp_spline(yp, xp)\n",
    "\n",
    "#Plot the results\n",
    "fig, ax = plt.subplots(nrows=1, ncols=2, subplot_kw={'projection': '3d'})\n",
    "ax[0].plot_wireframe(X, Y, Z,label = 'data')\n",
    "\n",
    "ax[1].plot_wireframe(Xp, Yp, Zp, color='g', label = 'interpolation')\n",
    "for axes in ax:\n",
    "    axes.set_zlim(-0.2,1)\n",
    "\n",
    "fig.tight_layout()\n",
    "fig.legend()\n",
    "plt.show()"
   ]
  },
  {
   "cell_type": "markdown",
   "metadata": {},
   "source": [
    "# Exercise 5\n",
    "Compute the integral of `interp_spline` defined in the 2-Dimensional example, in the rectangle $[1,2]\\times[0,2]$ using the `integral()` method available for **RectBivariateSpline**. Hint: See the [documentation](https://docs.scipy.org/doc/scipy/reference/generated/scipy.interpolate.RectBivariateSpline.html#scipy.interpolate.RectBivariateSpline)"
   ]
  },
  {
   "cell_type": "markdown",
   "metadata": {},
   "source": [
    "# Exercise 6 \n",
    "\n",
    "In this exercise we will resume Exercise 3 in Tutorials 5 and 6. We will now have into account the effects of baryons in the galaxies rotation curves. Recall the rotation curves information is given [here](https://github.com/EXPLORE-for-students/python-tutorials/blob/main/Rotation%20curves/readme.pdf). \n",
    "\n",
    "Hopefully after finishing  Exercise 3 in Tutorial 6, your `rotation_curve` class looks similar to the following:\n",
    "\n",
    "```py\n",
    "import pandas as pd\n",
    "import numpy as np\n",
    "import matplotlib.pyplot as plt\n",
    "\n",
    "class rotation_curve:\n",
    "    def __init__(self, Galaxy_ID):\n",
    "        self.Galaxy_ID = Galaxy_ID\n",
    "        \n",
    "        folder_path = 'Rotation curves/'\n",
    "        self.Galaxy_circular = folder_path+ 'RotationCurve_'+ self.Galaxy_ID + '.csv'\n",
    "        # create DataFrame\n",
    "        self.df_circular = pd.read_csv(self.Galaxy_circular)\n",
    "     \n",
    "    def update_df_circular(self,key,data):\n",
    "        self.df_circular[key] = data\n",
    "   \n",
    "    def add_M_DM(self):\n",
    "        v_c = self.df_circular['circ velocity (km/s)']**2\n",
    "        r_c = self.df_circular[\"radius (kpc)\"]\n",
    "        # Newton's constant\n",
    "        GN = 4.302e-6 # km^2/s^2*kpc/Msol\n",
    "        #Add DM mass column\n",
    "        M_DM =  r_c * v_c/GN\n",
    "        self.update_df_circular('DM Mass (M_sol)',M_DM)\n",
    "\n",
    "```\n",
    "In this exercise will modify this class to include baryon effects. Let us as usual split the exercise in several steps:\n",
    "\n",
    "1. Remove the `add_M_DM` class function since this does not have baryon effects into account (or rather comment it out, it could be useful in step 4 below). \n",
    "2. In the `__init__` method, define the additional  instance variable  `df_baryon`, which creates the baryon  **DataFrame** for the given `Galaxy_ID`.  Create a test instance of `rotation_curve`, for a given galaxy ID. Check that when running the following lines\n",
    "```py\n",
    "test = rotation_curve('IC2574')\n",
    "test.df_circular.head()\n",
    "test.df_baryon.head()\n",
    "```\n",
    "you get as output \n",
    "\n",
    "![](./Figures/circ_velocity.png \"Circular velocity\")\n",
    "\n",
    "\n",
    "![](./Figures/cir_vel_baryon.png \"Baryonic circular velocity\")\n",
    "\n",
    "3. Define the class method `add_baryon`. This will add  two columns, `stars circ velocity square (km/s)` and `gas circ velocity square (km/s)`, to to  `df_circular`,  from the square of the respective columns in `df_baryon`. There is however several subtleties we have to take into account when doing this:\n",
    "\n",
    "- Some values of `gas circ velocity (km/s)` and `stars circ velocity square (km/s)` in `df_baryon` are negative. As indicated  [here](https://github.com/EXPLORE-for-students/python-tutorials/blob/main/Rotation%20curves/readme.pdf), the negative sign means that the square of the corresponding velocity is to be chosen negative (the negative sign is just the direction of the gravitational force at a given position). Then, in reality the columns to be added have to have the form: \n",
    "$$\n",
    "v_{gas}^2\\times \\text{sign}(v_{gas})\\\\\n",
    "v_{stars}^2\\times \\text{sign}(v_{stars})\\\\\n",
    "$$\n",
    "\n",
    "- The radial data points used in the two  **DataFrames** are different and therefore we want to have the values of  `stars circ velocity square (km/s)` and `gas circ velocity square (km/s)`  evaluated at the same radial positions as `circ velocity` in `df_circular`. For that we need to create interpolating functions for $v_{gas}^2\\times \\text{sign}(v_{gas})$ and $v_{stars}^2\\times \\text{sign}(v_{stars})$ as function of radial positions in `df_baryon`. Use `InterpolatedUnivariateSpline` to create such interpolating functions (hint: The `np.sign()` function could be useful).  After we  we have our two interpolating functions, we can evaluate them at the radial points given in `df_circular`, and further add the two new columns to `df_circular` containing the square of the  stars and gas circular velocities evaluated these positions.  Check that when running the following lines \n",
    "\n",
    "```py\n",
    "test = rotation_curve('IC2574')\n",
    "test.add_baryon()\n",
    "test.df_circular.head()\n",
    "``` \n",
    "you get as output \n",
    "\n",
    "![](./Figures/baryon_square.png)\n",
    "\n",
    "\n",
    "4. Define the class method `add_DM_M`, which will add the  column DM mass `DM Mass (M_sol)` to   the **DataFrame** `df_circular`. Recall the square of the DM velocity is  given by  $$v^2_{DM}(r) = \\sqrt{v_c^2(r)-\\Upsilon^*v_{star}^2(r)-v_{gas}^2(r)} \\, ,$$\n",
    "whereas the DM mass distribution is \n",
    "$$M_{DM}(r) = r v^2_{DM}(r)/G_N \\, .$$\n",
    "\n",
    "Use $\\Upsilon^* = 0.6$. Check that when running the lines \n",
    "\n",
    "```py\n",
    "test = rotation_curve('UGC4325')\n",
    "test.add_baryon()\n",
    "test.add_DM_M()\n",
    "test.df_circular.head()\n",
    "``` \n",
    "you get as output \n",
    "\n",
    "![](./Figures/final_frame.png)\n",
    "\n",
    " \n",
    "5. Use your plotting function defined by the end of exercise 3 Tutorial 6 to plot the DM mass distribution as a function of radial distance for all galaxies data in the `Rotation Curve` directory. This plot now has now removed the baryon contribution to the DM mass distribution curve. "
   ]
  },
  {
   "cell_type": "code",
   "execution_count": null,
   "metadata": {},
   "outputs": [],
   "source": []
  }
 ],
 "metadata": {
  "kernelspec": {
   "display_name": "Python 3",
   "language": "python",
   "name": "python3"
  },
  "language_info": {
   "codemirror_mode": {
    "name": "ipython",
    "version": 3
   },
   "file_extension": ".py",
   "mimetype": "text/x-python",
   "name": "python",
   "nbconvert_exporter": "python",
   "pygments_lexer": "ipython3",
   "version": "3.7.6"
  }
 },
 "nbformat": 4,
 "nbformat_minor": 4
}
