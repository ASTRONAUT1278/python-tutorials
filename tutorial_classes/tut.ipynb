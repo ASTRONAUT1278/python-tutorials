{
 "cells": [
  {
   "cell_type": "markdown",
   "id": "8c7b0aba",
   "metadata": {},
   "source": [
    "# An Introduction to classes"
   ]
  },
  {
   "cell_type": "markdown",
   "id": "67c14414",
   "metadata": {},
   "source": [
    "### What is a class?\n",
    "A class is a 'blueprint' for creating objects, that binds together data (variables) and manipulation of such data (via *methods*)"
   ]
  },
  {
   "cell_type": "markdown",
   "id": "0c623b97",
   "metadata": {},
   "source": [
    "### Class Definition"
   ]
  },
  {
   "cell_type": "code",
   "execution_count": 57,
   "id": "2a491721",
   "metadata": {},
   "outputs": [],
   "source": [
    "class MyClass:\n",
    "    classVariable = \"This is a class variable\"\n",
    "    \n",
    "    def classMethod(self):\n",
    "        return \"Hello Class World\"\n",
    "    "
   ]
  },
  {
   "cell_type": "markdown",
   "id": "44d299c4",
   "metadata": {},
   "source": [
    "A class can have variables and methods (functions) associated to them. These are collectively called *attributes* of the class.\n",
    "\n",
    "The syntax is easy: Everything in the indented block belongs to the class.\n",
    "\n",
    "The class definition must be executed before it can be used. (In principle this enables definitions of classes inside conditional statements etc.)"
   ]
  },
  {
   "cell_type": "markdown",
   "id": "2908e3ed",
   "metadata": {},
   "source": [
    "### Class Instances\n",
    "You can create an instance of a class with the following function notation:"
   ]
  },
  {
   "cell_type": "code",
   "execution_count": 58,
   "id": "2b82b052",
   "metadata": {},
   "outputs": [],
   "source": [
    "classInstance = MyClass()"
   ]
  },
  {
   "cell_type": "markdown",
   "id": "c787f0e8",
   "metadata": {},
   "source": [
    "This object now has the methods and variables associated with that class:"
   ]
  },
  {
   "cell_type": "code",
   "execution_count": 60,
   "id": "41d32d59",
   "metadata": {},
   "outputs": [
    {
     "name": "stdout",
     "output_type": "stream",
     "text": [
      "Hello Class World\n",
      "This is a class variable\n"
     ]
    }
   ],
   "source": [
    "print(classInstance.classMethod())\n",
    "print(classInstance.classVariable)"
   ]
  },
  {
   "cell_type": "markdown",
   "id": "9778fe43",
   "metadata": {},
   "source": [
    "The *self* keyword refers to the instance of the class and is not needed in the parameter list when calling the function. The following two lines are equivalent:"
   ]
  },
  {
   "cell_type": "code",
   "execution_count": 62,
   "id": "bf5b904f",
   "metadata": {},
   "outputs": [
    {
     "name": "stdout",
     "output_type": "stream",
     "text": [
      "Hello Class World\n",
      "Hello Class World\n"
     ]
    }
   ],
   "source": [
    "print( classInstance.classMethod() )\n",
    "print( MyClass.classMethod(classInstance) )"
   ]
  },
  {
   "cell_type": "markdown",
   "id": "d7947b8a",
   "metadata": {},
   "source": [
    "Classes can access their own methods and variables using the *self* keyword. These attritbutes can also be accessed from the outside"
   ]
  },
  {
   "cell_type": "code",
   "execution_count": 64,
   "id": "859459d2",
   "metadata": {},
   "outputs": [
    {
     "name": "stdout",
     "output_type": "stream",
     "text": [
      "This is a class variable\n",
      "This can be overwritten\n"
     ]
    }
   ],
   "source": [
    "class MyClass:\n",
    "    classVariable = \"This is a class variable\"\n",
    "    \n",
    "    def classMethod(self):\n",
    "        return \"Hello Class World\"\n",
    "    \n",
    "    def anotherClassMethod(self):\n",
    "        return self.classVariable\n",
    "    \n",
    "classInstance = MyClass()\n",
    "\n",
    "print(classInstance.anotherClassMethod())\n",
    "\n",
    "classInstance.classVariable = \"This can be overwritten\"\n",
    "\n",
    "print(classInstance.anotherClassMethod())"
   ]
  },
  {
   "cell_type": "markdown",
   "id": "b667b904",
   "metadata": {},
   "source": [
    "#### Instance Variables\n",
    "Every instance of a class can also have their own variables - *instance variables* - associated to them. They are created like local variables and only associated with that instance\n"
   ]
  },
  {
   "cell_type": "code",
   "execution_count": 5,
   "id": "8fb7e124",
   "metadata": {
    "scrolled": true
   },
   "outputs": [
    {
     "name": "stdout",
     "output_type": "stream",
     "text": [
      "0\n",
      "1\n",
      "0\n"
     ]
    }
   ],
   "source": [
    "class MyClass:\n",
    "    classVariable = \"This is a class variable\"\n",
    "    \n",
    "    def startCounter(self):\n",
    "        self.counter = 0\n",
    "    \n",
    "    def increaseCounter(self):\n",
    "        self.counter += 1\n",
    "\n",
    "classInstance = MyClass()\n",
    "\n",
    "#print(classInstance.counter) # this will fail\n",
    "\n",
    "classInstance.startCounter()\n",
    "print(classInstance.counter)\n",
    "\n",
    "classInstance.increaseCounter()\n",
    "print(classInstance.counter)\n",
    "\n",
    "classInstance.secondCounter = 0  # Instance Variables can also be created from outside the class\n",
    "print(classInstance.secondCounter)"
   ]
  },
  {
   "cell_type": "markdown",
   "id": "e6c96c16",
   "metadata": {},
   "source": [
    "### Initialization\n",
    "The most important instance variables are usually assigned on initialization. For this purpose, there is a special function for classes, the *\\__init\\__*(self,...) function. The *\\__init\\__*(self,...) function is called when the instance is first created:"
   ]
  },
  {
   "cell_type": "code",
   "execution_count": 54,
   "id": "7477db8e",
   "metadata": {},
   "outputs": [
    {
     "data": {
      "text/plain": [
       "'This is an instance variable'"
      ]
     },
     "execution_count": 54,
     "metadata": {},
     "output_type": "execute_result"
    }
   ],
   "source": [
    "class MyClass:\n",
    "    \n",
    "    def __init__(self):\n",
    "        self.instanceVariable = \"This is an instance variable\"\n",
    "    \n",
    "    def classMethod(self):\n",
    "        return \"Hello Class World\"\n",
    "    \n",
    "    def anotherClassMethod(self):\n",
    "        return self.instanceVariable\n",
    "\n",
    "classInstance = MyClass()\n",
    "classInstance.anotherClassMethod()"
   ]
  },
  {
   "cell_type": "markdown",
   "id": "f9a3c488",
   "metadata": {},
   "source": [
    "The *\\__init\\__* function is called the *constructor* and can take a list of parameters that need to be passed on during initialization:"
   ]
  },
  {
   "cell_type": "code",
   "execution_count": 66,
   "id": "1c9b041e",
   "metadata": {},
   "outputs": [
    {
     "name": "stdout",
     "output_type": "stream",
     "text": [
      "Hey Bill\n",
      "Hey Janet\n"
     ]
    }
   ],
   "source": [
    "class Person:\n",
    "    def __init__(self, name, age):\n",
    "        self.name = name \n",
    "        self.age = age\n",
    "    \n",
    "    def call(self):\n",
    "        print(\"Hey \" + self.name)\n",
    "\n",
    "bill = Person(\"Bill\", 53)\n",
    "janet = Person(\"Janet\", 35)\n",
    "\n",
    "bill.call()\n",
    "janet.call()"
   ]
  },
  {
   "cell_type": "markdown",
   "id": "0b65d8f9",
   "metadata": {},
   "source": [
    "#### Class Variable vs Instance Variable\n",
    "Care must be taken to differentiate between class variables and instance variables. Class variables are copied on each instantiantion of a class, while instance variables are created from scratch. This can have unintended effects for mutable variables, because their copies are *shallow*, i.e. they are copied by reference:"
   ]
  },
  {
   "cell_type": "code",
   "execution_count": 41,
   "id": "61c1b898",
   "metadata": {},
   "outputs": [
    {
     "data": {
      "text/plain": [
       "['Yoga', 'Boxing']"
      ]
     },
     "execution_count": 41,
     "metadata": {},
     "output_type": "execute_result"
    }
   ],
   "source": [
    "class Person:\n",
    "    hobbies = []   # here, hobbies is defined as a class variable\n",
    "    \n",
    "    def __init__(self, name):\n",
    "        self.name = name\n",
    "        \n",
    "    def addHobby(self, hobby):\n",
    "        self.hobbies.append(hobby)\n",
    "\n",
    "\n",
    "bill = Person(\"Bill\")\n",
    "bill.addHobby(\"Yoga\")\n",
    "janet = Person(\"Janet\")\n",
    "janet.addHobby(\"Boxing\")\n",
    "\n",
    "bill.hobbies"
   ]
  },
  {
   "cell_type": "code",
   "execution_count": 40,
   "id": "e29228d0",
   "metadata": {},
   "outputs": [
    {
     "data": {
      "text/plain": [
       "['Yoga']"
      ]
     },
     "execution_count": 40,
     "metadata": {},
     "output_type": "execute_result"
    }
   ],
   "source": [
    "class Person:\n",
    "    \n",
    "    def __init__(self, name):\n",
    "        self.name = name\n",
    "        self.hobbies = []  # declare hobbies as an instance variable instead\n",
    "\n",
    "    def addHobby(self, hobby):\n",
    "        self.hobbies.append(hobby)\n",
    "\n",
    "\n",
    "bill = Person(\"Bill\")\n",
    "bill.addHobby(\"Yoga\")\n",
    "janet = Person(\"Janet\")\n",
    "janet.addHobby(\"Boxing\")\n",
    "\n",
    "bill.hobbies"
   ]
  },
  {
   "cell_type": "markdown",
   "id": "cda17f1c",
   "metadata": {},
   "source": [
    "#### Printing\n",
    "To simplify output, the classes can define a function that returns a string to represent that object. This is the *\\__str\\__* function:"
   ]
  },
  {
   "cell_type": "code",
   "execution_count": 7,
   "id": "2a4566fc",
   "metadata": {
    "scrolled": true
   },
   "outputs": [
    {
     "name": "stdout",
     "output_type": "stream",
     "text": [
      "Chihiro, 10\n"
     ]
    }
   ],
   "source": [
    "class Person:\n",
    "    def __init__(self, name, age):\n",
    "        self.name = name      # creates an instance variable\n",
    "        self.age = age\n",
    "    \n",
    "    def __str__(self):\n",
    "        return self.name + \", \" + str(self.age)\n",
    "\n",
    "chihiro = Person(\"Chihiro\", 10)\n",
    "\n",
    "print(chihiro)"
   ]
  },
  {
   "cell_type": "markdown",
   "id": "64958bc6",
   "metadata": {},
   "source": [
    "Another function for a similar purpose is *\\__repr\\__*, the representation. It is internally used when outputting lists for example"
   ]
  },
  {
   "cell_type": "code",
   "execution_count": 9,
   "id": "773b630a",
   "metadata": {
    "scrolled": false
   },
   "outputs": [
    {
     "name": "stdout",
     "output_type": "stream",
     "text": [
      "[Person: Bill, Person: Janet, Person: Chihiro]\n"
     ]
    }
   ],
   "source": [
    "class Person:\n",
    "    def __init__(self, name, age):\n",
    "        self.name = name      # creates an instance variable\n",
    "        self.age = age\n",
    "    \n",
    "    def __str__(self):\n",
    "        return self.name + \", \" + str(self.age)\n",
    "    \n",
    "    def __repr__(self):\n",
    "        return \"Person: \" + self.name\n",
    "\n",
    "people = [Person(\"Bill\", 53), Person(\"Janet\", 35), Person(\"Chihiro\", 10)]\n",
    "\n",
    "print(people)"
   ]
  },
  {
   "cell_type": "markdown",
   "id": "093b55b4",
   "metadata": {},
   "source": [
    "#### Task 1\n",
    "Make a class modeling a car with the attributes *model*, *cost*, *fuel efficiency* (km/liter), *condition*, and *mileage*. The *condition* is supposed to model the status of the car in terms of functionality, which of course diminishes over time. Implement a sensible *\\__init\\__* function and additional functions:\n",
    " - Drive: Takes distance and fuel price as an input. The distance is added to the mileage. It also prints an estimate of the fuel cost and adds it to the total cost. The condition of the car deteriorates at a rate of (1%/1000km). If this drops below 0% the car stops working.\n",
    " - Repair: The car is taken to the garage. The condition is set back to 100% at a cost of 100€/1%. The cost is printed and added to the total cost.\n",
    " - ProjectedLifetimeCost: Outputs the mileage and total cost of the car\n",
    " - Honk: Honks at the user\n",
    " \n",
    "If you were to buy a new green Toyota Imaginaris (cost 20k€) with a fuel efficiency of 0.05L/km what would be the approximated cost after driving for 10^5 km?\n",
    " And for the newer version Toyota Imaginaris^2 with 0.04L/km?"
   ]
  },
  {
   "cell_type": "code",
   "execution_count": 26,
   "id": "22151a3d",
   "metadata": {},
   "outputs": [
    {
     "name": "stdout",
     "output_type": "stream",
     "text": [
      "Drove the car  1000 km for  100.0\n",
      "Repaired the car for  100.00000000000009\n",
      "Mileage  1000.0  at a cost of  20200.0\n",
      "honk honk\n",
      "Drove the car  101000.0 km for  8080.0\n",
      "Car is dead\n",
      "Can't drive a dead car\n",
      "Repaired the car for  10100.0\n",
      "Mileage  101000.0  at a cost of  38180.0\n",
      "honk honk\n"
     ]
    }
   ],
   "source": [
    "class Car:\n",
    "    maintenanceCost = 100/0.01\n",
    "    deteriorationRate = 0.01/1000\n",
    "    \n",
    "    def __init__(self, model, cost, fuel_efficiency, condition=1., mileage=0.):\n",
    "        self.model = model\n",
    "        self.cost = cost\n",
    "        self.fuel_efficiency = fuel_efficiency\n",
    "        self.condition = condition\n",
    "        self.mileage = mileage\n",
    "    \n",
    "    def drive(self, distance, fuel_price):\n",
    "        if self.condition <= 0:\n",
    "            print(\"Can't drive a dead car\")\n",
    "            return\n",
    "        self.mileage += distance\n",
    "        cost = fuel_price * distance * self.fuel_efficiency\n",
    "        print(\"Drove the car \", distance, \"km for \", cost)\n",
    "        self.cost += cost\n",
    "        self.condition -= self.deteriorationRate*distance\n",
    "        if self.condition <= 0:\n",
    "            print('Car is dead')\n",
    "    \n",
    "    def repair(self):\n",
    "        cost = self.maintenanceCost*(1.- self.condition)\n",
    "        print(\"Repaired the car for \", cost)\n",
    "        self.cost += cost\n",
    "        self.condition = 1.\n",
    "        \n",
    "    def projectedLifetimeCost(self):\n",
    "        print(\"Mileage \", self.mileage, \" at a cost of \", self.cost)\n",
    "    \n",
    "    def honk(self):\n",
    "        print('honk honk')\n",
    "\n",
    "ToyotaIm = Car(\"Toyota Imaginaris\", 2e4, 0.05)\n",
    "ToyotaIm.drive(1000, 2)\n",
    "ToyotaIm.repair()\n",
    "ToyotaIm.projectedLifetimeCost()\n",
    "ToyotaIm.honk()\n",
    "ToyotaIm2 = Car(\"Toyota Imaginaris^2\", 2e4, 0.04)\n",
    "ToyotaIm2.drive(1.01e5, 2)\n",
    "ToyotaIm2.drive(1.01e5, 2)\n",
    "ToyotaIm2.repair()\n",
    "ToyotaIm2.projectedLifetimeCost()\n",
    "ToyotaIm2.honk()"
   ]
  },
  {
   "cell_type": "markdown",
   "id": "d8f1af27",
   "metadata": {},
   "source": [
    "### Why use classes?\n",
    "- Enables encapsulation: Bind together data and code that manipulates the data in the same place\n",
    "- Brings structure into the code, and allows *real-world mapping*\n",
    "- Polymorphism -> See the following"
   ]
  },
  {
   "cell_type": "markdown",
   "id": "752ad198",
   "metadata": {},
   "source": [
    "## Namespaces ?"
   ]
  },
  {
   "cell_type": "markdown",
   "id": "a42558ef",
   "metadata": {},
   "source": [
    "## Inheritance"
   ]
  },
  {
   "cell_type": "markdown",
   "id": "fe316f66",
   "metadata": {},
   "source": [
    "In object-oriented programming, inheritance describes the process of basing a class on another class' implemententation, thus *inheriting* its properties. \n",
    "The child class inherits all variables and methods from the parent class and can expand on them."
   ]
  },
  {
   "cell_type": "code",
   "execution_count": 95,
   "id": "5b37a51b",
   "metadata": {},
   "outputs": [
    {
     "name": "stdout",
     "output_type": "stream",
     "text": [
      "This is set in A\n",
      "This is set in B\n",
      "A new function\n"
     ]
    }
   ],
   "source": [
    "class A:\n",
    "    text = \"This is set in A\"\n",
    "    \n",
    "    def f(self):\n",
    "        print(self.text)\n",
    "    \n",
    "\n",
    "class B(A):\n",
    "    text = \"This is set in B\"\n",
    "    \n",
    "    def g(self):\n",
    "        print(\"A new function\")\n",
    "\n",
    "a = A()\n",
    "a.f()\n",
    "b = B()\n",
    "b.f()\n",
    "b.g()"
   ]
  },
  {
   "cell_type": "markdown",
   "id": "1597d774",
   "metadata": {},
   "source": [
    "The child class can also override functions from their parent class:"
   ]
  },
  {
   "cell_type": "code",
   "execution_count": 108,
   "id": "a05426c8",
   "metadata": {},
   "outputs": [
    {
     "name": "stdout",
     "output_type": "stream",
     "text": [
      "Parent function\n",
      "Child function\n",
      "Parent function\n"
     ]
    }
   ],
   "source": [
    "class A:\n",
    "    def f(self):\n",
    "        print(\"Parent function\")\n",
    "    \n",
    "\n",
    "class B(A):\n",
    "    def f(self):\n",
    "        print(\"Child function\")\n",
    "\n",
    "a = A()\n",
    "b = B()\n",
    "\n",
    "a.f()\n",
    "b.f()\n",
    "\n",
    "A.f(b)        # This calls the function in the parent class for b"
   ]
  },
  {
   "cell_type": "markdown",
   "id": "8453e0a8",
   "metadata": {},
   "source": [
    "The overwritten function can still be accessed from inside the child class"
   ]
  },
  {
   "cell_type": "code",
   "execution_count": 111,
   "id": "7dd68210",
   "metadata": {},
   "outputs": [
    {
     "name": "stdout",
     "output_type": "stream",
     "text": [
      "Parent function\n",
      "Child function\n"
     ]
    }
   ],
   "source": [
    "class A:\n",
    "    def f(self):\n",
    "        print(\"Parent function\")\n",
    "    \n",
    "\n",
    "class B(A):\n",
    "    def f(self):\n",
    "        super().f()\n",
    "        print(\"Child function\")\n",
    "    \n",
    "    def g(self):\n",
    "        super().f()\n",
    "\n",
    "b = B()\n",
    "b.f()"
   ]
  },
  {
   "cell_type": "markdown",
   "id": "744925a2",
   "metadata": {},
   "source": [
    "This is especially useful when initializing an object"
   ]
  },
  {
   "cell_type": "code",
   "execution_count": 114,
   "id": "11118ca3",
   "metadata": {},
   "outputs": [
    {
     "name": "stdout",
     "output_type": "stream",
     "text": [
      "abc def\n"
     ]
    }
   ],
   "source": [
    "class A:\n",
    "    def __init__(self, text):\n",
    "        self.text = text\n",
    "    #...\n",
    "class B(A):\n",
    "    def __init__(self, text, moreText):\n",
    "        super().__init__(text)\n",
    "        self.moreText = moreText\n",
    "\n",
    "b = B(\"abc\", \"def\")\n",
    "print(b.text, b.moreText)"
   ]
  },
  {
   "cell_type": "markdown",
   "id": "122f5c3f",
   "metadata": {},
   "source": [
    "### Why use inheritance?"
   ]
  },
  {
   "cell_type": "markdown",
   "id": "2380799c",
   "metadata": {},
   "source": [
    "- Code Reusability\n",
    "- Enables Subtyping (IsA relation): Dog > Mammal > Animal\n",
    "- Logical Hierarchy\n",
    "- Use Polymorphism: Calling code is agnostic to the specific implementation"
   ]
  },
  {
   "cell_type": "markdown",
   "id": "994eb705",
   "metadata": {},
   "source": [
    "## Example: Dark Matter Halos"
   ]
  },
  {
   "cell_type": "code",
   "execution_count": 8,
   "id": "e2908ddb",
   "metadata": {},
   "outputs": [],
   "source": [
    "import numpy as np\n",
    "import matplotlib.pyplot as plt\n",
    "from scipy.integrate import quad"
   ]
  },
  {
   "cell_type": "code",
   "execution_count": 9,
   "id": "8bdd288c",
   "metadata": {},
   "outputs": [
    {
     "data": {
      "image/png": "[encoded data removed]",
      "text/plain": [
       "<Figure size 432x288 with 1 Axes>"
      ]
     },
     "metadata": {
      "needs_background": "light"
     },
     "output_type": "display_data"
    }
   ],
   "source": [
    "class DMHalo:\n",
    "    def __init__(self, rho_0):\n",
    "        self.rho_0 = rho_0\n",
    "    \n",
    "    def density(self, r):\n",
    "        return self.rho_0 * np.ones(np.shape(r))\n",
    "    \n",
    "    def mass(self, r):\n",
    "        integrand = lambda r: r**2 *self.density(r)\n",
    "        m_0 = quad(integrand, 0., r[0])[0]\n",
    "        subIntervals = [quad(integrand, r[i-1], r[i])[0] if i > 0 else m_0 for i in range(len(r))]\n",
    "        return 4.*np.pi*(np.cumsum(subIntervals))\n",
    "\n",
    "def plotHalo(halo):\n",
    "    r = np.geomspace(1, 1e5)\n",
    "    l = plt.loglog(r, halo.density(r))\n",
    "    plt.loglog(r, halo.mass(r), linestyle='--', color=l[0].get_c())\n",
    "\n",
    "plotHalo(DMHalo(1))\n",
    "plotHalo(DMHalo(10))\n",
    "plt.grid(); plt.show()"
   ]
  },
  {
   "cell_type": "code",
   "execution_count": 10,
   "id": "3be579d3",
   "metadata": {},
   "outputs": [
    {
     "data": {
      "image/png": "[encoded data removed]",
      "text/plain": [
       "<Figure size 432x288 with 1 Axes>"
      ]
     },
     "metadata": {
      "needs_background": "light"
     },
     "output_type": "display_data"
    }
   ],
   "source": [
    "class NFW(DMHalo):\n",
    "    def __init__(self, rho_0, r_s):\n",
    "        super().__init__(rho_0)\n",
    "        self.r_s = r_s\n",
    "    \n",
    "    def density(self, r):\n",
    "        return self.rho_0 / (r/self.r_s) / (1. + r/self.r_s)**2\n",
    "    \n",
    "\n",
    "plotHalo(NFW(10, 1e3))\n",
    "plotHalo(NFW(5, 1e4))\n",
    "plt.grid(); plt.show()"
   ]
  },
  {
   "cell_type": "code",
   "execution_count": 11,
   "id": "7ce08707",
   "metadata": {},
   "outputs": [
    {
     "data": {
      "image/png": "[encoded data removed]",
      "text/plain": [
       "<Figure size 432x288 with 1 Axes>"
      ]
     },
     "metadata": {
      "needs_background": "light"
     },
     "output_type": "display_data"
    }
   ],
   "source": [
    "class SpikedNFW(NFW):\n",
    "    def __init__(self, rho_s, r_s, r_spike, alpha):\n",
    "        super().__init__(rho_s, r_s)\n",
    "        self.alpha = alpha\n",
    "        self.r_spike = r_spike\n",
    "        self.rho_spike = rho_s * r_s/r_spike / (1.+r_spike/r_s)**2\n",
    "    \n",
    "    def density(self, r):\n",
    "        return np.where( r < self.r_spike, \\\n",
    "                           self.rho_spike * (self.r_spike/r)**self.alpha, \\\n",
    "                        super().density(r))\n",
    "\n",
    "plotHalo(SpikedNFW(10, 1e4, 1e2, 7./3.))\n",
    "plt.grid(); plt.show()"
   ]
  },
  {
   "cell_type": "markdown",
   "id": "226eb442",
   "metadata": {},
   "source": [
    "#### Task 2\n",
    "Implement a mass function inside the classes and plot it alongside the density profile."
   ]
  }
 ],
 "metadata": {
  "kernelspec": {
   "display_name": "Python 3",
   "language": "python",
   "name": "python3"
  },
  "language_info": {
   "codemirror_mode": {
    "name": "ipython",
    "version": 3
   },
   "file_extension": ".py",
   "mimetype": "text/x-python",
   "name": "python",
   "nbconvert_exporter": "python",
   "pygments_lexer": "ipython3",
   "version": "3.8.5"
  }
 },
 "nbformat": 4,
 "nbformat_minor": 5
}
