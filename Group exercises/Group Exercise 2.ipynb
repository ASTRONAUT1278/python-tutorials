{
 "cells": [
  {
   "cell_type": "markdown",
   "metadata": {},
   "source": [
    "Let's consider a binary system of two compact objects, such as neutron stars or black holes. We assume them to be point-like and their orbit to be circular. The objects have the masses $m_1$ and $m_2$.\n",
    "\n",
    "A certain combination of the objects' masses is the so-called chirp mass.\n",
    "\n",
    "$$ M_{chirp} = \\frac{(m_1 m_2)^{3/5}}{(m_1 + m_2)^{1/5}} $$\n",
    "\n",
    "The chirp mass is related to the frequency of the gravitational wave $f_{GW}$ that is emitted by the binary system. Over time, the emission of gravitational waves leads to the loss of energy, which results in the objects to inspiral and finally merge. At the same time, the frequency of the gravitational waves increases.\n",
    "\n",
    "Its time derivative can be written as\n",
    "\n",
    "$$ \\frac{d f_{GW}}{dt} = \\frac{96}{5} \\pi^{8/3} \\left( \\frac{G M_{chirp}}{c^3} \\right)^{5/3} f_{GW}^{11/3}, $$\n",
    "\n",
    "where $G$ is the gravitational constant and $c$ the speed of light.\n",
    "\n",
    "#### Task\n",
    "Use the given data (the arrays for the time $t$ and amplitude $h_{plus}$ of the GW) from a gravitational wave signal. Extract the frequency at at least thousand points and compute its derivative numerically. Derive the chirp mass using the frequency and its derivative.\n",
    "\n",
    "#### Instructions\n",
    "1. First, we have to find the maxima of the array 'h_plus' and store them in a new array 'max_h' (the frequency can then be derived as the difference between two maxima). Keep in mind that it might be useful to also extract the time at the maximum from the array 't' and store it in another array 'time_at_max'.\n",
    "2. Create an array for the frequencies 'freq' and append the frequency values as the differences between two maxima (two consecutive data points in the array created before). At the same time, create a new array 'time' for the time and append the mean value of the two points in time that belong to the maxima.\n",
    "3. Calculate the numerical derivative of the frequency using $np.gradient(freq,time)$ and store the result in a new array 'deriv_freq'.\n",
    "4. Define a function that calculates the chirp mass from the input parameters 'frequency' and 'frequency derivative'.\n",
    "5. Loop over all pairs of (frequency, frequency derivative) to calculate the respective values for the chirp mass. Store the results in an array.\n",
    "6. Calculate the final result for the chirp mass as the mean value of the before created array."
   ]
  },
  {
   "cell_type": "code",
   "execution_count": 2,
   "metadata": {},
   "outputs": [
    {
     "data": {
      "image/png": "[encoded data removed]",
      "text/plain": [
       "<Figure size 432x288 with 1 Axes>"
      ]
     },
     "metadata": {
      "needs_background": "light"
     },
     "output_type": "display_data"
    }
   ],
   "source": [
    "import numpy as np\n",
    "import matplotlib.pyplot as plt\n",
    "\n",
    "# This code gives us the data of the GW signal!\n",
    "# define necessary constants\n",
    "G = 1.3274648756e11  # km^3/s^2 /M_sun\n",
    "c = 2.99792458e5     # km/s\n",
    "\n",
    "# initialize parameters\n",
    "m_1 = 1.4            # mass of first merging object (in M_sun)\n",
    "m_2 = 1.4            # mass of second merging object (in M_sun)\n",
    "d   = 3.086e16       # distance to merger, corresponds to 1 kpc (in km)\n",
    "R_0 = 1e3            # initial orbital radius (in km)\n",
    "f_min = 100          # minimum observable frequency of LIGO (in Hz)\n",
    "\n",
    "# chirp mass of the system\n",
    "m_chirp = ((m_1*m_2)**(3.0/5.0))/((m_1 + m_2)**(1.0/5.0))\n",
    "\n",
    "# time until coalescense (idealized of course)\n",
    "t_coal = (5.0/256.0)*(c**5.0)*((R_0**4.0)/((G**3.0)*m_1*m_2*(m_1 + m_2)))\n",
    "\n",
    "# create array with time steps\n",
    "t = np.arange(0.0, t_coal, step = 1.0/f_min)\n",
    "\n",
    "# calculate phase of GW\n",
    "phase = - 2.0*(((5.0*G*m_chirp)/(c**3.0))**(-5.0/8.0))*((t_coal - t)**(5.0/8.0))\n",
    "phase -= phase[0]\n",
    "\n",
    "# calculate amplitude of GW\n",
    "h_plus = (4.0/d)*(((G*m_chirp)/(c**2.0))**(5.0/4.0))*((5.0/(t_coal - t))**(1.0/4.0))*np.cos(phase)\n",
    "\n",
    "# plot the GW signal\n",
    "plt.plot(t, h_plus, color = 'red', label = r'$h_+$')\n",
    "plt.xlabel(r'time $t$ [s]')\n",
    "plt.ylabel(r'amplitude $h_+$')\n",
    "plt.xscale('log')\n",
    "plt.legend(loc = 'lower left', fontsize = 8)\n",
    "plt.show()"
   ]
  },
  {
   "cell_type": "code",
   "execution_count": null,
   "metadata": {},
   "outputs": [],
   "source": []
  }
 ],
 "metadata": {
  "kernelspec": {
   "display_name": "Python 3",
   "language": "python",
   "name": "python3"
  },
  "language_info": {
   "codemirror_mode": {
    "name": "ipython",
    "version": 3
   },
   "file_extension": ".py",
   "mimetype": "text/x-python",
   "name": "python",
   "nbconvert_exporter": "python",
   "pygments_lexer": "ipython3",
   "version": "3.7.6"
  }
 },
 "nbformat": 4,
 "nbformat_minor": 4
}
