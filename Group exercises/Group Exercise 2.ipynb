{
 "cells": [
  {
   "cell_type": "markdown",
   "metadata": {},
   "source": [
    "# Group exercise 2: Binary Compact Objects\n",
    "\n",
    "Let us consider a binary system of two compact objects, such as neutron stars or black holes. We assume them to be point-like and their orbit to be circular. The objects have the masses $m_1$ and $m_2$.\n",
    "\n",
    "A certain combination of the objects' masses is the so-called chirp mass.\n",
    "\n",
    "$$ M_{chirp} = \\frac{(m_1 m_2)^{3/5}}{(m_1 + m_2)^{1/5}} $$\n",
    "\n",
    "The chirp mass is related to the frequency of gravitational waves $f_{GW}$ that are emitted by the binary system. Over time, the emission of gravitational waves leads to a loss of energy, which results in the objects inspiraling and finally merging. At the same time, the frequency of the gravitational waves increases.\n",
    "\n",
    "The time derivative of the frequency can be written as\n",
    "\n",
    "$$ \\frac{d f_{GW}}{dt} = \\frac{96}{5} \\pi^{8/3} \\left( \\frac{G M_{chirp}}{c^3} \\right)^{5/3} f_{GW}^{11/3}, $$\n",
    "\n",
    "where $G$ is the gravitational constant and $c$ the speed of light.\n",
    "\n",
    "## Exercise Goals\n",
    "\n",
    "Use the data given below from a gravitational wave signal, which includes arrays for the time $t$ and amplitude $h_{plus}$ of the GWs. Compute the gravitational wave frequency at more than one thousand points and compute the derivative of the frequency with respect to time numerically. Lastly, determine the chirp mass using the frequency and its derivative.\n",
    "\n",
    "Detailed instructions follow the code block below."
   ]
  },
  {
   "cell_type": "code",
   "execution_count": 1,
   "metadata": {},
   "outputs": [
    {
     "data": {
      "image/png": "[encoded data removed]",
      "text/plain": [
       "<Figure size 432x288 with 1 Axes>"
      ]
     },
     "metadata": {
      "needs_background": "light"
     },
     "output_type": "display_data"
    }
   ],
   "source": [
    "import numpy as np\n",
    "import matplotlib.pyplot as plt\n",
    "\n",
    "# This code gives us the data of the GW signal!\n",
    "# define necessary constants\n",
    "G = 1.3274648756e11  # km^3/s^2 /M_sun\n",
    "c = 2.99792458e5     # km/s\n",
    "\n",
    "# initialize parameters\n",
    "m_1 = 1.4            # mass of first merging object (in M_sun)\n",
    "m_2 = 1.4            # mass of second merging object (in M_sun)\n",
    "d   = 3.086e16       # distance to merger, corresponds to 1 kpc (in km)\n",
    "R_0 = 1e3            # initial orbital radius (in km)\n",
    "f_min = 100          # minimum observable frequency of LIGO (in Hz)\n",
    "\n",
    "# chirp mass of the system\n",
    "m_chirp = ((m_1*m_2)**(3.0/5.0))/((m_1 + m_2)**(1.0/5.0))\n",
    "\n",
    "# time until coalescense (idealized of course)\n",
    "t_coal = (5.0/256.0)*(c**5.0)*((R_0**4.0)/((G**3.0)*m_1*m_2*(m_1 + m_2)))\n",
    "\n",
    "# create array with time steps\n",
    "t = np.arange(0.0, t_coal, step = 1.0/f_min)\n",
    "\n",
    "# calculate phase of GW\n",
    "phase = - 2.0*(((5.0*G*m_chirp)/(c**3.0))**(-5.0/8.0))*((t_coal - t)**(5.0/8.0))\n",
    "phase -= phase[0]\n",
    "\n",
    "# calculate amplitude of GW\n",
    "h_plus = (4.0/d)*(((G*m_chirp)/(c**2.0))**(5.0/4.0))*((5.0/(t_coal - t))**(1.0/4.0))*np.cos(phase)\n",
    "\n",
    "# plot the GW signal\n",
    "plt.plot(t, h_plus, color = 'red', label = r'$h_+$')\n",
    "plt.xlabel(r'time $t$ [s]')\n",
    "plt.ylabel(r'amplitude $h_+$')\n",
    "plt.xscale('log')\n",
    "plt.legend(loc = 'lower left', fontsize = 8)\n",
    "plt.show()"
   ]
  },
  {
   "cell_type": "markdown",
   "metadata": {},
   "source": [
    "## Step 1\n",
    "\n",
    "First, we have to find maxima of the array 'h_plus' and store them in a new array 'max_h' (the frequency can then be derived as the difference between two maxima). Keep in mind that it might be useful to also extract the time at the maximum from the array 't' and store it in another array 'time_at_max'."
   ]
  },
  {
   "cell_type": "code",
   "execution_count": 2,
   "metadata": {},
   "outputs": [],
   "source": [
    "# Code to determine the locations of the maxima in h_plus\n",
    "max_h = ...\n",
    "time_at_max = ..."
   ]
  },
  {
   "cell_type": "markdown",
   "metadata": {},
   "source": [
    "## Step 2\n",
    "\n",
    "Create an array for the frequencies 'freq'. Compute this by noting that a period is given by the difference between two maxima (two consecutive data points in the array created before). At the same time, create a new array 'time' for the time and append the mean value of the two points in time that belong to the maxima."
   ]
  },
  {
   "cell_type": "code",
   "execution_count": 3,
   "metadata": {},
   "outputs": [],
   "source": [
    "# Code to compute the frequency of the signal\n",
    "freq = ..."
   ]
  },
  {
   "cell_type": "markdown",
   "metadata": {},
   "source": [
    "## Step 3\n",
    "\n",
    "Calculate the numerical derivative of the frequency using `np.gradient(freq,time)` and store the result in a new array 'deriv_freq'."
   ]
  },
  {
   "cell_type": "code",
   "execution_count": 4,
   "metadata": {},
   "outputs": [],
   "source": [
    "# Code to compute the frequency derivative\n",
    "deriv_freq = ..."
   ]
  },
  {
   "cell_type": "markdown",
   "metadata": {},
   "source": [
    "## Step 4\n",
    "\n",
    "Define a function that calculates the chirp mass from the input parameters 'frequency' and 'frequency derivative'."
   ]
  },
  {
   "cell_type": "code",
   "execution_count": 5,
   "metadata": {},
   "outputs": [],
   "source": [
    "def chirp_mass(freq, deriv_freq) :\n",
    "    # Compute the chirp mass given a frequency and its derivative\n",
    "    return ..."
   ]
  },
  {
   "cell_type": "markdown",
   "metadata": {},
   "source": [
    "## Step 5\n",
    "\n",
    "Loop over all pairs of (frequency, frequency derivative) to calculate the respective values for the chirp mass. Store the results in an array. Calculate the final result for the chirp mass as the mean value of the before created array.\n",
    "\n",
    "*Note: Similar to what was encountered in the first python exercise, if you supply numpy arrays to the `chirp_mass` function, you may not need to use a loop.*"
   ]
  },
  {
   "cell_type": "code",
   "execution_count": 6,
   "metadata": {},
   "outputs": [],
   "source": [
    "# Code to compute chirp mass values\n"
   ]
  }
 ],
 "metadata": {
  "kernelspec": {
   "display_name": "Python 3",
   "language": "python",
   "name": "python3"
  },
  "language_info": {
   "codemirror_mode": {
    "name": "ipython",
    "version": 3
   },
   "file_extension": ".py",
   "mimetype": "text/x-python",
   "name": "python",
   "nbconvert_exporter": "python",
   "pygments_lexer": "ipython3",
   "version": "3.8.10"
  }
 },
 "nbformat": 4,
 "nbformat_minor": 4
}
