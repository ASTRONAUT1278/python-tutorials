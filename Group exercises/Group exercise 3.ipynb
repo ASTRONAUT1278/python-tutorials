{
 "cells": [
  {
   "cell_type": "markdown",
   "id": "38b6c1a5",
   "metadata": {},
   "source": [
    "# Neutron star with constant density\n",
    "\n",
    "Any integration problem can also be formulated in a system of odes. This exercise encourages you to do so. \n",
    "\n",
    "Schwarzchild solution of the relativistic star with uniform density is\n",
    "\n",
    "$$\\frac{dp}{dr}= \\frac{4\\pi}{3} G \\rho^2 r, --> {\\rm hydrostatic\\ equilibrium}\\\\\n",
    "m(r)=\\frac{4\\pi}{3}\\rho r^3, \\quad --> {\\rm Mass\\ equation*} $$\n",
    "\n",
    "where $p(r) =$ pressure, $\\rho =$ constant density, $G =$ Newton's constant, $m(r) =$ mass enclosed within a sphere of radius $r$.\n",
    "\n",
    "\n",
    "Charles W. Misner, K. S. Thorne, and J. A. Wheeler.Gravitation. W. H.Freeman, San Francisco, 1973. Chapter 23: Spherical stars.\n",
    "\n",
    "### Initial condition\n",
    "\n",
    "- $\\rho= \\rho_{0}, $ for $r<R_{\\star}$ and $\\rho= \\rho_{\\rm atm}, $ for $r>R_{\\star}$, where $R_{\\star}$ is the radius of the star, and $\\rho_{\\rm atm}$ is the density at star atmosphere.\n",
    "- Use $G=1$ \n",
    "- Initial condition for density, pressure and radius of the star:\n",
    "$\\rho_{0}=1.28e-03,\\quad \\rho_{\\rm atm}=0.0,\\quad p_{0}= 9.62e-02,\\ \\quad R_{\\star}=5.4$. \n",
    "\n",
    "### Task\n",
    "\n",
    "- Solve ODE for pressure using `solve_ivp` in the radial domain $r\\in [0,6]$ with resolution $dr=$1.e-2.\n",
    "- Compute the total mass of the star $M=m(R)$.\n",
    "- Show the plot for density and pressure (in the same figure), include the mass and radius of the star as a title of figure (top part), also include appropriate x and y labels.\n",
    "\n"
   ]
  },
  {
   "cell_type": "code",
   "execution_count": null,
   "id": "2a755bb0",
   "metadata": {},
   "outputs": [],
   "source": []
  }
 ],
 "metadata": {
  "kernelspec": {
   "display_name": "Python 3 (ipykernel)",
   "language": "python",
   "name": "python3"
  },
  "language_info": {
   "codemirror_mode": {
    "name": "ipython",
    "version": 3
   },
   "file_extension": ".py",
   "mimetype": "text/x-python",
   "name": "python",
   "nbconvert_exporter": "python",
   "pygments_lexer": "ipython3",
   "version": "3.9.12"
  }
 },
 "nbformat": 4,
 "nbformat_minor": 5
}
